{
 "cells": [
  {
   "cell_type": "markdown",
   "id": "3cef5930-c5db-4c63-b8bc-67180b8ac4d5",
   "metadata": {},
   "source": [
    "# Indexing and Slicing Strings\n"
   ]
  },
  {
   "cell_type": "code",
   "execution_count": 23,
   "id": "c8378e37-7b1e-42f2-8e9c-1c52f0ed574d",
   "metadata": {},
   "outputs": [
    {
     "name": "stdout",
     "output_type": "stream",
     "text": [
      " \n",
      "n\n",
      "d\n",
      "e\n"
     ]
    }
   ],
   "source": [
    "#quick hitters\n",
    "\n",
    "my_string = \"Be a friend, pick me up off the ground\"\n",
    "\n",
    "print(my_string[2])\n",
    "print(my_string[-2])\n",
    "print((my_string[1]+my_string[-1])[1])\n",
    "print(my_string[1][0][0][0][0])\n",
    "\n"
   ]
  },
  {
   "cell_type": "code",
   "execution_count": 14,
   "id": "44a7bdac-dc25-48c4-b9b1-c18ad3067e11",
   "metadata": {},
   "outputs": [
    {
     "name": "stdout",
     "output_type": "stream",
     "text": [
      "b\n",
      "a\n",
      "c\n",
      "k\n",
      "w\n",
      "a\n",
      "r\n",
      "d\n",
      "s\n"
     ]
    }
   ],
   "source": [
    "#self-check\n",
    "\n",
    "my_string = \"sdrawkcab\"\n",
    "for i in range(1, 10):\n",
    "    print(my_string[-i])\n"
   ]
  },
  {
   "cell_type": "code",
   "execution_count": 39,
   "id": "7d791310-cde9-4d1b-b402-7873fcdd9de1",
   "metadata": {},
   "outputs": [
    {
     "name": "stdout",
     "output_type": "stream",
     "text": [
      "B\n",
      "B\n",
      "Be a friend\n",
      "d\n",
      "nd\n",
      "d\n",
      "d\n",
      "B  red ikm poftegon\n",
      "Barn cmuo ern\n",
      "red\n"
     ]
    }
   ],
   "source": [
    "# Slicing examples\n",
    "\n",
    "my_string = \"Be a friend, pick me up off the ground\"\n",
    "\n",
    "print(my_string[0:1]) #first letter\n",
    "print(my_string[:1]) #first letter\n",
    "print(my_string[:11]) #first 11 letters (up to but not including the 11th offset)\n",
    "print(my_string[-1:]) #last letter\n",
    "print(my_string[-2:]) #last 2 letters\n",
    "print(my_string[37:]) #last letter\n",
    "print(my_string[37:len(my_string)]) #last letter\n",
    "print(my_string[::2]) #every second letter\n",
    "print(my_string[::3]) #every 3rd letter\n",
    "print(my_string[6:12:2]) #every second letter in a slice\n"
   ]
  },
  {
   "cell_type": "markdown",
   "id": "4778859a-829a-4044-ba6f-b32a86f0e518",
   "metadata": {},
   "source": [
    "## Basketball one on one\n",
    "\n",
    "- find a partner\n",
    "\n",
    "- games go to 11\n",
    "\n",
    "- must win by 2\n",
    "\n",
    "- input is a string with the player who scored (A or B) followed by the pts scored (1 or 2) giving all the points scored in the game.\n",
    "\n",
    "- output is the player who won (A or B)\n",
    "\n",
    "\n",
    "- Computational Thinking\n",
    "\n",
    "- Abstraction\n",
    "\n",
    "      - what are the necessary details?\n",
    "\n",
    "- Decomposition\n",
    "\n",
    "      - how do you know someone has won the game? Can you break that into a smaller task?\n",
    "\n",
    "- Validation\n",
    "\n",
    "      - is there a rule that you know to be true of a game?\n"
   ]
  },
  {
   "cell_type": "code",
   "execution_count": 40,
   "id": "670f65b9-e458-4841-a7c3-0307c3e37076",
   "metadata": {},
   "outputs": [],
   "source": [
    "# solution to the basketball problem\n",
    "\n",
    "game_record = \"A2A2A1A1A2A2B2B2B2B1B1B2B2\" #B wins the game\n",
    "\n",
    "# code here to determine and output the winner\n",
    "\n"
   ]
  },
  {
   "cell_type": "markdown",
   "id": "c9e6b45f-9db5-4408-bb58-a477b1e0b19a",
   "metadata": {},
   "source": [
    "# Traversing the characters of a String\n",
    "\n",
    "- use a loop"
   ]
  },
  {
   "cell_type": "code",
   "execution_count": 42,
   "id": "549983d9-718a-4214-9ff5-052954303b38",
   "metadata": {},
   "outputs": [
    {
     "name": "stdout",
     "output_type": "stream",
     "text": [
      "h\n",
      "e\n",
      "l\n",
      "l\n",
      "o\n",
      ",\n",
      " \n",
      "w\n",
      "o\n",
      "r\n",
      "l\n",
      "d\n",
      "!\n",
      "h\n",
      "e\n",
      "l\n",
      "l\n",
      "o\n",
      ",\n",
      " \n",
      "w\n",
      "o\n",
      "r\n",
      "l\n",
      "d\n",
      "!\n",
      "h\n",
      "e\n",
      "l\n",
      "l\n",
      "o\n",
      ",\n",
      " \n",
      "w\n",
      "o\n",
      "r\n",
      "l\n",
      "d\n",
      "!\n"
     ]
    }
   ],
   "source": [
    "# example traversals\n",
    "\n",
    "my_string = \"hello, world!\"\n",
    "\n",
    "# for in sequence loop\n",
    "for char in my_string:\n",
    "    print(char)\n",
    "\n",
    "# for in range( ) using [ ] index\n",
    "for i in range(len(my_string)): # note the use of len(my_string)\n",
    "    print(my_string[i])\n",
    "\n",
    "#while loop with [ ] index accessor\n",
    "count = 0\n",
    "while count < len(my_string):\n",
    "    print(my_string[count])\n",
    "    count += 1"
   ]
  },
  {
   "cell_type": "code",
   "execution_count": 45,
   "id": "7c28f07b-8800-4932-9b2e-2efcf5bb57e3",
   "metadata": {},
   "outputs": [
    {
     "name": "stdout",
     "output_type": "stream",
     "text": [
      "1\n",
      "3\n",
      "5\n",
      "7\n",
      "9\n",
      "1\n",
      "3\n",
      "5\n",
      "7\n",
      "9\n",
      "1\n",
      "3\n",
      "5\n",
      "7\n",
      "9\n"
     ]
    }
   ],
   "source": [
    "# print every 2nd letter in my_string\n",
    "\n",
    "my_string = \"1234567890\"\n",
    "\n",
    "for ch in my_string[::2]:\n",
    "    print(ch)\n",
    "\n",
    "for i in range(0,len(my_string),2):\n",
    "    print(my_string[i])\n",
    "\n",
    "count = 0\n",
    "while count < len(my_string):\n",
    "    print(my_string[count])\n",
    "    count += 2"
   ]
  },
  {
   "cell_type": "markdown",
   "id": "a530bb2c-c597-41cc-b641-7ccf35ebfcee",
   "metadata": {},
   "source": [
    "## String methods \n",
    "\n",
    "examples"
   ]
  },
  {
   "cell_type": "code",
   "execution_count": 55,
   "id": "82072b39-7d64-49ec-8efd-35af711b2719",
   "metadata": {},
   "outputs": [
    {
     "name": "stdout",
     "output_type": "stream",
     "text": [
      "upper: HELLO, WORLD!\n",
      "\n",
      "lower: hello\n",
      "\n",
      "found \"o\" at position: 4\n",
      "letter at that position: o\n",
      "\n",
      "found \"or\" at index: {index}\n",
      "characters at that position: or\n",
      "\n",
      "\"y\" not found in \"hello, world!\"\n",
      "\n",
      "removed whitespace:->leading and trailing whitespace<-\n",
      "\n",
      "replaced whitespace with empty string:->leadingandtrailingwhitespace<-\n",
      "\n"
     ]
    }
   ],
   "source": [
    "# a few examples of string methods\n",
    "\n",
    "my_string = \"hello, world!\"\n",
    "\n",
    "#convert to upper case\n",
    "upper_string = my_string.upper()\n",
    "print(f\"upper: {upper_string}\\n\")\n",
    "\n",
    "#convert to lower case\n",
    "lower = \"HELLO\".lower()\n",
    "print(f\"lower: {lower}\\n\")\n",
    "\n",
    "#find the first occurrence of letter o\n",
    "index = my_string.find(\"o\")\n",
    "print(f\"found \\\"o\\\" at position: {index}\")\n",
    "print(f\"letter at that position: {my_string[index]}\\n\")\n",
    "\n",
    "#find \"or\"\n",
    "index = my_string.find(\"or\")\n",
    "print(\"found \\\"or\\\" at index: {index}\")\n",
    "print(f\"characters at that position: {my_string[index:index+len(\"or\")]}\\n\")\n",
    "\n",
    "#find \"y\"\n",
    "index = my_string.find(\"y\") #returns -1 when the value is not found\n",
    "if index == -1:\n",
    "    print(f\"\\\"y\\\" not found in \\\"{my_string}\\\"\\n\")\n",
    "\n",
    "#strip out the leading and trailing whitespace characters\n",
    "compressed = \"    leading and trailing whitespace      \".strip() \n",
    "print(f\"removed whitespace:->{compressed}<-\\n\")\n",
    "\n",
    "further_compressed = compressed.replace(\" \", \"\")\n",
    "print(f\"replaced whitespace with empty string:->{further_compressed}<-\\n\")\n"
   ]
  },
  {
   "cell_type": "code",
   "execution_count": 61,
   "id": "ad7fc77e-9088-4d04-9476-99cf78b0bf81",
   "metadata": {},
   "outputs": [
    {
     "name": "stdout",
     "output_type": "stream",
     "text": [
      "found it\n"
     ]
    }
   ],
   "source": [
    "# in operator\n",
    "if \"cat\" in \"caterpillar\":\n",
    "    print(\"found it\")\n",
    "else:\n",
    "    print(\"oops not found\")\n",
    "\n"
   ]
  },
  {
   "cell_type": "code",
   "execution_count": 63,
   "id": "d180c5ea-129f-44b6-a10f-bb472156293e",
   "metadata": {},
   "outputs": [
    {
     "name": "stdout",
     "output_type": "stream",
     "text": [
      "it's raining, get under my bumbershoot\n"
     ]
    }
   ],
   "source": [
    "#self check what does this output?\n",
    "\n",
    "count_str = \"01234567890123456789012345678901234567\"\n",
    "my_string = \"it's raining, get under my bumbershoot\"\n",
    "my_string.replace(\"bumbershoot\",\"umbrella\")\n",
    "if \"umb\" in my_string[18:31:6]:\n",
    "    print(my_string)\n",
    "\n"
   ]
  },
  {
   "cell_type": "markdown",
   "id": "5ba2ba77-6427-489c-a794-8724ed1c0eed",
   "metadata": {},
   "source": [
    "# Try at Home\n",
    "\n",
    "- print all of the letters that are in common between two strings\n",
    "- beat the simon says game\n",
    "      - in simon says: \"simon\" barks instructions at the contestants but if his instructions do not start with \"Simon says\" the participate is supposed to do nothing.  \n",
    "      - example if the instruction is \"Simon says do a backflip and land on your head\" your program should output \"do a backflip and land on your head\". If the instruction is \"do a backflip and land on your head\" your program should output \"do nothing\"\n",
    "\n",
    "- print all of the letters from a string in reverse order (one letter on each line) use while and for in sequence loops\n"
   ]
  },
  {
   "cell_type": "code",
   "execution_count": 58,
   "id": "b9fb5f48-bfbb-42b2-b3d6-a1bf66d2d5fb",
   "metadata": {},
   "outputs": [],
   "source": [
    "# common letters\n",
    "\n",
    "string1 = \"hullaballoo\"\n",
    "string2 = \"honolulu\"\n",
    "\n",
    "#print the letters that are in both strings \n",
    "\n"
   ]
  },
  {
   "cell_type": "code",
   "execution_count": 60,
   "id": "a39a52d7-4d31-4246-9e4a-f1d4f6d2ac01",
   "metadata": {},
   "outputs": [],
   "source": [
    "# simon says\n",
    "\n",
    "#instruction\n",
    "\n",
    "instruction = \"Simon says do a backflip\" #output should be \"do a backflip\"\n",
    "#alternative instruction\n",
    "#instruction = \"open your mouth and yell Simon says\" #output should be \"do nothing\"\n",
    "\n",
    "#your code here to output the correct action\n",
    "\n"
   ]
  },
  {
   "cell_type": "code",
   "execution_count": null,
   "id": "47ae52e9-b67c-4e3f-9630-41929cd2c35b",
   "metadata": {},
   "outputs": [],
   "source": [
    "# print all of the letters from a string in reverse order \n",
    "\n",
    "my_string = \"Madam, I'm Adam\" \n",
    "\n",
    "#while loop\n",
    "\n",
    "\n",
    "\n",
    "#for in sequence loop\n",
    "\n",
    "\n"
   ]
  }
 ],
 "metadata": {
  "kernelspec": {
   "display_name": "Python 3 (ipykernel)",
   "language": "python",
   "name": "python3"
  },
  "language_info": {
   "codemirror_mode": {
    "name": "ipython",
    "version": 3
   },
   "file_extension": ".py",
   "mimetype": "text/x-python",
   "name": "python",
   "nbconvert_exporter": "python",
   "pygments_lexer": "ipython3",
   "version": "3.12.7"
  }
 },
 "nbformat": 4,
 "nbformat_minor": 5
}
