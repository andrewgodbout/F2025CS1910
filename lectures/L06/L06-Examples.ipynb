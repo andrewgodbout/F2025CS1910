{
  "cells": [
    {
      "cell_type": "markdown",
      "metadata": {
        "id": "view-in-github",
        "colab_type": "text"
      },
      "source": [
        "<a href=\"https://colab.research.google.com/github/andrewgodbout/F2025CS1910/blob/main/lectures/L06/L06-Examples.ipynb\" target=\"_parent\"><img src=\"https://colab.research.google.com/assets/colab-badge.svg\" alt=\"Open In Colab\"/></a>"
      ]
    },
    {
      "cell_type": "markdown",
      "id": "4840131a-833a-47e5-85aa-0ab01a16175a",
      "metadata": {
        "id": "4840131a-833a-47e5-85aa-0ab01a16175a"
      },
      "source": [
        "# Lecture 06 Examples\n",
        "\n",
        "Conditional Logic"
      ]
    },
    {
      "cell_type": "code",
      "execution_count": null,
      "id": "982317e2-70c4-4f69-906d-51eb637ceebb",
      "metadata": {
        "id": "982317e2-70c4-4f69-906d-51eb637ceebb",
        "outputId": "f6ce679d-ff3b-413b-9a2b-05a6aa5225bd"
      },
      "outputs": [
        {
          "name": "stdout",
          "output_type": "stream",
          "text": [
            "grade: 78\n"
          ]
        }
      ],
      "source": [
        "# if statement\n",
        "\n",
        "bonus = 6\n",
        "grade = 72\n",
        "\n",
        "if bonus > 5:\n",
        "    grade += bonus\n",
        "\n",
        "print(f\"grade: {grade}\")\n"
      ]
    },
    {
      "cell_type": "code",
      "execution_count": null,
      "id": "d525b47c-bd1f-4900-9099-723557487fb3",
      "metadata": {
        "id": "d525b47c-bd1f-4900-9099-723557487fb3",
        "outputId": "a1cffc69-9d34-4879-dfe1-dfb44dd7fa83"
      },
      "outputs": [
        {
          "name": "stdout",
          "output_type": "stream",
          "text": [
            "ack double 6\n"
          ]
        }
      ],
      "source": [
        "# not double 6's\n",
        "die_roll1 = 5\n",
        "die_roll2 = 6\n",
        "\n",
        "if not die_roll1 ==6 and not die_roll2 == 6:\n",
        "    print(\"not 12 the hard way\")\n",
        "else:\n",
        "    print(\"ack double 6\")"
      ]
    },
    {
      "cell_type": "code",
      "execution_count": null,
      "id": "d11d1bd4-b061-4ddb-9c65-114ce06b13ee",
      "metadata": {
        "id": "d11d1bd4-b061-4ddb-9c65-114ce06b13ee",
        "outputId": "5b3c5dfe-200f-4f8d-db7c-165ded76a9ee"
      },
      "outputs": [
        {
          "name": "stdout",
          "output_type": "stream",
          "text": [
            "price: 57.50\n"
          ]
        }
      ],
      "source": [
        "#  if - else statement\n",
        "\n",
        "shoe_size = 7\n",
        "price = 50\n",
        "\n",
        "if shoe_size < 5:\n",
        "    #childrens clothing tax\n",
        "    tax = 1.09\n",
        "else:\n",
        "    tax = 1.15\n",
        "\n",
        "price *= hst\n",
        "\n",
        "print(f\"price: {price:.2f}\")"
      ]
    },
    {
      "cell_type": "code",
      "execution_count": null,
      "id": "35ccda94-bbd1-4579-b774-1306c3cea2e5",
      "metadata": {
        "id": "35ccda94-bbd1-4579-b774-1306c3cea2e5",
        "outputId": "2989403b-5bd7-453f-d0ea-aaf6d872e25b"
      },
      "outputs": [
        {
          "name": "stdout",
          "output_type": "stream",
          "text": [
            "grade: 78 (B)\n"
          ]
        }
      ],
      "source": [
        "# if-elif-else statement\n",
        "\n",
        "grade = 78\n",
        "letter_grade = \"\"\n",
        "\n",
        "if grade > 90:\n",
        "    letter_grade = \"A\"\n",
        "elif grade > 75:\n",
        "    letter_grade = \"B\"\n",
        "elif grade > 60:\n",
        "    letter_grade = \"C\"\n",
        "elif grade > 50:\n",
        "    letter_grade = \"D\"\n",
        "else:\n",
        "    letter_grade = \"F\"\n",
        "\n",
        "print(f\"grade: {grade} ({letter_grade})\")"
      ]
    },
    {
      "cell_type": "code",
      "execution_count": null,
      "id": "f7085138-8675-4e55-b401-3c63db9eacb4",
      "metadata": {
        "id": "f7085138-8675-4e55-b401-3c63db9eacb4",
        "outputId": "e4bab795-6307-4232-f67f-aaefc4e855c2"
      },
      "outputs": [
        {
          "name": "stdin",
          "output_type": "stream",
          "text": [
            "How much money do you want to withdraw? 125\n"
          ]
        },
        {
          "name": "stdout",
          "output_type": "stream",
          "text": [
            "bank balance:  100\n"
          ]
        }
      ],
      "source": [
        "# Partner work\n",
        "\n",
        "#simulating a bank withdraw at an ATM\n",
        "\n",
        "bank_balance = 100\n",
        "\n",
        "#overdraft allows a negative balance\n",
        "overdraft = True\n",
        "\n",
        "withdraw = int(input(\"How much money do you want to withdraw?\"))\n",
        "\n",
        "#Add your logic here to withdraw the funds (or print insufficient funds)\n",
        "\n",
        "print(\"bank balance: \", bank_balance)\n"
      ]
    },
    {
      "cell_type": "code",
      "execution_count": null,
      "id": "7a83ce54-286f-4584-b0c7-cc18d53a833e",
      "metadata": {
        "id": "7a83ce54-286f-4584-b0c7-cc18d53a833e",
        "outputId": "0b96a301-1092-45cc-ced8-cef8570b72ed"
      },
      "outputs": [
        {
          "name": "stdin",
          "output_type": "stream",
          "text": [
            "Enter \"True\" for 3 pointer or \"False\" for 2 pointer: True\n",
            "Enter \"True\" if the player was fouled on the shot or \"False\" otherwise: False\n",
            "Enter \"True\" if the shot went in or \"False\" otherwise: True\n"
          ]
        },
        {
          "data": {
            "text/plain": [
              "Ellipsis"
            ]
          },
          "execution_count": 28,
          "metadata": {},
          "output_type": "execute_result"
        }
      ],
      "source": [
        "# Partner work\n",
        "\n",
        "# simulating basketball scoring\n",
        "\n",
        "points = 0\n",
        "\n",
        "#true for 3 pointer, false for 2 pointer\n",
        "three_pointer = bool(input(\"Enter \\\"True\\\" for 3 pointer or \\\"False\\\" for 2 pointer:\"))\n",
        "fouled_on_shot = bool(input(\"Enter \\\"True\\\" if the player was fouled on the shot or \\\"False\\\" otherwise:\"))\n",
        "shot_made = bool(input(\"Enter \\\"True\\\" if the shot went in or \\\"False\\\" otherwise:\"))\n",
        "\n",
        "#complete the logic so the correct number of points added to the points variable\n",
        "#if appropriate prompt the user if a foul shot was made or missed\n",
        "\n",
        "...\n"
      ]
    },
    {
      "cell_type": "markdown",
      "id": "838e98e7-87ec-4404-b92b-ae53357a50f6",
      "metadata": {
        "id": "838e98e7-87ec-4404-b92b-ae53357a50f6"
      },
      "source": [
        "## Comparison Pause\n",
        "\n",
        "### Floating Point Values\n",
        "\n",
        "Do not use == to compare floating point values\n"
      ]
    },
    {
      "cell_type": "code",
      "execution_count": null,
      "id": "3c442e32-5c66-488a-a9ae-8f29bba54e60",
      "metadata": {
        "id": "3c442e32-5c66-488a-a9ae-8f29bba54e60",
        "outputId": "634d0f17-fda4-4763-c01d-f670748d14d1"
      },
      "outputs": [
        {
          "name": "stdout",
          "output_type": "stream",
          "text": [
            "7298.999999999999\n"
          ]
        }
      ],
      "source": [
        "#how many pennies (former name for one cent coins) is $72.99?\n",
        "money = 72.99\n",
        "cents = money * 100\n",
        "print(cents)"
      ]
    },
    {
      "cell_type": "code",
      "execution_count": null,
      "id": "3004c829-9365-49a7-b94a-0aafe26051f6",
      "metadata": {
        "id": "3004c829-9365-49a7-b94a-0aafe26051f6",
        "outputId": "1d5de459-ae8c-4807-8dab-50e4418d7460"
      },
      "outputs": [
        {
          "name": "stdout",
          "output_type": "stream",
          "text": [
            "invoice: 18.58\n",
            "total payments: 18.580000000000002\n",
            "more money to pay\n"
          ]
        }
      ],
      "source": [
        "# Consider the following\n",
        "# what is the output\n",
        "\n",
        "invoice = 18.58\n",
        "first_payment = 18.10\n",
        "second_payment = 0.48\n",
        "\n",
        "remainder = invoice - (first_payment + second_payment)\n",
        "\n",
        "print(f\"invoice: {invoice}\")\n",
        "print(f\"total payments: {first_payment + second_payment}\")\n",
        "\n",
        "if remainder == 0:\n",
        "    print(\"invoice paid\")\n",
        "else:\n",
        "    print(\"more money to pay\")\n"
      ]
    },
    {
      "cell_type": "code",
      "execution_count": null,
      "id": "7d195689-486b-40a1-a4fd-1462410561a9",
      "metadata": {
        "id": "7d195689-486b-40a1-a4fd-1462410561a9",
        "outputId": "f25d7a76-0882-4298-e805-2bc00f69f9c3"
      },
      "outputs": [
        {
          "name": "stdout",
          "output_type": "stream",
          "text": [
            "invoice: 18.58\n",
            "total payments: 18.580000000000002\n",
            "invoice paid\n"
          ]
        }
      ],
      "source": [
        "# Fix the example to use a threshold or math.isclose\n",
        "\n",
        "invoice = 18.58\n",
        "first_payment = 18.10\n",
        "second_payment = 0.48\n",
        "\n",
        "remainder = invoice - (first_payment + second_payment)\n",
        "\n",
        "print(f\"invoice: {invoice}\")\n",
        "print(f\"total payments: {first_payment + second_payment}\")\n",
        "\n",
        "threshold = 0.00000001\n",
        "if abs(remainder - 0) < threshold:\n",
        "    print(\"invoice paid\")\n",
        "else:\n",
        "    print(\"more money to pay\")"
      ]
    },
    {
      "cell_type": "code",
      "execution_count": null,
      "id": "d31da1bb-46ab-46e0-aad1-640e3cc10d39",
      "metadata": {
        "id": "d31da1bb-46ab-46e0-aad1-640e3cc10d39",
        "outputId": "715e20da-947c-4ec1-f4c7-b2e8d8a373bb"
      },
      "outputs": [
        {
          "name": "stdout",
          "output_type": "stream",
          "text": [
            "True\n",
            "False\n",
            "True\n"
          ]
        }
      ],
      "source": [
        "# Comparing Strings\n",
        "\n",
        "print(\"BBB\" < \"aaa\")\n",
        "print(\"a\" == \"A\")\n",
        "print(\"9\" > \"8\")"
      ]
    },
    {
      "cell_type": "markdown",
      "id": "33635cd7-64d4-4d5c-8e78-2c55896a6b46",
      "metadata": {
        "id": "33635cd7-64d4-4d5c-8e78-2c55896a6b46"
      },
      "source": [
        "## Try at home\n",
        "\n",
        "1. Prompt a user for their age. Output \"Minor\" for those under 18 and \"Age of Majority\" otherwise\n",
        "\n",
        "2. Compare the area of 2 rectangles: 2.49x2.49 and 1.0 x 6.2001\n",
        "\n",
        "3. The logic for code finding if 3 numbers are in ascending or descending order has a few issues ... fix them\n",
        "\n"
      ]
    },
    {
      "cell_type": "code",
      "execution_count": null,
      "id": "8ef39374-ed34-474a-9ff6-53c4081b5fef",
      "metadata": {
        "id": "8ef39374-ed34-474a-9ff6-53c4081b5fef"
      },
      "outputs": [],
      "source": [
        "# try at home: prompt for age and output minor if under 18 and Age or Majority otherwise\n",
        "\n",
        "\n"
      ]
    },
    {
      "cell_type": "code",
      "execution_count": null,
      "id": "d9d19479-5173-45e4-bfc7-4d745ef4699a",
      "metadata": {
        "id": "d9d19479-5173-45e4-bfc7-4d745ef4699a"
      },
      "outputs": [],
      "source": [
        "# Try at home: compare the area of 2 rectangles\n",
        "\n",
        "\n"
      ]
    },
    {
      "cell_type": "code",
      "execution_count": null,
      "id": "8610ac3c-07cb-4aeb-9e66-16f452c88f0d",
      "metadata": {
        "id": "8610ac3c-07cb-4aeb-9e66-16f452c88f0d"
      },
      "outputs": [],
      "source": [
        "# The following program has an inconsistency\n",
        "\n",
        "# Enter 3 numbers and this program will determine if they are in order or not\n",
        "\n",
        "# 1. What is the issue?\n",
        "# 2. Give an example input that exposes the issue\n",
        "# 3. Fix the issue so the program is consistent\n",
        "\n",
        "# Get input from the user for three numbers\n",
        "num1 = float(input(\"Enter the first number: \"))\n",
        "num2 = float(input(\"Enter the second number: \"))\n",
        "num3 = float(input(\"Enter the third number: \"))\n",
        "\n",
        "# Check if the numbers are in order (either ascending or descending)\n",
        "if num1 < num2:\n",
        "    if num2 <= num3:\n",
        "        print(\"The numbers are in ascending order.\")\n",
        "    else:\n",
        "        print(\"The numbers are not in order.\")\n",
        "elif num1 >= num2:\n",
        "    if num2 >= num3:\n",
        "        print(\"The numbers are in descending order.\")\n",
        "    else:\n",
        "        print(\"The numbers are not in order.\")\n",
        "else:\n",
        "    print(\"The numbers are not in order.\")"
      ]
    }
  ],
  "metadata": {
    "kernelspec": {
      "display_name": "Python 3 (ipykernel)",
      "language": "python",
      "name": "python3"
    },
    "language_info": {
      "codemirror_mode": {
        "name": "ipython",
        "version": 3
      },
      "file_extension": ".py",
      "mimetype": "text/x-python",
      "name": "python",
      "nbconvert_exporter": "python",
      "pygments_lexer": "ipython3",
      "version": "3.12.7"
    },
    "colab": {
      "provenance": [],
      "include_colab_link": true
    }
  },
  "nbformat": 4,
  "nbformat_minor": 5
}