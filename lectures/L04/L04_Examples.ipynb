{
 "cells": [
  {
   "cell_type": "markdown",
   "metadata": {
    "id": "cpvd8xI6fy_4"
   },
   "source": [
    "# Code Examples to align with Lecture 4"
   ]
  },
  {
   "cell_type": "code",
   "execution_count": 6,
   "metadata": {
    "colab": {
     "base_uri": "https://localhost:8080/"
    },
    "id": "10uXmerLHDJ2",
    "outputId": "af972bc3-d562-4c8e-ee3e-30de98139be0"
   },
   "outputs": [
    {
     "name": "stdout",
     "output_type": "stream",
     "text": [
      "Requirement already satisfied: colabturtleplus in /opt/anaconda3/lib/python3.12/site-packages (2.0.1)\n"
     ]
    }
   ],
   "source": [
    "#run this cell to install colab turtle plus before continuing\n",
    "!pip install colabturtleplus"
   ]
  },
  {
   "cell_type": "markdown",
   "metadata": {
    "id": "7DJMEPyjf36H"
   },
   "source": [
    "# Arithmetic Expressions"
   ]
  },
  {
   "cell_type": "markdown",
   "metadata": {
    "id": "3bP5bqJ0f6aL"
   },
   "source": [
    "## Integer Arithmetic\n",
    "\n",
    "A few examples of integer arithmetic operations"
   ]
  },
  {
   "cell_type": "code",
   "execution_count": 7,
   "metadata": {
    "colab": {
     "base_uri": "https://localhost:8080/"
    },
    "id": "AQIDPkEAer8b",
    "outputId": "017bd8cd-9ce3-464d-e538-c90ffe63e0bd"
   },
   "outputs": [
    {
     "name": "stdout",
     "output_type": "stream",
     "text": [
      "5\n",
      "-1\n",
      "15\n",
      "1.6666666666666667\n",
      "1\n",
      "2\n",
      "125\n"
     ]
    }
   ],
   "source": [
    "#integer arithmetic\n",
    "x = 5\n",
    "y = 3\n",
    "\n",
    "#addition\n",
    "print(2 + 3)\n",
    "\n",
    "#subtraction\n",
    "print(2-3)\n",
    "\n",
    "#multiplication\n",
    "print(x * y)\n",
    "\n",
    "#division (result is always floating point)\n",
    "print(x / y)\n",
    "\n",
    "#floor division (integer result)\n",
    "print(x//y)\n",
    "\n",
    "#modulus (remainder after dividing)\n",
    "print(x%y)\n",
    "\n",
    "#exponential (1st op raised to power of 2nd)\n",
    "print(x ** y)\n",
    "\n",
    "\n",
    "x = int( \"5\" + \"5\" )"
   ]
  },
  {
   "cell_type": "markdown",
   "metadata": {},
   "source": [
    "# Determine if a number is odd or even"
   ]
  },
  {
   "cell_type": "code",
   "execution_count": 11,
   "metadata": {},
   "outputs": [],
   "source": [
    "# is x odd or even?\n",
    "x = 7\n",
    "\n",
    "\n",
    "\n"
   ]
  },
  {
   "cell_type": "markdown",
   "metadata": {},
   "source": [
    "## Hexagon with alternating colors\n",
    "\n",
    "This first approach is mostly `hard coded` values. Little computational thinking skills"
   ]
  },
  {
   "cell_type": "code",
   "execution_count": 9,
   "metadata": {
    "colab": {
     "base_uri": "https://localhost:8080/",
     "height": 621
    },
    "id": "IbeKNjX0HIV_",
    "outputId": "eae26948-49b9-409b-844c-f926d0aee9e2"
   },
   "outputs": [
    {
     "data": {
      "text/html": [
       "\n",
       "      <svg width=\"800\" height=\"600\">  \n",
       "        <rect width=\"100%\" height=\"100%\" style=\"fill:white;stroke:;stroke-width:1\"/>\n",
       "        \n",
       "        \n",
       "        <line x1=\"400.0\" y1=\"300.0\" x2=\"500.0\" y2=\"300.0\" stroke-linecap=\"round\" style=\"stroke:rgb(255,0,0);stroke-width:1\" /><line x1=\"500.0\" y1=\"300.0\" x2=\"550.0\" y2=\"386.603\" stroke-linecap=\"round\" style=\"stroke:rgb(0,0,255);stroke-width:1\" /><line x1=\"550.0\" y1=\"386.603\" x2=\"500.0\" y2=\"473.206\" stroke-linecap=\"round\" style=\"stroke:rgb(255,0,0);stroke-width:1\" /><line x1=\"500.0\" y1=\"473.206\" x2=\"400.0\" y2=\"473.206\" stroke-linecap=\"round\" style=\"stroke:rgb(0,0,255);stroke-width:1\" /><line x1=\"400.0\" y1=\"473.206\" x2=\"350.0\" y2=\"386.603\" stroke-linecap=\"round\" style=\"stroke:rgb(255,0,0);stroke-width:1\" /><line x1=\"350.0\" y1=\"386.603\" x2=\"400.0\" y2=\"300.0\" stroke-linecap=\"round\" style=\"stroke:rgb(0,0,255);stroke-width:1\" />\n",
       "        \n",
       "        \n",
       "        <g id=\"classic\" visibility=\"visible\" transform=\"rotate(210.0,400.0,300.0) translate(400.0, 300.0)\">\n",
       "<polygon points=\"-5,-4.5 0,-2.5 5,-4.5 0,4.5\" transform=\"skewX(0) scale(1,1)\" style=\"stroke:rgb(0,0,255);fill:rgb(0,0,255);stroke-width:1\" />\n",
       "<animateTransform id = \"one\" attributeName=\"transform\" \n",
       "                      type=\"scale\"\n",
       "                      from=\"1 1\" to=\"1 1\"\n",
       "                      begin=\"0s\" dur=\"0.01s\"\n",
       "                      repeatCount=\"1\"\n",
       "                      additive=\"sum\"\n",
       "                      fill=\"freeze\"\n",
       "                /><animateTransform attributeName=\"transform\"\n",
       "                    type=\"rotate\"\n",
       "                    from=\"0 0 0\" to =\"60.0 0 0\"\n",
       "                    begin=\"one.end\" dur=\"0.16666666666666666s\"\n",
       "                    repeatCount=\"1\"\n",
       "                    additive=\"sum\"\n",
       "                    fill=\"freeze\"\n",
       "                /></g>\n",
       "      </svg>\n",
       "    "
      ],
      "text/plain": [
       "<IPython.core.display.HTML object>"
      ]
     },
     "metadata": {},
     "output_type": "display_data"
    }
   ],
   "source": [
    "# first try at a hexagon with alternating colored sides (red and blue)\n",
    "\n",
    "from ColabTurtlePlus.Turtle import *\n",
    "\n",
    "clearscreen()\n",
    "\n",
    "#draw a hexagon with\n",
    "#alternating colors\n",
    "length = 100\n",
    "angle = 360/6\n",
    "\n",
    "color(255, 0, 0)\n",
    "forward(length)\n",
    "right(angle)\n",
    "\n",
    "color(0,0,255)\n",
    "forward(length)\n",
    "right(angle)\n",
    "\n",
    "color(255,0,0)\n",
    "forward(length)\n",
    "right(angle)\n",
    "\n",
    "color(0, 0, 255)\n",
    "forward(length)\n",
    "right(angle)\n",
    "\n",
    "color(255,0,0)\n",
    "forward(length)\n",
    "right(angle)\n",
    "\n",
    "color(0,0,255)\n",
    "forward(length)\n",
    "right(angle)\n"
   ]
  },
  {
   "cell_type": "markdown",
   "metadata": {},
   "source": [
    "## Hexagon of Alternating Colors "
   ]
  },
  {
   "cell_type": "code",
   "execution_count": 15,
   "metadata": {},
   "outputs": [
    {
     "data": {
      "text/html": [
       "\n",
       "      <svg width=\"800\" height=\"600\">  \n",
       "        <rect width=\"100%\" height=\"100%\" style=\"fill:white;stroke:;stroke-width:1\"/>\n",
       "        \n",
       "        \n",
       "        <line x1=\"400.0\" y1=\"300.0\" x2=\"500.0\" y2=\"300.0\" stroke-linecap=\"round\" style=\"stroke:black;stroke-width:1\" /><line x1=\"500.0\" y1=\"300.0\" x2=\"550.0\" y2=\"386.603\" stroke-linecap=\"round\" style=\"stroke:black;stroke-width:1\" /><line x1=\"550.0\" y1=\"386.603\" x2=\"500.0\" y2=\"473.206\" stroke-linecap=\"round\" style=\"stroke:black;stroke-width:1\" /><line x1=\"500.0\" y1=\"473.206\" x2=\"400.0\" y2=\"473.206\" stroke-linecap=\"round\" style=\"stroke:black;stroke-width:1\" /><line x1=\"400.0\" y1=\"473.206\" x2=\"350.0\" y2=\"386.603\" stroke-linecap=\"round\" style=\"stroke:black;stroke-width:1\" /><line x1=\"350.0\" y1=\"386.603\" x2=\"400.0\" y2=\"300.0\" stroke-linecap=\"round\" style=\"stroke:black;stroke-width:1\" />\n",
       "        \n",
       "        \n",
       "        <g id=\"classic\" visibility=\"visible\" transform=\"rotate(210.0,400.0,300.0) translate(400.0, 300.0)\">\n",
       "<polygon points=\"-5,-4.5 0,-2.5 5,-4.5 0,4.5\" transform=\"skewX(0) scale(1,1)\" style=\"stroke:black;fill:black;stroke-width:1\" />\n",
       "<animateTransform id = \"one\" attributeName=\"transform\" \n",
       "                      type=\"scale\"\n",
       "                      from=\"1 1\" to=\"1 1\"\n",
       "                      begin=\"0s\" dur=\"0.01s\"\n",
       "                      repeatCount=\"1\"\n",
       "                      additive=\"sum\"\n",
       "                      fill=\"freeze\"\n",
       "                /><animateTransform attributeName=\"transform\"\n",
       "                    type=\"rotate\"\n",
       "                    from=\"0 0 0\" to =\"60.0 0 0\"\n",
       "                    begin=\"one.end\" dur=\"0.16666666666666666s\"\n",
       "                    repeatCount=\"1\"\n",
       "                    additive=\"sum\"\n",
       "                    fill=\"freeze\"\n",
       "                /></g>\n",
       "      </svg>\n",
       "    "
      ],
      "text/plain": [
       "<IPython.core.display.HTML object>"
      ]
     },
     "metadata": {},
     "output_type": "display_data"
    },
    {
     "name": "stdout",
     "output_type": "stream",
     "text": [
      "0\n",
      "1\n",
      "2\n",
      "3\n",
      "4\n",
      "5\n"
     ]
    }
   ],
   "source": [
    "# first let's use our approach from last day to draw the shape \n",
    "# using computational thinking to improve our above code \n",
    "\n",
    "clearscreen()\n",
    "\n",
    "# some variables to make our solution more robust (abstraction)\n",
    "FULL_CIRCLE = 360 #ALL_CAPS denotes constants (things that never change)\n",
    "length = 100 \n",
    "sides = 6\n",
    "angle = FULL_CIRCLE / sides\n",
    "\n",
    "#patterns to break down the shape into smaller bits\n",
    "for side in range(sides):\n",
    "    forward (length)\n",
    "    right(angle)\n",
    "\n",
    "    #side starts at 0 and iterates upto but not including sides (6)\n",
    "    #i.e., it goes from 0 to 5 (inclusive)\n",
    "    print(side)\n",
    "\n",
    "\n"
   ]
  },
  {
   "cell_type": "code",
   "execution_count": 19,
   "metadata": {},
   "outputs": [
    {
     "data": {
      "text/html": [
       "\n",
       "      <svg width=\"800\" height=\"600\">  \n",
       "        <rect width=\"100%\" height=\"100%\" style=\"fill:white;stroke:;stroke-width:1\"/>\n",
       "        \n",
       "        \n",
       "        <line x1=\"400.0\" y1=\"300.0\" x2=\"500.0\" y2=\"300.0\" stroke-linecap=\"round\" style=\"stroke:black;stroke-width:1\" /><line x1=\"500.0\" y1=\"300.0\" x2=\"550.0\" y2=\"386.603\" stroke-linecap=\"round\" style=\"stroke:black;stroke-width:1\" /><line x1=\"550.0\" y1=\"386.603\" x2=\"500.0\" y2=\"473.206\" stroke-linecap=\"round\" style=\"stroke:black;stroke-width:1\" /><line x1=\"500.0\" y1=\"473.206\" x2=\"400.0\" y2=\"473.206\" stroke-linecap=\"round\" style=\"stroke:black;stroke-width:1\" /><line x1=\"400.0\" y1=\"473.206\" x2=\"350.0\" y2=\"386.603\" stroke-linecap=\"round\" style=\"stroke:black;stroke-width:1\" /><line x1=\"350.0\" y1=\"386.603\" x2=\"400.0\" y2=\"300.0\" stroke-linecap=\"round\" style=\"stroke:black;stroke-width:1\" />\n",
       "        \n",
       "        \n",
       "        <g id=\"classic\" visibility=\"visible\" transform=\"rotate(210.0,400.0,300.0) translate(400.0, 300.0)\">\n",
       "<polygon points=\"-5,-4.5 0,-2.5 5,-4.5 0,4.5\" transform=\"skewX(0) scale(1,1)\" style=\"stroke:black;fill:black;stroke-width:1\" />\n",
       "<animateTransform id = \"one\" attributeName=\"transform\" \n",
       "                      type=\"scale\"\n",
       "                      from=\"1 1\" to=\"1 1\"\n",
       "                      begin=\"0s\" dur=\"0.01s\"\n",
       "                      repeatCount=\"1\"\n",
       "                      additive=\"sum\"\n",
       "                      fill=\"freeze\"\n",
       "                /><animateTransform attributeName=\"transform\"\n",
       "                    type=\"rotate\"\n",
       "                    from=\"0 0 0\" to =\"60.0 0 0\"\n",
       "                    begin=\"one.end\" dur=\"0.16666666666666666s\"\n",
       "                    repeatCount=\"1\"\n",
       "                    additive=\"sum\"\n",
       "                    fill=\"freeze\"\n",
       "                /></g>\n",
       "      </svg>\n",
       "    "
      ],
      "text/plain": [
       "<IPython.core.display.HTML object>"
      ]
     },
     "metadata": {},
     "output_type": "display_data"
    },
    {
     "name": "stdout",
     "output_type": "stream",
     "text": [
      "0\n",
      "255\n",
      "255\n",
      "0\n",
      "0\n",
      "255\n",
      "255\n",
      "0\n",
      "0\n",
      "255\n",
      "255\n",
      "0\n"
     ]
    }
   ],
   "source": [
    "# develop the alternating color aspect of the solution\n",
    "\n",
    "clearscreen()\n",
    "\n",
    "# some variables to make our solution more robust (abstraction)\n",
    "FULL_CIRCLE = 360 #ALL_CAPS denotes constants (things that never change)\n",
    "length = 100 \n",
    "sides = 6\n",
    "angle = FULL_CIRCLE / sides\n",
    "\n",
    "#patterns to break down the shape into smaller bits\n",
    "for side in range(sides):\n",
    "    forward (length)\n",
    "    right(angle)\n",
    "\n",
    "    #side starts at 0 and iterates upto but not including sides (6)\n",
    "    #i.e., it goes from 0 to 5 (inclusive)\n",
    "\n",
    "    #red then blue\n",
    "    print((side + 1) % 2 * 255)\n",
    "    print(side % 2 * 255)"
   ]
  },
  {
   "cell_type": "code",
   "execution_count": 20,
   "metadata": {},
   "outputs": [
    {
     "data": {
      "text/html": [
       "\n",
       "      <svg width=\"800\" height=\"600\">  \n",
       "        <rect width=\"100%\" height=\"100%\" style=\"fill:white;stroke:;stroke-width:1\"/>\n",
       "        \n",
       "        \n",
       "        <line x1=\"400.0\" y1=\"300.0\" x2=\"500.0\" y2=\"300.0\" stroke-linecap=\"round\" style=\"stroke:rgb(255,0,0);stroke-width:1\" /><line x1=\"500.0\" y1=\"300.0\" x2=\"550.0\" y2=\"386.603\" stroke-linecap=\"round\" style=\"stroke:rgb(0,0,255);stroke-width:1\" /><line x1=\"550.0\" y1=\"386.603\" x2=\"500.0\" y2=\"473.206\" stroke-linecap=\"round\" style=\"stroke:rgb(255,0,0);stroke-width:1\" /><line x1=\"500.0\" y1=\"473.206\" x2=\"400.0\" y2=\"473.206\" stroke-linecap=\"round\" style=\"stroke:rgb(0,0,255);stroke-width:1\" /><line x1=\"400.0\" y1=\"473.206\" x2=\"350.0\" y2=\"386.603\" stroke-linecap=\"round\" style=\"stroke:rgb(255,0,0);stroke-width:1\" /><line x1=\"350.0\" y1=\"386.603\" x2=\"400.0\" y2=\"300.0\" stroke-linecap=\"round\" style=\"stroke:rgb(0,0,255);stroke-width:1\" />\n",
       "        \n",
       "        \n",
       "        <g id=\"classic\" visibility=\"visible\" transform=\"rotate(210.0,400.0,300.0) translate(400.0, 300.0)\">\n",
       "<polygon points=\"-5,-4.5 0,-2.5 5,-4.5 0,4.5\" transform=\"skewX(0) scale(1,1)\" style=\"stroke:rgb(0,0,255);fill:rgb(0,0,255);stroke-width:1\" />\n",
       "<animateTransform id = \"one\" attributeName=\"transform\" \n",
       "                      type=\"scale\"\n",
       "                      from=\"1 1\" to=\"1 1\"\n",
       "                      begin=\"0s\" dur=\"0.01s\"\n",
       "                      repeatCount=\"1\"\n",
       "                      additive=\"sum\"\n",
       "                      fill=\"freeze\"\n",
       "                /><animateTransform attributeName=\"transform\"\n",
       "                    type=\"rotate\"\n",
       "                    from=\"0 0 0\" to =\"60.0 0 0\"\n",
       "                    begin=\"one.end\" dur=\"0.16666666666666666s\"\n",
       "                    repeatCount=\"1\"\n",
       "                    additive=\"sum\"\n",
       "                    fill=\"freeze\"\n",
       "                /></g>\n",
       "      </svg>\n",
       "    "
      ],
      "text/plain": [
       "<IPython.core.display.HTML object>"
      ]
     },
     "metadata": {},
     "output_type": "display_data"
    }
   ],
   "source": [
    "# Colored Hexgon Full Solution\n",
    "\n",
    "from ColabTurtlePlus.Turtle import *\n",
    "\n",
    "clearscreen()\n",
    "\n",
    "#draw a triangle with\n",
    "#all sides different colors\n",
    "FULL_CIRCLE=360\n",
    "length = 100\n",
    "sides = 6\n",
    "angle = FULL_CIRCLE/sides\n",
    "green = 0\n",
    "\n",
    "for side in range(sides):\n",
    "  red   = (side+1) % 2 * 255\n",
    "  blue  = (side) % 2 * 255\n",
    "\n",
    "  color(red, green, blue)\n",
    "  forward(length)\n",
    "  right(angle)"
   ]
  },
  {
   "cell_type": "markdown",
   "metadata": {},
   "source": [
    "# Comparison Expressions\n",
    "\n",
    "evaluate to True or False \n",
    "\n",
    "True or False are called boolean values "
   ]
  },
  {
   "cell_type": "code",
   "execution_count": 21,
   "metadata": {
    "colab": {
     "base_uri": "https://localhost:8080/"
    },
    "id": "hv7W9c2OzHY-",
    "outputId": "a5c4edfb-ec8b-4a9f-9e2a-e3cc5b4f6e63"
   },
   "outputs": [
    {
     "name": "stdout",
     "output_type": "stream",
     "text": [
      "True\n",
      "True\n",
      "True\n"
     ]
    }
   ],
   "source": [
    "a = 4\n",
    "b = 5\n",
    "c = 4\n",
    "\n",
    "print(a == c)\n",
    "print(a != b)\n",
    "print(a >= c)"
   ]
  },
  {
   "cell_type": "markdown",
   "metadata": {},
   "source": [
    "# Logical Expressions\n",
    "\n",
    "expressions to compute logic, like AND, OR and NOT\n"
   ]
  },
  {
   "cell_type": "code",
   "execution_count": 26,
   "metadata": {},
   "outputs": [
    {
     "name": "stdout",
     "output_type": "stream",
     "text": [
      "True\n"
     ]
    }
   ],
   "source": [
    "# example logical expression\n",
    "x = True\n",
    "y = False\n",
    "\n",
    "#or has precedence similar to addition \n",
    "#while and has precedence similar to multiplication\n",
    "print(y or x and not y)\n"
   ]
  },
  {
   "cell_type": "markdown",
   "metadata": {},
   "source": [
    "## Python gotchas \n",
    "\n",
    "In my python chained or compound comparisons are allowed.\n",
    "\n",
    "Be careful: `a < b == True` is the equivalent of a < b and b == True \n",
    "\n",
    "\n"
   ]
  },
  {
   "cell_type": "code",
   "execution_count": 3,
   "metadata": {
    "colab": {
     "base_uri": "https://localhost:8080/"
    },
    "id": "kuyx04zH0Ro6",
    "outputId": "1595c653-5e41-43f2-8058-3613b365ba9b"
   },
   "outputs": [
    {
     "name": "stdout",
     "output_type": "stream",
     "text": [
      "False\n",
      "True\n"
     ]
    }
   ],
   "source": [
    "#GOTCHA\n",
    "a = 3\n",
    "b = 4\n",
    "\n",
    "print(a < b == True)\n",
    "#above is equivalent to a < b and b == True\n",
    "\n"
   ]
  },
  {
   "cell_type": "markdown",
   "metadata": {},
   "source": [
    "### Early lesson\n",
    "\n",
    "At first it may seem like writing `... == True` makes code more readable but in practice seasoned coders will always leave that off. In time you too will determine it is more readable, conscise and less error prone to leave out the == True.\n",
    "\n",
    "Similarly you would never write `... == False` but rather `not ...`\n"
   ]
  },
  {
   "cell_type": "code",
   "execution_count": 5,
   "metadata": {},
   "outputs": [
    {
     "name": "stdout",
     "output_type": "stream",
     "text": [
      "True\n"
     ]
    }
   ],
   "source": [
    "# two negatives make a positive\n",
    "print(not False)"
   ]
  },
  {
   "cell_type": "code",
   "execution_count": 28,
   "metadata": {
    "colab": {
     "base_uri": "https://localhost:8080/",
     "height": 180
    },
    "id": "iZQK-6ZC1yMv",
    "outputId": "aa5baf10-31ef-468a-da53-39863a8ac1b4"
   },
   "outputs": [
    {
     "ename": "ZeroDivisionError",
     "evalue": "division by zero",
     "output_type": "error",
     "traceback": [
      "\u001b[0;31m---------------------------------------------------------------------------\u001b[0m",
      "\u001b[0;31mZeroDivisionError\u001b[0m                         Traceback (most recent call last)",
      "Cell \u001b[0;32mIn[28], line 7\u001b[0m\n\u001b[1;32m      4\u001b[0m denomintator \u001b[38;5;241m=\u001b[39m \u001b[38;5;241m0\u001b[39m\n\u001b[1;32m      6\u001b[0m \u001b[38;5;66;03m#oops division by zero\u001b[39;00m\n\u001b[0;32m----> 7\u001b[0m improper_fraction \u001b[38;5;241m=\u001b[39m numerator\u001b[38;5;241m/\u001b[39mdenomintator\n",
      "\u001b[0;31mZeroDivisionError\u001b[0m: division by zero"
     ]
    }
   ],
   "source": [
    "#short circuiting examples\n",
    "\n",
    "numerator = 10\n",
    "denomintator = 0\n",
    "\n",
    "#oops division by zero\n",
    "improper_fraction = numerator/denomintator\n"
   ]
  },
  {
   "cell_type": "code",
   "execution_count": 29,
   "metadata": {
    "colab": {
     "base_uri": "https://localhost:8080/"
    },
    "id": "GEa8SsxNfWEn",
    "outputId": "d093cf91-a062-479e-e9ad-00eebf475972"
   },
   "outputs": [
    {
     "name": "stdout",
     "output_type": "stream",
     "text": [
      "False\n",
      "True\n"
     ]
    }
   ],
   "source": [
    "#short circuiting examples\n",
    "\n",
    "numerator = 10\n",
    "denominator = 0\n",
    "\n",
    "improper_fraction = denominator > 0 and (numerator/denominator) > 1\n",
    "print(improper_fraction)\n",
    "\n",
    "test_score = 50\n",
    "test_value = 100\n",
    "\n",
    "pass_test = test_value > 0 and (test_score / test_value) >= 0.5\n",
    "print(pass_test)\n"
   ]
  },
  {
   "cell_type": "markdown",
   "metadata": {},
   "source": [
    "# Function Call Expressions\n",
    "\n",
    "functions can return a value\n",
    "the value that comes back from a function takes the place of that function call in the code \n",
    "\n",
    "```python\n",
    "print(abs(-15)) #abs (-15) \"returns\" 15 in its place and that gets printed out\n",
    "```"
   ]
  },
  {
   "cell_type": "code",
   "execution_count": 27,
   "metadata": {},
   "outputs": [
    {
     "name": "stdout",
     "output_type": "stream",
     "text": [
      "15\n"
     ]
    }
   ],
   "source": [
    "print(abs(-15))"
   ]
  },
  {
   "cell_type": "code",
   "execution_count": 32,
   "metadata": {},
   "outputs": [
    {
     "name": "stdout",
     "output_type": "stream",
     "text": [
      "5\n"
     ]
    }
   ],
   "source": [
    "# what is the result of the below expression?\n",
    "value = max(5, min(abs(-20), -6))"
   ]
  },
  {
   "cell_type": "code",
   "execution_count": 30,
   "metadata": {
    "colab": {
     "base_uri": "https://localhost:8080/"
    },
    "id": "4jazE_39goqV",
    "outputId": "12a32c26-84b8-4077-ffa1-ff8ded15c0ba"
   },
   "outputs": [
    {
     "name": "stdout",
     "output_type": "stream",
     "text": [
      "True\n"
     ]
    }
   ],
   "source": [
    "#self check example from class\n",
    "cold_enough = (False and True) or ( not (True and False) or not True ) or True and False and True and False or False or True\n",
    "print(cold_enough)"
   ]
  },
  {
   "cell_type": "code",
   "execution_count": null,
   "metadata": {
    "colab": {
     "base_uri": "https://localhost:8080/"
    },
    "id": "dbj9C04OiFFg",
    "outputId": "3f73c781-bfa6-444e-d9ce-859be2f4a003"
   },
   "outputs": [
    {
     "name": "stdout",
     "output_type": "stream",
     "text": [
      "1050\n"
     ]
    }
   ],
   "source": [
    "#Addition Assignment Example\n",
    "bank_balance = 1000\n",
    "deposit = 50\n",
    "\n",
    "bank_balance += deposit\n",
    "print(bank_balance)"
   ]
  },
  {
   "cell_type": "code",
   "execution_count": null,
   "metadata": {
    "colab": {
     "base_uri": "https://localhost:8080/"
    },
    "id": "cadMeKyC5zzH",
    "outputId": "a79548d0-dc8b-4ea4-ee3f-f160f7c304b3"
   },
   "outputs": [
    {
     "name": "stdout",
     "output_type": "stream",
     "text": [
      "hello world!\n"
     ]
    }
   ],
   "source": [
    "#Concatenation Assignment\n",
    "my_string = \"hello\"\n",
    "my_string += \" world!\"\n",
    "\n",
    "print(my_string)"
   ]
  },
  {
   "cell_type": "markdown",
   "metadata": {},
   "source": [
    "# Try at Home \n",
    "\n",
    "a few problems below to work on during your own time\n",
    "\n",
    "1. circle area = $\\pi r^2$, where r = 10\n",
    "\n",
    "\n",
    "2. Average of 5 numbers\n",
    "\n",
    "3. Prove that $cos^2(x) + sin^2(x) = 1$ for x = 42"
   ]
  },
  {
   "cell_type": "code",
   "execution_count": null,
   "metadata": {
    "colab": {
     "base_uri": "https://localhost:8080/"
    },
    "id": "H4WoOPAB7UgO",
    "outputId": "363168dd-96b4-4150-f87a-2949cc3dcb6c"
   },
   "outputs": [
    {
     "name": "stdout",
     "output_type": "stream",
     "text": [
      "Enter the radius: 3\n",
      "Area is 28.274333882308138\n"
     ]
    }
   ],
   "source": [
    "#Area of a circle\n",
    "import math\n",
    "\n",
    "#compute and print out the area of a circle with radius 10\n",
    "\n",
    "\n",
    "\n"
   ]
  },
  {
   "cell_type": "code",
   "execution_count": 33,
   "metadata": {
    "colab": {
     "base_uri": "https://localhost:8080/"
    },
    "id": "gGwsc0w9BwkJ",
    "outputId": "8dadf74a-2211-430a-dba7-c2389a70c0ab"
   },
   "outputs": [],
   "source": [
    "# Average of 5 numbers\n",
    "#Complete the program to print the average\n",
    "n1 = 56\n",
    "n2 = 76\n",
    "n3 = 96 \n",
    "n4 = 28\n",
    "n5 = 66\n",
    "\n"
   ]
  },
  {
   "cell_type": "code",
   "execution_count": 34,
   "metadata": {
    "colab": {
     "base_uri": "https://localhost:8080/"
    },
    "id": "OrbZDVM5FZUI",
    "outputId": "e2c3a76a-635c-4120-ac39-4d09125c2c1a"
   },
   "outputs": [],
   "source": [
    "# Prove sin^2(42) + cos^2(42) == 1\n",
    "import math\n",
    "\n"
   ]
  },
  {
   "cell_type": "code",
   "execution_count": 39,
   "metadata": {},
   "outputs": [
    {
     "name": "stdout",
     "output_type": "stream",
     "text": [
      "1\n"
     ]
    }
   ],
   "source": [
    "#Hotel room numbers to single digits\n",
    "#hint: use // and %\n",
    "room_number = 532\n",
    "\n",
    "#ones digit\n",
    "sum_digits = 0\n",
    "digit = room_number % 10\n",
    "div_10 = room_number // 10\n",
    "sum_digits += digit\n",
    "\n",
    "#tens digit\n",
    "digit = div_10 % 10\n",
    "div_10 = div_10 // 10\n",
    "sum_digits += digit\n",
    "\n",
    "#hundreds digit\n",
    "digit = div_10 % 10\n",
    "div_10 = div_10 // 10\n",
    "sum_digits += digit\n",
    "\n",
    "sum_answer = 0\n",
    "\n",
    "#in case sum is a 2 digit number\n",
    "digit = sum_digits % 10\n",
    "sum_answer += digit\n",
    "sum_digits = sum_digits // 10\n",
    "sum_answer += sum_digits % 10\n",
    "\n",
    "print(sum_answer)\n"
   ]
  },
  {
   "cell_type": "code",
   "execution_count": null,
   "metadata": {},
   "outputs": [],
   "source": []
  }
 ],
 "metadata": {
  "colab": {
   "provenance": []
  },
  "kernelspec": {
   "display_name": "Python 3 (ipykernel)",
   "language": "python",
   "name": "python3"
  },
  "language_info": {
   "codemirror_mode": {
    "name": "ipython",
    "version": 3
   },
   "file_extension": ".py",
   "mimetype": "text/x-python",
   "name": "python",
   "nbconvert_exporter": "python",
   "pygments_lexer": "ipython3",
   "version": "3.12.7"
  }
 },
 "nbformat": 4,
 "nbformat_minor": 4
}
