{
 "cells": [
  {
   "cell_type": "markdown",
   "id": "d732a5b5-1ffe-4b7a-b0cc-1b48efb36669",
   "metadata": {},
   "source": [
    "## Lecture 12 Example Code "
   ]
  },
  {
   "cell_type": "code",
   "execution_count": 1,
   "id": "dd72eade-a3a8-4abb-9523-edd97023f6ad",
   "metadata": {},
   "outputs": [],
   "source": [
    "# Find a Partner\n",
    "\n",
    "#Consider the 1-on-1 basketball example:\n",
    "\n",
    "score = \"A2B2A2A2A1A1A1A2\"\n",
    "\n",
    "#who wins the game? \n",
    "\n"
   ]
  },
  {
   "cell_type": "markdown",
   "id": "62223c46-290c-438e-8425-2ccba85a5474",
   "metadata": {},
   "source": [
    "## 1-on-1 Basketball\n",
    "\n",
    "Focuse on: Understanding and Design\n",
    "\n",
    "- What are the inputs?\n",
    "\n",
    "- What are the outputs?\n",
    "\n",
    "- What is redundent?\n",
    "\n",
    "- Can you develop your own specific examples of inputs or outputs?\n",
    "\n",
    "- What questions do you have?\n",
    "\n",
    "      - A question to get you started: Is the input always a game that has finished and does a game always finish when someone scores the final basket?\n",
    "\n",
    "\n",
    "\n",
    "\n",
    "  \n"
   ]
  },
  {
   "cell_type": "markdown",
   "id": "77cf7274-439b-4376-a06e-4166cb6ddf00",
   "metadata": {},
   "source": [
    "# More find a partner\n",
    "\n",
    "Consider that ants march on a 1D stick. They all travel at 1 cm per second and the stick is 10 cm long (labelled from 0 to 9). Each time an ant bumps into another ant it turns around 180 degrees and heads the other direction. When an ant reaches the end of the stick it falls off.\n",
    "\n",
    "What is the minimum time and maximum time in seconds for the stick to be empty?\n",
    "\n",
    "You are given the number of ants and the starting location for each ant. The starting locations are all integers between 0 and 9 and all locations are given in one string.\n"
   ]
  },
  {
   "cell_type": "code",
   "execution_count": 7,
   "id": "987e63fb-7705-4684-b209-4c78036519e1",
   "metadata": {},
   "outputs": [
    {
     "name": "stdout",
     "output_type": "stream",
     "text": [
      "ant 0 starts at position: 0 on the stick\n",
      "ant 1 starts at position: 9 on the stick\n"
     ]
    }
   ],
   "source": [
    "ant_count = 2\n",
    "\n",
    "#first ant is at the leftmost position on the stick: 0\n",
    "#second ant is at the rightmost position on the stick: 9\n",
    "ant_positions = \"09\"\n",
    "\n",
    "iteration = 0\n",
    "for ant in ant_positions:\n",
    "    #get the position for this ant\n",
    "    ant_pos = int(ant)\n",
    "    print(f\"ant {iteration} starts at position: {ant_pos} on the stick\")\n",
    "    iteration += 1"
   ]
  },
  {
   "cell_type": "markdown",
   "id": "b9f4d9aa-f844-4cf6-b037-a6a044982515",
   "metadata": {},
   "source": [
    " # Problem Solving - Ants\n",
    "\n",
    "Understanding \n",
    "\n",
    "- what are the inputs\n",
    "- what is the output\n",
    "- Can you develop some examples?\n",
    "- Are there special cases?\n",
    "- Contradictions or ambiguities?\n",
    "- Can you break the problem into parts?\n",
    "      - obviously parsing the ant starting locations from the \n",
    "\n"
   ]
  },
  {
   "cell_type": "markdown",
   "id": "ec58055c-7198-46bd-86ad-98f7243ab6fe",
   "metadata": {},
   "source": [
    "# Class Participation\n",
    "\n",
    "If the stick has one ant at location 1 on the stick. What is the output?"
   ]
  },
  {
   "cell_type": "markdown",
   "id": "a29f4981-6e89-4299-a452-348a1fdf6883",
   "metadata": {},
   "source": [
    "# Try at home\n",
    "\n",
    "Bit Parity\n",
    "\n",
    "Given a bit string, add a bit to the right side of the string and make sure the parity is even.\n",
    "\n",
    "```python\n",
    "in_bit_string = \"101\"\n",
    "\n",
    "out_bit_string = \"1010\"\n",
    "```\n",
    "\n",
    "# Understanding \n",
    "- inputs?\n",
    "- outputs?\n",
    "- smaller tasks?\n",
    "- edge cases?\n",
    "- generalization?\n",
    "- how robust does our solution need to be?\n",
    "\n",
    "# Design \n",
    "- patterns\n",
    "- abstraction\n",
    "- develop an algorithm\n",
    "- develop pseudo code\n",
    "- reuseable aspects of your code\n",
    "   \n",
    "# Implement\n",
    "- python code\n",
    "- any challenging aspects to convert from design to python?\n",
    "\n",
    "# Evaluate\n",
    "- does your code work for input that is an empty string?\n",
    "- did you consider robustness?\n",
    "- how might you further test your solution\n",
    "- how maintainable is your solution\n",
    "      - did you use at least one function?\n",
    "\n"
   ]
  },
  {
   "cell_type": "code",
   "execution_count": 9,
   "id": "b4bb7ab2-9719-4f82-baa0-df4d64908a8a",
   "metadata": {},
   "outputs": [],
   "source": [
    "# code for the bit parity try at home\n",
    "\n"
   ]
  }
 ],
 "metadata": {
  "kernelspec": {
   "display_name": "Python 3 (ipykernel)",
   "language": "python",
   "name": "python3"
  },
  "language_info": {
   "codemirror_mode": {
    "name": "ipython",
    "version": 3
   },
   "file_extension": ".py",
   "mimetype": "text/x-python",
   "name": "python",
   "nbconvert_exporter": "python",
   "pygments_lexer": "ipython3",
   "version": "3.12.7"
  }
 },
 "nbformat": 4,
 "nbformat_minor": 5
}
