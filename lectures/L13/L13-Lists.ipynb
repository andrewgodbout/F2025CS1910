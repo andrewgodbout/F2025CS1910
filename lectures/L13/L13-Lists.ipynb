{
 "cells": [
  {
   "cell_type": "code",
   "execution_count": 1,
   "id": "fab6821d-fbc1-416a-81f1-034accf955c9",
   "metadata": {},
   "outputs": [],
   "source": [
    "# Lecture 13 Examples Lists"
   ]
  },
  {
   "cell_type": "code",
   "execution_count": 2,
   "id": "e86abb03-6d95-4655-a97a-72391434fa6a",
   "metadata": {},
   "outputs": [
    {
     "name": "stdout",
     "output_type": "stream",
     "text": [
      "['p', 'y', 't', 'h', 'o', 'n']\n"
     ]
    }
   ],
   "source": [
    "# Creating Lists\n",
    "\n",
    "# creating an empty list\n",
    "my_list = []\n",
    "\n",
    "# creating a populated list\n",
    "fruits = [\"apple\", \"banana\", \"cherry\"]\n",
    "numbers = [1, 2, 3, 4, 5]\n",
    "mixed_list = [10, \"hello\", 3.14, True]\n",
    "\n",
    "# convert a string to a list\n",
    "list_of_chars = list(\"python\")\n",
    "\n",
    "print(list_of_chars)\n"
   ]
  },
  {
   "cell_type": "code",
   "execution_count": 12,
   "id": "05f2328c-6f9a-435e-a5cc-3d4df853ed18",
   "metadata": {},
   "outputs": [
    {
     "name": "stdout",
     "output_type": "stream",
     "text": [
      "['p', 'ie', 't', 'h', 'o', 'n']\n",
      "['orange']\n",
      "[]\n"
     ]
    }
   ],
   "source": [
    "# lists are mutable\n",
    "\n",
    "list_of_chars[1] = \"ie\"\n",
    "print(list_of_chars)\n",
    "\n",
    "my_list = []\n",
    "\n",
    "# mutation methods \n",
    "my_list.append(1) # [1]\n",
    "my_list.append(23) # [1,23]\n",
    "my_list.append(\"!\") # [1, 23, \"!\"]\n",
    "my_list.insert(1, \"orange\") #[1,\"orange\", 23, \"!\"]\n",
    "\n",
    "my_list.remove(23) #[1,\"orange\", \"!\"]\n",
    "\n",
    "my_list.pop() #[1,\"orange\"]\n",
    "my_list.pop(0) # [\"orange\"]\n",
    "\n",
    "del my_list[0]\n"
   ]
  },
  {
   "cell_type": "code",
   "execution_count": 13,
   "id": "ee4f6d7b-e2fd-4562-84a7-7c33b30dd1e9",
   "metadata": {},
   "outputs": [
    {
     "name": "stdout",
     "output_type": "stream",
     "text": [
      "None\n"
     ]
    }
   ],
   "source": [
    "# list methods \n",
    "my_list = [1, 2, 75, 3, 3, 4]\n",
    "\n",
    "#length of the list\n",
    "len(my_list)\n",
    "\n",
    "#sort the list in place\n",
    "my_list.sort()\n",
    "\n",
    "#reverse the contents of the list\n",
    "my_list.reverse()\n",
    "\n",
    "# count the occurences of \n",
    "my_list.count(3)\n",
    "\n",
    "# first index position containing \n",
    "my_list.index(3)\n",
    "\n",
    "# copy the list\n",
    "cpy_list = my_list.copy()\n",
    "\n",
    "# clear the contents\n",
    "my_list.clear()\n"
   ]
  },
  {
   "cell_type": "code",
   "execution_count": 16,
   "id": "342a6d3c-bd13-4370-a182-69426ce2aae5",
   "metadata": {},
   "outputs": [
    {
     "name": "stdout",
     "output_type": "stream",
     "text": [
      "1 2 3 76 4 \n",
      "1 2 3 76 4 \n"
     ]
    }
   ],
   "source": [
    "# iterating\n",
    "\n",
    "my_list = [1,2,3,76,4]\n",
    "\n",
    "for item in my_list:\n",
    "    print(item, end=\" \")\n",
    "print()\n",
    "\n",
    "for i in range(len(my_list)):\n",
    "    print(my_list[i], end = \" \")\n",
    "print()"
   ]
  },
  {
   "cell_type": "markdown",
   "id": "769c9bf0-9848-47ba-aa0e-fd7d4aaf4ee3",
   "metadata": {},
   "source": [
    "# Find a Partner \n",
    "\n",
    "1. find the median value in a list\n",
    "   \n",
    "3. match rooms (capacities) to courses (enrolments) - determine if any classroom cannot \n"
   ]
  },
  {
   "cell_type": "code",
   "execution_count": null,
   "id": "abfb8e73-3f27-4cae-9132-eca01e9b9f88",
   "metadata": {},
   "outputs": [],
   "source": [
    "# median in a list\n",
    "\n",
    "\n"
   ]
  },
  {
   "cell_type": "code",
   "execution_count": null,
   "id": "87d69adc-1bf0-4eb4-9cc8-dea8c47ccacd",
   "metadata": {},
   "outputs": [],
   "source": [
    "# matching capacities to enrolments \n",
    "\n",
    "def match_classrooms(classroom_capacities, course_enrolments):\n",
    "    \"\"\"\n",
    "        determine if any of the courses cannot be accommodated\n",
    "\n",
    "        classroom_capacities: a list of integers giving the sizes of all the classrooms\n",
    "        course_enrolments: a list of integers giving the sizes of each course\n",
    "\n",
    "        return: True if there is a classroom for every course and False otherwise \n",
    "        (Advanced: return the size of the smallest courses that cannot be accommodated)\n",
    "\n",
    "    \"\"\"\n",
    "\n"
   ]
  },
  {
   "cell_type": "markdown",
   "id": "cc707085-b105-4373-b096-acdc94268361",
   "metadata": {},
   "source": [
    "# Try at home\n",
    "\n",
    "1. Write a method to determine how many unique items are in a list.\n",
    "   For example on input `[1,2,2,3]` your method should return 3. \n",
    "\n",
    "2. Write a method to take as input parameters 2 lists and return 1 list containing the contents of both prior lists\n",
    "\n",
    "   "
   ]
  },
  {
   "cell_type": "code",
   "execution_count": 17,
   "id": "0e969f50-41cd-4663-9c25-cac7ad748d0b",
   "metadata": {},
   "outputs": [],
   "source": [
    "#try at home counting unique elements\n",
    "\n",
    "\n",
    "#method header is provided for you\n",
    "def unique_count(lst):\n",
    "    \"\"\" return the count of unique items in a list\n",
    "        lst: a list of items\n",
    "\n",
    "        return: the count of unique elements\n",
    "    \"\"\"\n",
    "    ...\n",
    "    \n"
   ]
  },
  {
   "cell_type": "code",
   "execution_count": null,
   "id": "b91bbbf6-09a6-47bd-a782-b15bbb907e87",
   "metadata": {},
   "outputs": [],
   "source": [
    "# try at home combining 2 lists into 1\n",
    "\n",
    "# no method header is provided this time\n"
   ]
  }
 ],
 "metadata": {
  "kernelspec": {
   "display_name": "Python 3 (ipykernel)",
   "language": "python",
   "name": "python3"
  },
  "language_info": {
   "codemirror_mode": {
    "name": "ipython",
    "version": 3
   },
   "file_extension": ".py",
   "mimetype": "text/x-python",
   "name": "python",
   "nbconvert_exporter": "python",
   "pygments_lexer": "ipython3",
   "version": "3.12.7"
  }
 },
 "nbformat": 4,
 "nbformat_minor": 5
}
