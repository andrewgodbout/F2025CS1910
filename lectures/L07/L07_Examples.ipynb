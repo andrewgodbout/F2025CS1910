{
  "cells": [
    {
      "cell_type": "markdown",
      "metadata": {
        "id": "view-in-github",
        "colab_type": "text"
      },
      "source": [
        "<a href=\"https://colab.research.google.com/github/andrewgodbout/F2025CS1910/blob/main/lectures/L07/L07_Examples.ipynb\" target=\"_parent\"><img src=\"https://colab.research.google.com/assets/colab-badge.svg\" alt=\"Open In Colab\"/></a>"
      ]
    },
    {
      "cell_type": "markdown",
      "id": "889f9e1a-8f52-48c2-a909-e60a14478e07",
      "metadata": {
        "id": "889f9e1a-8f52-48c2-a909-e60a14478e07"
      },
      "source": [
        "# Repetitions\n",
        "\n",
        "while, for and for-each loops"
      ]
    },
    {
      "cell_type": "code",
      "execution_count": null,
      "id": "92a3f41b-71a6-4a01-86fa-d1c47305488b",
      "metadata": {
        "id": "92a3f41b-71a6-4a01-86fa-d1c47305488b",
        "outputId": "04e2fcc6-516e-419d-c9c1-159aad8fac82"
      },
      "outputs": [
        {
          "name": "stdin",
          "output_type": "stream",
          "text": [
            "Grade (DONE to Quit): DONE\n"
          ]
        }
      ],
      "source": [
        "# Sentinel While Loop Example\n",
        "\n",
        "#calculate class average\n",
        "value = input(\"Grade (DONE to Quit):\")\n",
        "sum_grades = 0\n",
        "count = 0\n",
        "while(value != \"DONE\"):\n",
        "    sum_grades += int(value)\n",
        "    count += 1\n",
        "    value = input(\"Grade (DONE to Quit):\")\n",
        "\n",
        "if count > 0:\n",
        "    print(f\"Class average {(sum_grades / count):.1f}\")"
      ]
    },
    {
      "cell_type": "code",
      "execution_count": null,
      "id": "d731d0bd-7229-4d51-9a0f-bed2bb449139",
      "metadata": {
        "id": "d731d0bd-7229-4d51-9a0f-bed2bb449139",
        "outputId": "5c5b1065-8a71-490f-940c-6719197a8de8"
      },
      "outputs": [
        {
          "name": "stdin",
          "output_type": "stream",
          "text": [
            "I'm thinking of a number between 1 and 10, guess it: 10\n",
            "Nope! Guess again:  9\n",
            "Nope! Guess again:  8\n",
            "Nope! Guess again:  6\n",
            "Nope! Guess again:  7\n",
            "Nope! Guess again:  5\n",
            "Nope! Guess again:  4\n",
            "Nope! Guess again:  3\n"
          ]
        },
        {
          "name": "stdout",
          "output_type": "stream",
          "text": [
            "Yay you guessed correctly!\n"
          ]
        }
      ],
      "source": [
        "# Sentinel While Loop Example\n",
        "# Challenge modify this program to count how many guesses it takes\n",
        "\n",
        "import random\n",
        "secret = random.randint(1,10) #generates a random number between 1 and 10 inclusive\n",
        "\n",
        "guess = int(input(\"I'm thinking of a number between 1 and 10, guess it:\"))\n",
        "\n",
        "while(guess != secret):\n",
        "    guess = int(input(\"Nope! Guess again: \"))\n",
        "\n",
        "print(\"Yay you guessed correctly!\")\n",
        ""
      ]
    },
    {
      "cell_type": "code",
      "execution_count": null,
      "id": "2b1f5f64-1a13-4481-9c6d-c3d879cd4dfe",
      "metadata": {
        "id": "2b1f5f64-1a13-4481-9c6d-c3d879cd4dfe",
        "outputId": "6a34dd91-c563-457e-9c18-e7b70db48697"
      },
      "outputs": [
        {
          "name": "stdin",
          "output_type": "stream",
          "text": [
            "Enter 1 for CS help or 2 for Math help 2\n"
          ]
        },
        {
          "name": "stdout",
          "output_type": "stream",
          "text": [
            "For Math help first complete a skill testing question: Find x such that (1 - (1/8) cos^2 x)8 = sin^2 x\n"
          ]
        }
      ],
      "source": [
        "# Sentinel while loop example\n",
        "\n",
        "#ensure the user has picked correctly\n",
        "choice = int(input(\"Enter 1 for CS help or 2 for Math help\"))\n",
        "while choice != 1 and choice != 2:\n",
        "    choice = int(input(\"Incorrect Input. Enter 1 for CS help or 2 for Math help\"))\n",
        "\n",
        "if choice == 1:\n",
        "    print(\"For CS Help first turn off your computer and then turn it back on.\")\n",
        "else:\n",
        "    print(\"For Math help first complete a skill testing question: Find x such that (1 - (1/8) cos^2 x)8 = sin^2 x\")"
      ]
    },
    {
      "cell_type": "code",
      "execution_count": null,
      "id": "f58b005d-3100-49be-86d3-357b4ae9459f",
      "metadata": {
        "id": "f58b005d-3100-49be-86d3-357b4ae9459f",
        "outputId": "198e6baa-5123-4cf9-c42d-2f2f5f3967f3"
      },
      "outputs": [
        {
          "name": "stdin",
          "output_type": "stream",
          "text": [
            "Enter a positive number: 101\n"
          ]
        },
        {
          "name": "stdout",
          "output_type": "stream",
          "text": [
            "101\n"
          ]
        }
      ],
      "source": [
        "# while loop example:\n",
        "# What does this code do\n",
        "\n",
        "number = int(input(\"Enter a positive number:\"))\n",
        "reverse = 0\n",
        "\n",
        "while number > 0:\n",
        "    last_digit = number % 10\n",
        "    reverse = reverse * 10 + last_digit\n",
        "    number = number // 10\n",
        "\n",
        "print(reverse)"
      ]
    },
    {
      "cell_type": "markdown",
      "id": "c370ab61-8530-429b-8f40-191ee936eaac",
      "metadata": {
        "id": "c370ab61-8530-429b-8f40-191ee936eaac"
      },
      "source": [
        "## Unrolling a for loop"
      ]
    },
    {
      "cell_type": "code",
      "execution_count": null,
      "id": "ff8e553a-675e-482e-ab20-e446efbe3aa3",
      "metadata": {
        "id": "ff8e553a-675e-482e-ab20-e446efbe3aa3",
        "outputId": "6f6ceea4-79d4-4441-acd0-daae0bfe37ff"
      },
      "outputs": [
        {
          "name": "stdout",
          "output_type": "stream",
          "text": [
            "0\n",
            "1\n",
            "2\n",
            "3\n",
            "4\n",
            "0\n",
            "1\n",
            "2\n",
            "3\n",
            "4\n"
          ]
        }
      ],
      "source": [
        "for i in range(5):\n",
        "    print(i)\n",
        "\n",
        "\n",
        "#equivalent code (unrolled)\n",
        "\n",
        "i = 0\n",
        "print(i)\n",
        "\n",
        "i = 1\n",
        "print(i)\n",
        "\n",
        "i = 2\n",
        "print(i)\n",
        "\n",
        "i = 3\n",
        "print(i)\n",
        "\n",
        "i = 4\n",
        "print(i)\n"
      ]
    },
    {
      "cell_type": "markdown",
      "id": "0fc03c15-e593-43f7-a257-f49eb3d2a2f9",
      "metadata": {
        "id": "0fc03c15-e593-43f7-a257-f49eb3d2a2f9"
      },
      "source": [
        "# For each in sequence\n",
        "\n",
        "A string is a sequence of characters and so we can use a for loop to iterate over each letter and perform various operations\n",
        "\n",
        "Use a for loop to count the number of upper case characters in a string"
      ]
    },
    {
      "cell_type": "code",
      "execution_count": null,
      "id": "ce01b704-e840-47d0-bb18-60f4fda20bd1",
      "metadata": {
        "id": "ce01b704-e840-47d0-bb18-60f4fda20bd1",
        "outputId": "9e15d3f6-3695-4ca3-d193-d577b25a570a"
      },
      "outputs": [
        {
          "name": "stdout",
          "output_type": "stream",
          "text": [
            "13\n"
          ]
        }
      ],
      "source": [
        "# for loop example over a string sequence\n",
        "\n",
        "name = \"The Quick BroWn FoX jumpEd OveR tHe lazy DOG\"\n",
        "count = 0\n",
        "for char in name:\n",
        "    if char.isupper():\n",
        "        count += 1\n",
        "print(count)"
      ]
    },
    {
      "cell_type": "code",
      "execution_count": null,
      "id": "45dd6a37-72f9-4901-83c0-06792d94db12",
      "metadata": {
        "id": "45dd6a37-72f9-4901-83c0-06792d94db12",
        "outputId": "3cb1f2c2-fb37-447d-874c-2976f0e1789c"
      },
      "outputs": [
        {
          "name": "stdout",
          "output_type": "stream",
          "text": [
            "   1   2   3   4   5   6   7   8   9  10\n",
            "   2   4   6   8  10  12  14  16  18  20\n",
            "   3   6   9  12  15  18  21  24  27  30\n",
            "   4   8  12  16  20  24  28  32  36  40\n",
            "   5  10  15  20  25  30  35  40  45  50\n",
            "   6  12  18  24  30  36  42  48  54  60\n",
            "   7  14  21  28  35  42  49  56  63  70\n",
            "   8  16  24  32  40  48  56  64  72  80\n",
            "   9  18  27  36  45  54  63  72  81  90\n",
            "  10  20  30  40  50  60  70  80  90 100\n"
          ]
        }
      ],
      "source": [
        "# nested loops to make a multiplication table\n",
        "for i in range(1,11):\n",
        "    for j in range(1,11):\n",
        "        print(f\"{i*j:4}\", end=\"\")\n",
        "    print()\n"
      ]
    },
    {
      "cell_type": "code",
      "execution_count": null,
      "id": "e9a7405c-e4fd-4ce8-a4bd-673e74538371",
      "metadata": {
        "id": "e9a7405c-e4fd-4ce8-a4bd-673e74538371",
        "outputId": "278ced00-1ed8-4bf5-9dc1-a225d6099ccc"
      },
      "outputs": [
        {
          "name": "stdout",
          "output_type": "stream",
          "text": [
            "Requirement already satisfied: colabturtleplus in /opt/anaconda3/lib/python3.12/site-packages (2.0.1)\n"
          ]
        },
        {
          "data": {
            "text/html": [
              "\n",
              "      <svg width=\"800\" height=\"600\">  \n",
              "        <rect width=\"100%\" height=\"100%\" style=\"fill:white;stroke:;stroke-width:1\"/>\n",
              "        \n",
              "        \n",
              "        <line x1=\"400.0\" y1=\"300.0\" x2=\"500.0\" y2=\"300.0\" stroke-linecap=\"round\" style=\"stroke:rgb(50,50,0);stroke-width:1\" /><line x1=\"500.0\" y1=\"300.0\" x2=\"406.031\" y2=\"265.798\" stroke-linecap=\"round\" style=\"stroke:rgb(50,50,0);stroke-width:1\" /><line x1=\"406.031\" y1=\"265.798\" x2=\"482.635\" y2=\"330.077\" stroke-linecap=\"round\" style=\"stroke:rgb(50,50,25);stroke-width:1\" /><line x1=\"482.635\" y1=\"330.077\" x2=\"432.635\" y2=\"243.474\" stroke-linecap=\"round\" style=\"stroke:rgb(50,50,25);stroke-width:1\" /><line x1=\"432.635\" y1=\"243.474\" x2=\"450.0\" y2=\"341.955\" stroke-linecap=\"round\" style=\"stroke:rgb(50,50,50);stroke-width:1\" /><line x1=\"450.0\" y1=\"341.955\" x2=\"467.365\" y2=\"243.474\" stroke-linecap=\"round\" style=\"stroke:rgb(50,50,50);stroke-width:1\" /><line x1=\"467.365\" y1=\"243.474\" x2=\"417.365\" y2=\"330.077\" stroke-linecap=\"round\" style=\"stroke:rgb(50,50,75);stroke-width:1\" /><line x1=\"417.365\" y1=\"330.077\" x2=\"493.969\" y2=\"265.798\" stroke-linecap=\"round\" style=\"stroke:rgb(50,50,75);stroke-width:1\" /><line x1=\"493.969\" y1=\"265.798\" x2=\"400.0\" y2=\"300.0\" stroke-linecap=\"round\" style=\"stroke:rgb(50,50,100);stroke-width:1\" /><line x1=\"400.0\" y1=\"300.0\" x2=\"500.0\" y2=\"300.0\" stroke-linecap=\"round\" style=\"stroke:rgb(50,50,100);stroke-width:1\" /><line x1=\"500.0\" y1=\"300.0\" x2=\"406.031\" y2=\"265.798\" stroke-linecap=\"round\" style=\"stroke:rgb(50,50,125);stroke-width:1\" /><line x1=\"406.031\" y1=\"265.798\" x2=\"482.635\" y2=\"330.077\" stroke-linecap=\"round\" style=\"stroke:rgb(50,50,125);stroke-width:1\" /><line x1=\"482.635\" y1=\"330.077\" x2=\"432.635\" y2=\"243.474\" stroke-linecap=\"round\" style=\"stroke:rgb(50,50,150);stroke-width:1\" /><line x1=\"432.635\" y1=\"243.474\" x2=\"450.0\" y2=\"341.955\" stroke-linecap=\"round\" style=\"stroke:rgb(50,50,150);stroke-width:1\" /><line x1=\"450.0\" y1=\"341.955\" x2=\"467.365\" y2=\"243.474\" stroke-linecap=\"round\" style=\"stroke:rgb(50,50,175);stroke-width:1\" /><line x1=\"467.365\" y1=\"243.474\" x2=\"417.365\" y2=\"330.077\" stroke-linecap=\"round\" style=\"stroke:rgb(50,50,175);stroke-width:1\" /><line x1=\"417.365\" y1=\"330.077\" x2=\"493.969\" y2=\"265.798\" stroke-linecap=\"round\" style=\"stroke:rgb(50,50,200);stroke-width:1\" /><line x1=\"493.969\" y1=\"265.798\" x2=\"400.0\" y2=\"300.0\" stroke-linecap=\"round\" style=\"stroke:rgb(50,50,200);stroke-width:1\" />\n",
              "        \n",
              "        \n",
              "        <g id=\"classic\" visibility=\"visible\" transform=\"rotate(70,400.0,300.0) translate(400.0, 300.0)\">\n",
              "<polygon points=\"-5,-4.5 0,-2.5 5,-4.5 0,4.5\" transform=\"skewX(0) scale(1,1)\" style=\"stroke:rgb(50,50,200);fill:rgb(50,50,200);stroke-width:1\" />\n",
              "<animateTransform id = \"one\" attributeName=\"transform\" \n",
              "                      type=\"scale\"\n",
              "                      from=\"1 1\" to=\"1 1\"\n",
              "                      begin=\"0s\" dur=\"0.01s\"\n",
              "                      repeatCount=\"1\"\n",
              "                      additive=\"sum\"\n",
              "                      fill=\"freeze\"\n",
              "                /><animateTransform attributeName=\"transform\"\n",
              "                    type=\"rotate\"\n",
              "                    from=\"0 0 0\" to =\"-160 0 0\"\n",
              "                    begin=\"one.end\" dur=\"0.4444444444444444s\"\n",
              "                    repeatCount=\"1\"\n",
              "                    additive=\"sum\"\n",
              "                    fill=\"freeze\"\n",
              "                /></g>\n",
              "      </svg>\n",
              "    "
            ],
            "text/plain": [
              "<IPython.core.display.HTML object>"
            ]
          },
          "metadata": {},
          "output_type": "display_data"
        }
      ],
      "source": [
        "# Nested Loop Example\n",
        "\n",
        "!pip install colabturtleplus\n",
        "from ColabTurtlePlus.Turtle import *\n",
        "\n",
        "clearscreen()\n",
        "speed(5) # 13 is fast, 1 is slow\n",
        "\n",
        "for j in range(9): #a spiral has 9 arms (but this draws the opposite arm too)\n",
        "    color(50,50, j*25) #each arm gets more blue\n",
        "    for k in range(2): # each arm has 2 lines (out and back)\n",
        "        forward(100)\n",
        "        right(200) #3600 total\n"
      ]
    },
    {
      "cell_type": "code",
      "execution_count": null,
      "id": "b545d75a-552e-4675-a513-518e021bfba7",
      "metadata": {
        "id": "b545d75a-552e-4675-a513-518e021bfba7",
        "outputId": "cf483c63-df11-428f-bfae-9cfe6a1d79b7"
      },
      "outputs": [
        {
          "name": "stdout",
          "output_type": "stream",
          "text": [
            "Requirement already satisfied: colabturtleplus in /opt/anaconda3/lib/python3.12/site-packages (2.0.1)\n"
          ]
        },
        {
          "data": {
            "text/html": [
              "\n",
              "      <svg width=\"800\" height=\"600\">  \n",
              "        <rect width=\"100%\" height=\"100%\" style=\"fill:white;stroke:;stroke-width:1\"/>\n",
              "        \n",
              "        \n",
              "        <line x1=\"400.0\" y1=\"300.0\" x2=\"500.0\" y2=\"300.0\" stroke-linecap=\"round\" style=\"stroke:rgb(0,50,0);stroke-width:1\" /><line x1=\"500.0\" y1=\"300.0\" x2=\"406.031\" y2=\"265.798\" stroke-linecap=\"round\" style=\"stroke:rgb(0,50,0);stroke-width:1\" /><line x1=\"406.031\" y1=\"265.798\" x2=\"482.635\" y2=\"330.077\" stroke-linecap=\"round\" style=\"stroke:rgb(0,50,25);stroke-width:1\" /><line x1=\"482.635\" y1=\"330.077\" x2=\"432.635\" y2=\"243.474\" stroke-linecap=\"round\" style=\"stroke:rgb(0,50,25);stroke-width:1\" /><line x1=\"432.635\" y1=\"243.474\" x2=\"450.0\" y2=\"341.955\" stroke-linecap=\"round\" style=\"stroke:rgb(0,50,50);stroke-width:1\" /><line x1=\"450.0\" y1=\"341.955\" x2=\"467.365\" y2=\"243.474\" stroke-linecap=\"round\" style=\"stroke:rgb(0,50,50);stroke-width:1\" /><line x1=\"467.365\" y1=\"243.474\" x2=\"417.365\" y2=\"330.077\" stroke-linecap=\"round\" style=\"stroke:rgb(0,50,75);stroke-width:1\" /><line x1=\"417.365\" y1=\"330.077\" x2=\"493.969\" y2=\"265.798\" stroke-linecap=\"round\" style=\"stroke:rgb(0,50,75);stroke-width:1\" /><line x1=\"493.969\" y1=\"265.798\" x2=\"400.0\" y2=\"300.0\" stroke-linecap=\"round\" style=\"stroke:rgb(0,50,100);stroke-width:1\" /><line x1=\"400.0\" y1=\"300.0\" x2=\"500.0\" y2=\"300.0\" stroke-linecap=\"round\" style=\"stroke:rgb(0,50,100);stroke-width:1\" /><line x1=\"500.0\" y1=\"300.0\" x2=\"406.031\" y2=\"265.798\" stroke-linecap=\"round\" style=\"stroke:rgb(0,50,125);stroke-width:1\" /><line x1=\"406.031\" y1=\"265.798\" x2=\"482.635\" y2=\"330.077\" stroke-linecap=\"round\" style=\"stroke:rgb(0,50,125);stroke-width:1\" /><line x1=\"482.635\" y1=\"330.077\" x2=\"432.635\" y2=\"243.474\" stroke-linecap=\"round\" style=\"stroke:rgb(0,50,150);stroke-width:1\" /><line x1=\"432.635\" y1=\"243.474\" x2=\"450.0\" y2=\"341.955\" stroke-linecap=\"round\" style=\"stroke:rgb(0,50,150);stroke-width:1\" /><line x1=\"450.0\" y1=\"341.955\" x2=\"467.365\" y2=\"243.474\" stroke-linecap=\"round\" style=\"stroke:rgb(0,50,175);stroke-width:1\" /><line x1=\"467.365\" y1=\"243.474\" x2=\"417.365\" y2=\"330.077\" stroke-linecap=\"round\" style=\"stroke:rgb(0,50,175);stroke-width:1\" /><line x1=\"417.365\" y1=\"330.077\" x2=\"493.969\" y2=\"265.798\" stroke-linecap=\"round\" style=\"stroke:rgb(0,50,200);stroke-width:1\" /><line x1=\"493.969\" y1=\"265.798\" x2=\"400.0\" y2=\"300.0\" stroke-linecap=\"round\" style=\"stroke:rgb(0,50,200);stroke-width:1\" /><line x1=\"400.0\" y1=\"300.0\" x2=\"480.902\" y2=\"358.779\" stroke-linecap=\"round\" style=\"stroke:rgb(25,50,0);stroke-width:1\" /><line x1=\"480.902\" y1=\"358.779\" x2=\"424.983\" y2=\"275.875\" stroke-linecap=\"round\" style=\"stroke:rgb(25,50,0);stroke-width:1\" /><line x1=\"424.983\" y1=\"275.875\" x2=\"449.175\" y2=\"372.905\" stroke-linecap=\"round\" style=\"stroke:rgb(25,50,25);stroke-width:1\" /><line x1=\"449.175\" y1=\"372.905\" x2=\"459.628\" y2=\"273.453\" stroke-linecap=\"round\" style=\"stroke:rgb(25,50,25);stroke-width:1\" /><line x1=\"459.628\" y1=\"273.453\" x2=\"415.791\" y2=\"363.332\" stroke-linecap=\"round\" style=\"stroke:rgb(25,50,50);stroke-width:1\" /><line x1=\"415.791\" y1=\"363.332\" x2=\"487.725\" y2=\"293.866\" stroke-linecap=\"round\" style=\"stroke:rgb(25,50,50);stroke-width:1\" /><line x1=\"487.725\" y1=\"293.866\" x2=\"396.37\" y2=\"334.54\" stroke-linecap=\"round\" style=\"stroke:rgb(25,50,75);stroke-width:1\" /><line x1=\"396.37\" y1=\"334.54\" x2=\"496.126\" y2=\"327.564\" stroke-linecap=\"round\" style=\"stroke:rgb(25,50,75);stroke-width:1\" /><line x1=\"496.126\" y1=\"327.564\" x2=\"400.0\" y2=\"300.0\" stroke-linecap=\"round\" style=\"stroke:rgb(25,50,100);stroke-width:1\" /><line x1=\"400.0\" y1=\"300.0\" x2=\"480.902\" y2=\"358.779\" stroke-linecap=\"round\" style=\"stroke:rgb(25,50,100);stroke-width:1\" /><line x1=\"480.902\" y1=\"358.779\" x2=\"424.983\" y2=\"275.875\" stroke-linecap=\"round\" style=\"stroke:rgb(25,50,125);stroke-width:1\" /><line x1=\"424.983\" y1=\"275.875\" x2=\"449.175\" y2=\"372.905\" stroke-linecap=\"round\" style=\"stroke:rgb(25,50,125);stroke-width:1\" /><line x1=\"449.175\" y1=\"372.905\" x2=\"459.628\" y2=\"273.453\" stroke-linecap=\"round\" style=\"stroke:rgb(25,50,150);stroke-width:1\" /><line x1=\"459.628\" y1=\"273.453\" x2=\"415.791\" y2=\"363.332\" stroke-linecap=\"round\" style=\"stroke:rgb(25,50,150);stroke-width:1\" /><line x1=\"415.791\" y1=\"363.332\" x2=\"487.725\" y2=\"293.866\" stroke-linecap=\"round\" style=\"stroke:rgb(25,50,175);stroke-width:1\" /><line x1=\"487.725\" y1=\"293.866\" x2=\"396.37\" y2=\"334.54\" stroke-linecap=\"round\" style=\"stroke:rgb(25,50,175);stroke-width:1\" /><line x1=\"396.37\" y1=\"334.54\" x2=\"496.126\" y2=\"327.564\" stroke-linecap=\"round\" style=\"stroke:rgb(25,50,200);stroke-width:1\" /><line x1=\"496.126\" y1=\"327.564\" x2=\"400.0\" y2=\"300.0\" stroke-linecap=\"round\" style=\"stroke:rgb(25,50,200);stroke-width:1\" /><line x1=\"400.0\" y1=\"300.0\" x2=\"430.902\" y2=\"395.106\" stroke-linecap=\"round\" style=\"stroke:rgb(50,50,0);stroke-width:1\" /><line x1=\"430.902\" y1=\"395.106\" x2=\"434.392\" y2=\"295.167\" stroke-linecap=\"round\" style=\"stroke:rgb(50,50,0);stroke-width:1\" /><line x1=\"434.392\" y1=\"295.167\" x2=\"396.931\" y2=\"387.885\" stroke-linecap=\"round\" style=\"stroke:rgb(50,50,25);stroke-width:1\" /><line x1=\"396.931\" y1=\"387.885\" x2=\"463.844\" y2=\"313.571\" stroke-linecap=\"round\" style=\"stroke:rgb(50,50,25);stroke-width:1\" /><line x1=\"463.844\" y1=\"313.571\" x2=\"375.549\" y2=\"360.518\" stroke-linecap=\"round\" style=\"stroke:rgb(50,50,50);stroke-width:1\" /><line x1=\"375.549\" y1=\"360.518\" x2=\"474.576\" y2=\"346.601\" stroke-linecap=\"round\" style=\"stroke:rgb(50,50,50);stroke-width:1\" /><line x1=\"474.576\" y1=\"346.601\" x2=\"376.761\" y2=\"325.81\" stroke-linecap=\"round\" style=\"stroke:rgb(50,50,75);stroke-width:1\" /><line x1=\"376.761\" y1=\"325.81\" x2=\"461.566\" y2=\"378.802\" stroke-linecap=\"round\" style=\"stroke:rgb(50,50,75);stroke-width:1\" /><line x1=\"461.566\" y1=\"378.802\" x2=\"400.0\" y2=\"300.001\" stroke-linecap=\"round\" style=\"stroke:rgb(50,50,100);stroke-width:1\" /><line x1=\"400.0\" y1=\"300.001\" x2=\"430.902\" y2=\"395.107\" stroke-linecap=\"round\" style=\"stroke:rgb(50,50,100);stroke-width:1\" /><line x1=\"430.902\" y1=\"395.107\" x2=\"434.392\" y2=\"295.168\" stroke-linecap=\"round\" style=\"stroke:rgb(50,50,125);stroke-width:1\" /><line x1=\"434.392\" y1=\"295.168\" x2=\"396.931\" y2=\"387.886\" stroke-linecap=\"round\" style=\"stroke:rgb(50,50,125);stroke-width:1\" /><line x1=\"396.931\" y1=\"387.886\" x2=\"463.844\" y2=\"313.572\" stroke-linecap=\"round\" style=\"stroke:rgb(50,50,150);stroke-width:1\" /><line x1=\"463.844\" y1=\"313.572\" x2=\"375.549\" y2=\"360.519\" stroke-linecap=\"round\" style=\"stroke:rgb(50,50,150);stroke-width:1\" /><line x1=\"375.549\" y1=\"360.519\" x2=\"474.576\" y2=\"346.602\" stroke-linecap=\"round\" style=\"stroke:rgb(50,50,175);stroke-width:1\" /><line x1=\"474.576\" y1=\"346.602\" x2=\"376.761\" y2=\"325.811\" stroke-linecap=\"round\" style=\"stroke:rgb(50,50,175);stroke-width:1\" /><line x1=\"376.761\" y1=\"325.811\" x2=\"461.566\" y2=\"378.803\" stroke-linecap=\"round\" style=\"stroke:rgb(50,50,200);stroke-width:1\" /><line x1=\"461.566\" y1=\"378.803\" x2=\"400.0\" y2=\"300.002\" stroke-linecap=\"round\" style=\"stroke:rgb(50,50,200);stroke-width:1\" /><line x1=\"400.0\" y1=\"300.002\" x2=\"369.098\" y2=\"395.108\" stroke-linecap=\"round\" style=\"stroke:rgb(75,50,0);stroke-width:1\" /><line x1=\"369.098\" y1=\"395.108\" x2=\"430.664\" y2=\"316.307\" stroke-linecap=\"round\" style=\"stroke:rgb(75,50,0);stroke-width:1\" /><line x1=\"430.664\" y1=\"316.307\" x2=\"345.859\" y2=\"369.299\" stroke-linecap=\"round\" style=\"stroke:rgb(75,50,25);stroke-width:1\" /><line x1=\"345.859\" y1=\"369.299\" x2=\"443.674\" y2=\"348.508\" stroke-linecap=\"round\" style=\"stroke:rgb(75,50,25);stroke-width:1\" /><line x1=\"443.674\" y1=\"348.508\" x2=\"344.647\" y2=\"334.591\" stroke-linecap=\"round\" style=\"stroke:rgb(75,50,50);stroke-width:1\" /><line x1=\"344.647\" y1=\"334.591\" x2=\"432.942\" y2=\"381.538\" stroke-linecap=\"round\" style=\"stroke:rgb(75,50,50);stroke-width:1\" /><line x1=\"432.942\" y1=\"381.538\" x2=\"366.029\" y2=\"307.224\" stroke-linecap=\"round\" style=\"stroke:rgb(75,50,75);stroke-width:1\" /><line x1=\"366.029\" y1=\"307.224\" x2=\"403.49\" y2=\"399.942\" stroke-linecap=\"round\" style=\"stroke:rgb(75,50,75);stroke-width:1\" /><line x1=\"403.49\" y1=\"399.942\" x2=\"400.0\" y2=\"300.003\" stroke-linecap=\"round\" style=\"stroke:rgb(75,50,100);stroke-width:1\" /><line x1=\"400.0\" y1=\"300.003\" x2=\"369.098\" y2=\"395.109\" stroke-linecap=\"round\" style=\"stroke:rgb(75,50,100);stroke-width:1\" /><line x1=\"369.098\" y1=\"395.109\" x2=\"430.664\" y2=\"316.308\" stroke-linecap=\"round\" style=\"stroke:rgb(75,50,125);stroke-width:1\" /><line x1=\"430.664\" y1=\"316.308\" x2=\"345.859\" y2=\"369.3\" stroke-linecap=\"round\" style=\"stroke:rgb(75,50,125);stroke-width:1\" /><line x1=\"345.859\" y1=\"369.3\" x2=\"443.674\" y2=\"348.509\" stroke-linecap=\"round\" style=\"stroke:rgb(75,50,150);stroke-width:1\" /><line x1=\"443.674\" y1=\"348.509\" x2=\"344.647\" y2=\"334.592\" stroke-linecap=\"round\" style=\"stroke:rgb(75,50,150);stroke-width:1\" /><line x1=\"344.647\" y1=\"334.592\" x2=\"432.942\" y2=\"381.539\" stroke-linecap=\"round\" style=\"stroke:rgb(75,50,175);stroke-width:1\" /><line x1=\"432.942\" y1=\"381.539\" x2=\"366.029\" y2=\"307.225\" stroke-linecap=\"round\" style=\"stroke:rgb(75,50,175);stroke-width:1\" /><line x1=\"366.029\" y1=\"307.225\" x2=\"403.49\" y2=\"399.943\" stroke-linecap=\"round\" style=\"stroke:rgb(75,50,200);stroke-width:1\" /><line x1=\"403.49\" y1=\"399.943\" x2=\"400.0\" y2=\"300.004\" stroke-linecap=\"round\" style=\"stroke:rgb(75,50,200);stroke-width:1\" /><line x1=\"400.0\" y1=\"300.004\" x2=\"319.098\" y2=\"358.783\" stroke-linecap=\"round\" style=\"stroke:rgb(100,50,0);stroke-width:1\" /><line x1=\"319.098\" y1=\"358.783\" x2=\"415.224\" y2=\"331.219\" stroke-linecap=\"round\" style=\"stroke:rgb(100,50,0);stroke-width:1\" /><line x1=\"415.224\" y1=\"331.219\" x2=\"315.468\" y2=\"324.243\" stroke-linecap=\"round\" style=\"stroke:rgb(100,50,25);stroke-width:1\" /><line x1=\"315.468\" y1=\"324.243\" x2=\"406.823\" y2=\"364.917\" stroke-linecap=\"round\" style=\"stroke:rgb(100,50,25);stroke-width:1\" /><line x1=\"406.823\" y1=\"364.917\" x2=\"334.889\" y2=\"295.451\" stroke-linecap=\"round\" style=\"stroke:rgb(100,50,50);stroke-width:1\" /><line x1=\"334.889\" y1=\"295.451\" x2=\"378.726\" y2=\"385.33\" stroke-linecap=\"round\" style=\"stroke:rgb(100,50,50);stroke-width:1\" /><line x1=\"378.726\" y1=\"385.33\" x2=\"368.273\" y2=\"285.878\" stroke-linecap=\"round\" style=\"stroke:rgb(100,50,75);stroke-width:1\" /><line x1=\"368.273\" y1=\"285.878\" x2=\"344.081\" y2=\"382.908\" stroke-linecap=\"round\" style=\"stroke:rgb(100,50,75);stroke-width:1\" /><line x1=\"344.081\" y1=\"382.908\" x2=\"400.0\" y2=\"300.004\" stroke-linecap=\"round\" style=\"stroke:rgb(100,50,100);stroke-width:1\" /><line x1=\"400.0\" y1=\"300.004\" x2=\"319.098\" y2=\"358.783\" stroke-linecap=\"round\" style=\"stroke:rgb(100,50,100);stroke-width:1\" /><line x1=\"319.098\" y1=\"358.783\" x2=\"415.224\" y2=\"331.219\" stroke-linecap=\"round\" style=\"stroke:rgb(100,50,125);stroke-width:1\" /><line x1=\"415.224\" y1=\"331.219\" x2=\"315.468\" y2=\"324.243\" stroke-linecap=\"round\" style=\"stroke:rgb(100,50,125);stroke-width:1\" /><line x1=\"315.468\" y1=\"324.243\" x2=\"406.823\" y2=\"364.917\" stroke-linecap=\"round\" style=\"stroke:rgb(100,50,150);stroke-width:1\" /><line x1=\"406.823\" y1=\"364.917\" x2=\"334.889\" y2=\"295.451\" stroke-linecap=\"round\" style=\"stroke:rgb(100,50,150);stroke-width:1\" /><line x1=\"334.889\" y1=\"295.451\" x2=\"378.726\" y2=\"385.33\" stroke-linecap=\"round\" style=\"stroke:rgb(100,50,175);stroke-width:1\" /><line x1=\"378.726\" y1=\"385.33\" x2=\"368.273\" y2=\"285.878\" stroke-linecap=\"round\" style=\"stroke:rgb(100,50,175);stroke-width:1\" /><line x1=\"368.273\" y1=\"285.878\" x2=\"344.081\" y2=\"382.908\" stroke-linecap=\"round\" style=\"stroke:rgb(100,50,200);stroke-width:1\" /><line x1=\"344.081\" y1=\"382.908\" x2=\"400.0\" y2=\"300.004\" stroke-linecap=\"round\" style=\"stroke:rgb(100,50,200);stroke-width:1\" /><line x1=\"400.0\" y1=\"300.004\" x2=\"300.0\" y2=\"300.004\" stroke-linecap=\"round\" style=\"stroke:rgb(125,50,0);stroke-width:1\" /><line x1=\"300.0\" y1=\"300.004\" x2=\"393.969\" y2=\"334.206\" stroke-linecap=\"round\" style=\"stroke:rgb(125,50,0);stroke-width:1\" /><line x1=\"393.969\" y1=\"334.206\" x2=\"317.365\" y2=\"269.927\" stroke-linecap=\"round\" style=\"stroke:rgb(125,50,25);stroke-width:1\" /><line x1=\"317.365\" y1=\"269.927\" x2=\"367.365\" y2=\"356.53\" stroke-linecap=\"round\" style=\"stroke:rgb(125,50,25);stroke-width:1\" /><line x1=\"367.365\" y1=\"356.53\" x2=\"350.0\" y2=\"258.049\" stroke-linecap=\"round\" style=\"stroke:rgb(125,50,50);stroke-width:1\" /><line x1=\"350.0\" y1=\"258.049\" x2=\"332.635\" y2=\"356.53\" stroke-linecap=\"round\" style=\"stroke:rgb(125,50,50);stroke-width:1\" /><line x1=\"332.635\" y1=\"356.53\" x2=\"382.635\" y2=\"269.927\" stroke-linecap=\"round\" style=\"stroke:rgb(125,50,75);stroke-width:1\" /><line x1=\"382.635\" y1=\"269.927\" x2=\"306.031\" y2=\"334.206\" stroke-linecap=\"round\" style=\"stroke:rgb(125,50,75);stroke-width:1\" /><line x1=\"306.031\" y1=\"334.206\" x2=\"400.0\" y2=\"300.004\" stroke-linecap=\"round\" style=\"stroke:rgb(125,50,100);stroke-width:1\" /><line x1=\"400.0\" y1=\"300.004\" x2=\"300.0\" y2=\"300.004\" stroke-linecap=\"round\" style=\"stroke:rgb(125,50,100);stroke-width:1\" /><line x1=\"300.0\" y1=\"300.004\" x2=\"393.969\" y2=\"334.206\" stroke-linecap=\"round\" style=\"stroke:rgb(125,50,125);stroke-width:1\" /><line x1=\"393.969\" y1=\"334.206\" x2=\"317.365\" y2=\"269.927\" stroke-linecap=\"round\" style=\"stroke:rgb(125,50,125);stroke-width:1\" /><line x1=\"317.365\" y1=\"269.927\" x2=\"367.365\" y2=\"356.53\" stroke-linecap=\"round\" style=\"stroke:rgb(125,50,150);stroke-width:1\" /><line x1=\"367.365\" y1=\"356.53\" x2=\"350.0\" y2=\"258.049\" stroke-linecap=\"round\" style=\"stroke:rgb(125,50,150);stroke-width:1\" /><line x1=\"350.0\" y1=\"258.049\" x2=\"332.635\" y2=\"356.53\" stroke-linecap=\"round\" style=\"stroke:rgb(125,50,175);stroke-width:1\" /><line x1=\"332.635\" y1=\"356.53\" x2=\"382.635\" y2=\"269.927\" stroke-linecap=\"round\" style=\"stroke:rgb(125,50,175);stroke-width:1\" /><line x1=\"382.635\" y1=\"269.927\" x2=\"306.031\" y2=\"334.206\" stroke-linecap=\"round\" style=\"stroke:rgb(125,50,200);stroke-width:1\" /><line x1=\"306.031\" y1=\"334.206\" x2=\"400.0\" y2=\"300.004\" stroke-linecap=\"round\" style=\"stroke:rgb(125,50,200);stroke-width:1\" /><line x1=\"400.0\" y1=\"300.004\" x2=\"319.098\" y2=\"241.225\" stroke-linecap=\"round\" style=\"stroke:rgb(150,50,0);stroke-width:1\" /><line x1=\"319.098\" y1=\"241.225\" x2=\"375.017\" y2=\"324.129\" stroke-linecap=\"round\" style=\"stroke:rgb(150,50,0);stroke-width:1\" /><line x1=\"375.017\" y1=\"324.129\" x2=\"350.825\" y2=\"227.099\" stroke-linecap=\"round\" style=\"stroke:rgb(150,50,25);stroke-width:1\" /><line x1=\"350.825\" y1=\"227.099\" x2=\"340.372\" y2=\"326.551\" stroke-linecap=\"round\" style=\"stroke:rgb(150,50,25);stroke-width:1\" /><line x1=\"340.372\" y1=\"326.551\" x2=\"384.209\" y2=\"236.672\" stroke-linecap=\"round\" style=\"stroke:rgb(150,50,50);stroke-width:1\" /><line x1=\"384.209\" y1=\"236.672\" x2=\"312.275\" y2=\"306.138\" stroke-linecap=\"round\" style=\"stroke:rgb(150,50,50);stroke-width:1\" /><line x1=\"312.275\" y1=\"306.138\" x2=\"403.63\" y2=\"265.464\" stroke-linecap=\"round\" style=\"stroke:rgb(150,50,75);stroke-width:1\" /><line x1=\"403.63\" y1=\"265.464\" x2=\"303.874\" y2=\"272.44\" stroke-linecap=\"round\" style=\"stroke:rgb(150,50,75);stroke-width:1\" /><line x1=\"303.874\" y1=\"272.44\" x2=\"400.0\" y2=\"300.004\" stroke-linecap=\"round\" style=\"stroke:rgb(150,50,100);stroke-width:1\" /><line x1=\"400.0\" y1=\"300.004\" x2=\"319.098\" y2=\"241.225\" stroke-linecap=\"round\" style=\"stroke:rgb(150,50,100);stroke-width:1\" /><line x1=\"319.098\" y1=\"241.225\" x2=\"375.017\" y2=\"324.129\" stroke-linecap=\"round\" style=\"stroke:rgb(150,50,125);stroke-width:1\" /><line x1=\"375.017\" y1=\"324.129\" x2=\"350.825\" y2=\"227.099\" stroke-linecap=\"round\" style=\"stroke:rgb(150,50,125);stroke-width:1\" /><line x1=\"350.825\" y1=\"227.099\" x2=\"340.372\" y2=\"326.551\" stroke-linecap=\"round\" style=\"stroke:rgb(150,50,150);stroke-width:1\" /><line x1=\"340.372\" y1=\"326.551\" x2=\"384.209\" y2=\"236.672\" stroke-linecap=\"round\" style=\"stroke:rgb(150,50,150);stroke-width:1\" /><line x1=\"384.209\" y1=\"236.672\" x2=\"312.275\" y2=\"306.138\" stroke-linecap=\"round\" style=\"stroke:rgb(150,50,175);stroke-width:1\" /><line x1=\"312.275\" y1=\"306.138\" x2=\"403.63\" y2=\"265.464\" stroke-linecap=\"round\" style=\"stroke:rgb(150,50,175);stroke-width:1\" /><line x1=\"403.63\" y1=\"265.464\" x2=\"303.874\" y2=\"272.44\" stroke-linecap=\"round\" style=\"stroke:rgb(150,50,200);stroke-width:1\" /><line x1=\"303.874\" y1=\"272.44\" x2=\"400.0\" y2=\"300.004\" stroke-linecap=\"round\" style=\"stroke:rgb(150,50,200);stroke-width:1\" /><line x1=\"400.0\" y1=\"300.004\" x2=\"369.098\" y2=\"204.898\" stroke-linecap=\"round\" style=\"stroke:rgb(175,50,0);stroke-width:1\" /><line x1=\"369.098\" y1=\"204.898\" x2=\"365.608\" y2=\"304.837\" stroke-linecap=\"round\" style=\"stroke:rgb(175,50,0);stroke-width:1\" /><line x1=\"365.608\" y1=\"304.837\" x2=\"403.069\" y2=\"212.119\" stroke-linecap=\"round\" style=\"stroke:rgb(175,50,25);stroke-width:1\" /><line x1=\"403.069\" y1=\"212.119\" x2=\"336.156\" y2=\"286.433\" stroke-linecap=\"round\" style=\"stroke:rgb(175,50,25);stroke-width:1\" /><line x1=\"336.156\" y1=\"286.433\" x2=\"424.451\" y2=\"239.486\" stroke-linecap=\"round\" style=\"stroke:rgb(175,50,50);stroke-width:1\" /><line x1=\"424.451\" y1=\"239.486\" x2=\"325.424\" y2=\"253.403\" stroke-linecap=\"round\" style=\"stroke:rgb(175,50,50);stroke-width:1\" /><line x1=\"325.424\" y1=\"253.403\" x2=\"423.239\" y2=\"274.194\" stroke-linecap=\"round\" style=\"stroke:rgb(175,50,75);stroke-width:1\" /><line x1=\"423.239\" y1=\"274.194\" x2=\"338.434\" y2=\"221.202\" stroke-linecap=\"round\" style=\"stroke:rgb(175,50,75);stroke-width:1\" /><line x1=\"338.434\" y1=\"221.202\" x2=\"400.0\" y2=\"300.003\" stroke-linecap=\"round\" style=\"stroke:rgb(175,50,100);stroke-width:1\" /><line x1=\"400.0\" y1=\"300.003\" x2=\"369.098\" y2=\"204.897\" stroke-linecap=\"round\" style=\"stroke:rgb(175,50,100);stroke-width:1\" /><line x1=\"369.098\" y1=\"204.897\" x2=\"365.608\" y2=\"304.836\" stroke-linecap=\"round\" style=\"stroke:rgb(175,50,125);stroke-width:1\" /><line x1=\"365.608\" y1=\"304.836\" x2=\"403.069\" y2=\"212.118\" stroke-linecap=\"round\" style=\"stroke:rgb(175,50,125);stroke-width:1\" /><line x1=\"403.069\" y1=\"212.118\" x2=\"336.156\" y2=\"286.432\" stroke-linecap=\"round\" style=\"stroke:rgb(175,50,150);stroke-width:1\" /><line x1=\"336.156\" y1=\"286.432\" x2=\"424.451\" y2=\"239.485\" stroke-linecap=\"round\" style=\"stroke:rgb(175,50,150);stroke-width:1\" /><line x1=\"424.451\" y1=\"239.485\" x2=\"325.424\" y2=\"253.402\" stroke-linecap=\"round\" style=\"stroke:rgb(175,50,175);stroke-width:1\" /><line x1=\"325.424\" y1=\"253.402\" x2=\"423.239\" y2=\"274.193\" stroke-linecap=\"round\" style=\"stroke:rgb(175,50,175);stroke-width:1\" /><line x1=\"423.239\" y1=\"274.193\" x2=\"338.434\" y2=\"221.201\" stroke-linecap=\"round\" style=\"stroke:rgb(175,50,200);stroke-width:1\" /><line x1=\"338.434\" y1=\"221.201\" x2=\"400.0\" y2=\"300.002\" stroke-linecap=\"round\" style=\"stroke:rgb(175,50,200);stroke-width:1\" /><line x1=\"400.0\" y1=\"300.002\" x2=\"430.902\" y2=\"204.896\" stroke-linecap=\"round\" style=\"stroke:rgb(200,50,0);stroke-width:1\" /><line x1=\"430.902\" y1=\"204.896\" x2=\"369.336\" y2=\"283.697\" stroke-linecap=\"round\" style=\"stroke:rgb(200,50,0);stroke-width:1\" /><line x1=\"369.336\" y1=\"283.697\" x2=\"454.141\" y2=\"230.705\" stroke-linecap=\"round\" style=\"stroke:rgb(200,50,25);stroke-width:1\" /><line x1=\"454.141\" y1=\"230.705\" x2=\"356.326\" y2=\"251.496\" stroke-linecap=\"round\" style=\"stroke:rgb(200,50,25);stroke-width:1\" /><line x1=\"356.326\" y1=\"251.496\" x2=\"455.353\" y2=\"265.413\" stroke-linecap=\"round\" style=\"stroke:rgb(200,50,50);stroke-width:1\" /><line x1=\"455.353\" y1=\"265.413\" x2=\"367.058\" y2=\"218.466\" stroke-linecap=\"round\" style=\"stroke:rgb(200,50,50);stroke-width:1\" /><line x1=\"367.058\" y1=\"218.466\" x2=\"433.971\" y2=\"292.78\" stroke-linecap=\"round\" style=\"stroke:rgb(200,50,75);stroke-width:1\" /><line x1=\"433.971\" y1=\"292.78\" x2=\"396.51\" y2=\"200.062\" stroke-linecap=\"round\" style=\"stroke:rgb(200,50,75);stroke-width:1\" /><line x1=\"396.51\" y1=\"200.062\" x2=\"400.0\" y2=\"300.001\" stroke-linecap=\"round\" style=\"stroke:rgb(200,50,100);stroke-width:1\" /><line x1=\"400.0\" y1=\"300.001\" x2=\"430.902\" y2=\"204.895\" stroke-linecap=\"round\" style=\"stroke:rgb(200,50,100);stroke-width:1\" /><line x1=\"430.902\" y1=\"204.895\" x2=\"369.336\" y2=\"283.696\" stroke-linecap=\"round\" style=\"stroke:rgb(200,50,125);stroke-width:1\" /><line x1=\"369.336\" y1=\"283.696\" x2=\"454.141\" y2=\"230.704\" stroke-linecap=\"round\" style=\"stroke:rgb(200,50,125);stroke-width:1\" /><line x1=\"454.141\" y1=\"230.704\" x2=\"356.326\" y2=\"251.495\" stroke-linecap=\"round\" style=\"stroke:rgb(200,50,150);stroke-width:1\" /><line x1=\"356.326\" y1=\"251.495\" x2=\"455.353\" y2=\"265.412\" stroke-linecap=\"round\" style=\"stroke:rgb(200,50,150);stroke-width:1\" /><line x1=\"455.353\" y1=\"265.412\" x2=\"367.058\" y2=\"218.465\" stroke-linecap=\"round\" style=\"stroke:rgb(200,50,175);stroke-width:1\" /><line x1=\"367.058\" y1=\"218.465\" x2=\"433.971\" y2=\"292.779\" stroke-linecap=\"round\" style=\"stroke:rgb(200,50,175);stroke-width:1\" /><line x1=\"433.971\" y1=\"292.779\" x2=\"396.51\" y2=\"200.061\" stroke-linecap=\"round\" style=\"stroke:rgb(200,50,200);stroke-width:1\" /><line x1=\"396.51\" y1=\"200.061\" x2=\"400.0\" y2=\"300.0\" stroke-linecap=\"round\" style=\"stroke:rgb(200,50,200);stroke-width:1\" /><line x1=\"400.0\" y1=\"300.0\" x2=\"480.902\" y2=\"241.221\" stroke-linecap=\"round\" style=\"stroke:rgb(225,50,0);stroke-width:1\" /><line x1=\"480.902\" y1=\"241.221\" x2=\"384.776\" y2=\"268.785\" stroke-linecap=\"round\" style=\"stroke:rgb(225,50,0);stroke-width:1\" /><line x1=\"384.776\" y1=\"268.785\" x2=\"484.532\" y2=\"275.761\" stroke-linecap=\"round\" style=\"stroke:rgb(225,50,25);stroke-width:1\" /><line x1=\"484.532\" y1=\"275.761\" x2=\"393.177\" y2=\"235.087\" stroke-linecap=\"round\" style=\"stroke:rgb(225,50,25);stroke-width:1\" /><line x1=\"393.177\" y1=\"235.087\" x2=\"465.111\" y2=\"304.553\" stroke-linecap=\"round\" style=\"stroke:rgb(225,50,50);stroke-width:1\" /><line x1=\"465.111\" y1=\"304.553\" x2=\"421.274\" y2=\"214.674\" stroke-linecap=\"round\" style=\"stroke:rgb(225,50,50);stroke-width:1\" /><line x1=\"421.274\" y1=\"214.674\" x2=\"431.727\" y2=\"314.126\" stroke-linecap=\"round\" style=\"stroke:rgb(225,50,75);stroke-width:1\" /><line x1=\"431.727\" y1=\"314.126\" x2=\"455.919\" y2=\"217.096\" stroke-linecap=\"round\" style=\"stroke:rgb(225,50,75);stroke-width:1\" /><line x1=\"455.919\" y1=\"217.096\" x2=\"400.0\" y2=\"300.0\" stroke-linecap=\"round\" style=\"stroke:rgb(225,50,100);stroke-width:1\" /><line x1=\"400.0\" y1=\"300.0\" x2=\"480.902\" y2=\"241.221\" stroke-linecap=\"round\" style=\"stroke:rgb(225,50,100);stroke-width:1\" /><line x1=\"480.902\" y1=\"241.221\" x2=\"384.776\" y2=\"268.785\" stroke-linecap=\"round\" style=\"stroke:rgb(225,50,125);stroke-width:1\" /><line x1=\"384.776\" y1=\"268.785\" x2=\"484.532\" y2=\"275.761\" stroke-linecap=\"round\" style=\"stroke:rgb(225,50,125);stroke-width:1\" /><line x1=\"484.532\" y1=\"275.761\" x2=\"393.177\" y2=\"235.087\" stroke-linecap=\"round\" style=\"stroke:rgb(225,50,150);stroke-width:1\" /><line x1=\"393.177\" y1=\"235.087\" x2=\"465.111\" y2=\"304.553\" stroke-linecap=\"round\" style=\"stroke:rgb(225,50,150);stroke-width:1\" /><line x1=\"465.111\" y1=\"304.553\" x2=\"421.274\" y2=\"214.674\" stroke-linecap=\"round\" style=\"stroke:rgb(225,50,175);stroke-width:1\" /><line x1=\"421.274\" y1=\"214.674\" x2=\"431.727\" y2=\"314.126\" stroke-linecap=\"round\" style=\"stroke:rgb(225,50,175);stroke-width:1\" /><line x1=\"431.727\" y1=\"314.126\" x2=\"455.919\" y2=\"217.096\" stroke-linecap=\"round\" style=\"stroke:rgb(225,50,200);stroke-width:1\" /><line x1=\"455.919\" y1=\"217.096\" x2=\"400.0\" y2=\"300.0\" stroke-linecap=\"round\" style=\"stroke:rgb(225,50,200);stroke-width:1\" />\n",
              "        \n",
              "        \n",
              "        <g id=\"classic\" visibility=\"visible\" transform=\"rotate(234,400.0,300.0) translate(400.0, 300.0)\">\n",
              "<polygon points=\"-5,-4.5 0,-2.5 5,-4.5 0,4.5\" transform=\"skewX(0) scale(1,1)\" style=\"stroke:rgb(225,50,200);fill:rgb(225,50,200);stroke-width:1\" />\n",
              "<animateTransform id = \"one\" attributeName=\"transform\" \n",
              "                      type=\"scale\"\n",
              "                      from=\"1 1\" to=\"1 1\"\n",
              "                      begin=\"0s\" dur=\"0.01s\"\n",
              "                      repeatCount=\"1\"\n",
              "                      additive=\"sum\"\n",
              "                      fill=\"freeze\"\n",
              "                /><animateTransform attributeName=\"transform\"\n",
              "                    type=\"rotate\"\n",
              "                    from=\"0 0 0\" to =\"36 0 0\"\n",
              "                    begin=\"one.end\" dur=\"0.002s\"\n",
              "                    repeatCount=\"1\"\n",
              "                    additive=\"sum\"\n",
              "                    fill=\"freeze\"\n",
              "                /></g>\n",
              "      </svg>\n",
              "    "
            ],
            "text/plain": [
              "<IPython.core.display.HTML object>"
            ]
          },
          "metadata": {},
          "output_type": "display_data"
        }
      ],
      "source": [
        "# triple Nested Loop Example\n",
        "\n",
        "!pip install colabturtleplus\n",
        "from ColabTurtlePlus.Turtle import *\n",
        "\n",
        "clearscreen()\n",
        "speed(13) # 13 is fast, 1 is slow\n",
        "\n",
        "for i in range(10): #spirals to draw\n",
        "    color(255,0,0)\n",
        "    for j in range(9): #each spiral has 9 arms\n",
        "        color(i*25,50, j*25) #gets more red each spiral, each arm gets more blue\n",
        "        for k in range(2): # each arm has 2 lines (out and back)\n",
        "            forward(100)\n",
        "            right(200)\n",
        "    right(36) #360 / 10 is 36 degree offset for each spiral\n"
      ]
    },
    {
      "cell_type": "code",
      "execution_count": null,
      "id": "17f3f522-6844-412c-b4b1-1ddb91563ebd",
      "metadata": {
        "id": "17f3f522-6844-412c-b4b1-1ddb91563ebd",
        "outputId": "8aa64289-d4dc-435a-f6e0-613cafbfe056"
      },
      "outputs": [
        {
          "data": {
            "text/html": [
              "\n",
              "      <svg width=\"800\" height=\"600\">  \n",
              "        <rect width=\"100%\" height=\"100%\" style=\"fill:white;stroke:;stroke-width:1\"/>\n",
              "        \n",
              "        \n",
              "        <line x1=\"400.0\" y1=\"300.0\" x2=\"500.0\" y2=\"300.0\" stroke-linecap=\"round\" style=\"stroke:black;stroke-width:1\" /><line x1=\"500.0\" y1=\"300.0\" x2=\"500.0\" y2=\"200.0\" stroke-linecap=\"round\" style=\"stroke:black;stroke-width:1\" /><line x1=\"500.0\" y1=\"200.0\" x2=\"400.0\" y2=\"200.0\" stroke-linecap=\"round\" style=\"stroke:black;stroke-width:1\" /><line x1=\"400.0\" y1=\"200.0\" x2=\"400.0\" y2=\"300.0\" stroke-linecap=\"round\" style=\"stroke:black;stroke-width:1\" /><line x1=\"400.0\" y1=\"300.0\" x2=\"600.0\" y2=\"300.0\" stroke-linecap=\"round\" style=\"stroke:black;stroke-width:1\" /><line x1=\"600.0\" y1=\"300.0\" x2=\"600.0\" y2=\"100.0\" stroke-linecap=\"round\" style=\"stroke:black;stroke-width:1\" /><line x1=\"600.0\" y1=\"100.0\" x2=\"400.0\" y2=\"100.0\" stroke-linecap=\"round\" style=\"stroke:black;stroke-width:1\" /><line x1=\"400.0\" y1=\"100.0\" x2=\"400.0\" y2=\"300.0\" stroke-linecap=\"round\" style=\"stroke:black;stroke-width:1\" /><line x1=\"400.0\" y1=\"300.0\" x2=\"700.0\" y2=\"300.0\" stroke-linecap=\"round\" style=\"stroke:black;stroke-width:1\" /><line x1=\"700.0\" y1=\"300.0\" x2=\"700.0\" y2=\"0.0\" stroke-linecap=\"round\" style=\"stroke:black;stroke-width:1\" /><line x1=\"700.0\" y1=\"0.0\" x2=\"400.0\" y2=\"0.0\" stroke-linecap=\"round\" style=\"stroke:black;stroke-width:1\" /><line x1=\"400.0\" y1=\"0.0\" x2=\"400.0\" y2=\"300.0\" stroke-linecap=\"round\" style=\"stroke:black;stroke-width:1\" />\n",
              "        \n",
              "        \n",
              "        <g id=\"classic\" visibility=\"visible\" transform=\"rotate(0,400.0,300.0) translate(400.0, 300.0)\">\n",
              "<polygon points=\"-5,-4.5 0,-2.5 5,-4.5 0,4.5\" transform=\"skewX(0) scale(1,1)\" style=\"stroke:black;fill:black;stroke-width:1\" />\n",
              "<animateTransform id = \"one\" attributeName=\"transform\" \n",
              "                      type=\"scale\"\n",
              "                      from=\"1 1\" to=\"1 1\"\n",
              "                      begin=\"0s\" dur=\"0.01s\"\n",
              "                      repeatCount=\"1\"\n",
              "                      additive=\"sum\"\n",
              "                      fill=\"freeze\"\n",
              "                /><animateTransform attributeName=\"transform\"\n",
              "                    type=\"rotate\"\n",
              "                    from=\"0 0 0\" to =\"-90 0 0\"\n",
              "                    begin=\"one.end\" dur=\"0.25s\"\n",
              "                    repeatCount=\"1\"\n",
              "                    additive=\"sum\"\n",
              "                    fill=\"freeze\"\n",
              "                /></g>\n",
              "      </svg>\n",
              "    "
            ],
            "text/plain": [
              "<IPython.core.display.HTML object>"
            ]
          },
          "metadata": {},
          "output_type": "display_data"
        }
      ],
      "source": [
        "\"\"\"\n",
        "# Find a Partner\n",
        "\n",
        "# Nested Squares Drawing\n",
        "\n",
        "\n",
        "# 1. decomposition\n",
        "\n",
        "# 2. Patterns\n",
        "\n",
        "# 3. Pseudo Code\n",
        "\n",
        "\n",
        "\"\"\"\n",
        "\n",
        "\n",
        "#code solution to draw the nested squares\n",
        "\n",
        "from ColabTurtlePlus.Turtle import *\n",
        "\n",
        "clearscreen()\n",
        "\n",
        "for i in range(1,4):\n",
        "    for _ in range(4):\n",
        "        forward(i*100)\n",
        "        left(90)\n"
      ]
    },
    {
      "cell_type": "markdown",
      "id": "9d8ffd3a-95c6-4458-bf1a-8f0cae8662b9",
      "metadata": {
        "id": "9d8ffd3a-95c6-4458-bf1a-8f0cae8662b9"
      },
      "source": [
        "# Simulating $\\pi$\n",
        "\n",
        "If you throw darts at a square board (length 2) with a circle with radius 1 centered on the square. What percentage of the darts hit the circle? What percentage of the square's area is covered by circle?\n",
        "\n",
        "\\begin{align}\n",
        "percentage_{circle} &= \\frac{AreaCircle}{Area Square} \\\\\n",
        "&= \\frac{\\pi r^2}{2(2r)} \\\\\n",
        "&= \\frac{\\pi}{4} \\\\\n",
        "\\end{align}\n",
        "\n",
        "If we assume that the darts have equal chance of hitting anywhere within the square then the percentage taken up by the circle provides an approximation of the percentage of darts that would hit the circle. We can directly measure the percentage of darts hitting the circle: if c = number of darts hitting the circle and n is the total darts thrown then\n",
        "\n",
        "percentage hitting the circle = $\\frac{c}{n}$\n",
        "\n",
        "so\n",
        "\n",
        "$\\frac{c}{n} \\approx \\frac{\\pi}{4}$\n",
        "\n",
        "Thus we can approximate $\\pi$ as $\\frac{4c}{n}$\n",
        "\n",
        "Let's generate some dart throws and see how the above formula approximates $\\pi$\n",
        "\n",
        "To generate a dart throw we'll use the random module. It has a method called random that produces a random floating point value between 0 and 1 (exclusive).\n",
        "\n",
        "`random.random()` returns a value in [0,1).\n",
        "\n",
        "Algorithm:\n",
        "\n",
        "0. Repeat this X times:\n",
        "    1. generate a random x and random y value each within 0 to 1\n",
        "    2. Check the distance the point is away from the origin\n",
        "    3. if it is within 1 unit, increment a counter for darts within the circle\n",
        "    4. increment a counter for total darts thrown\n",
        "5. print 4 times (ratio of points within the circle to total darts) as the estimate for pi\n"
      ]
    },
    {
      "cell_type": "code",
      "execution_count": null,
      "id": "41208fee-33ed-44b9-94f9-8066e391af96",
      "metadata": {
        "id": "41208fee-33ed-44b9-94f9-8066e391af96",
        "outputId": "4ff409db-ea16-4ce3-8286-3e68fd884963"
      },
      "outputs": [
        {
          "name": "stdout",
          "output_type": "stream",
          "text": [
            "3.2\n"
          ]
        }
      ],
      "source": [
        "points_inside_circle = 0\n",
        "\n",
        "num_points = 10\n",
        "\n",
        "for _ in range(num_points):\n",
        "    # Generate random x and y coordinates between 0 and 1\n",
        "    x = random.random()\n",
        "    y = random.random()\n",
        "\n",
        "    # Calculate the distance from the origin (0, 0)\n",
        "    distance = math.sqrt(x**2 + y**2)\n",
        "\n",
        "    # Check if the point is inside the unit circle (radius = 1)\n",
        "    if distance <= 1:\n",
        "        points_inside_circle += 1\n",
        "\n",
        "# The ratio of points inside the circle to the total points is approximately pi/4\n",
        "estimated_pi = 4 * (points_inside_circle / num_points)\n",
        "\n",
        "print(estimated_pi)"
      ]
    },
    {
      "cell_type": "markdown",
      "id": "cd21ffa8-fae3-48ef-a857-3be2cc5b8720",
      "metadata": {
        "id": "cd21ffa8-fae3-48ef-a857-3be2cc5b8720"
      },
      "source": [
        "## Try at Home\n",
        "\n",
        "1. modify the guess game so the guesses are random as well, count how many guesses it takes to get it right. simulate 100 games and print the average number of guesses\n",
        "\n",
        "2. Complete the code to simulate pi\n",
        "\n",
        "3. use loops to draw a nested circle\n",
        "\n",
        "4. use loops to draw a triangle spiral\n"
      ]
    },
    {
      "cell_type": "code",
      "execution_count": null,
      "id": "790fc3d8-c7df-4103-9086-5c2b3db81a14",
      "metadata": {
        "id": "790fc3d8-c7df-4103-9086-5c2b3db81a14"
      },
      "outputs": [],
      "source": [
        "# try at home use loops to draw a nested circle\n",
        "# image of the desired output is in the lecture slides\n",
        "\n",
        "from ColabTurtlePlus.Turtle import *\n",
        "\n",
        "\n",
        "# your solution here\n",
        "\n",
        "\n",
        "\n"
      ]
    },
    {
      "cell_type": "code",
      "source": [
        "# try at home use loops to draw a triangle spiral\n",
        "\n"
      ],
      "metadata": {
        "id": "TFQ0jxpykjp_"
      },
      "id": "TFQ0jxpykjp_",
      "execution_count": null,
      "outputs": []
    }
  ],
  "metadata": {
    "kernelspec": {
      "display_name": "Python 3 (ipykernel)",
      "language": "python",
      "name": "python3"
    },
    "language_info": {
      "codemirror_mode": {
        "name": "ipython",
        "version": 3
      },
      "file_extension": ".py",
      "mimetype": "text/x-python",
      "name": "python",
      "nbconvert_exporter": "python",
      "pygments_lexer": "ipython3",
      "version": "3.12.7"
    },
    "colab": {
      "provenance": [],
      "include_colab_link": true
    }
  },
  "nbformat": 4,
  "nbformat_minor": 5
}