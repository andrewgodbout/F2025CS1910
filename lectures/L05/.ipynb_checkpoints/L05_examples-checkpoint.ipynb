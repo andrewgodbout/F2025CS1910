{
 "cells": [
  {
   "cell_type": "markdown",
   "id": "d66a3b09-6bbd-4356-835e-35eb2f89fbff",
   "metadata": {},
   "source": [
    "# Examples Lecture 05"
   ]
  },
  {
   "cell_type": "markdown",
   "id": "c594c2f1-3a48-4d56-94c7-39c9f8f90c6c",
   "metadata": {},
   "source": [
    "## Strings, Escape Sequences and Format Specifiers"
   ]
  },
  {
   "cell_type": "code",
   "execution_count": 26,
   "id": "95e25e5b-6859-4f80-a8b7-6d4889faf2d4",
   "metadata": {},
   "outputs": [
    {
     "name": "stdout",
     "output_type": "stream",
     "text": [
      "\"\\Hello\n",
      "\tWorld!\\\"\n"
     ]
    }
   ],
   "source": [
    "# escape sequence examples\n",
    "\n",
    "print(\"\\\"\\\\Hello\\n\\tWorld!\\\\\\\"\")"
   ]
  },
  {
   "cell_type": "code",
   "execution_count": 29,
   "id": "c972406c-d97b-4965-b4d0-96f4ec1f438d",
   "metadata": {},
   "outputs": [
    {
     "name": "stdout",
     "output_type": "stream",
     "text": [
      "file012.txt\n"
     ]
    }
   ],
   "source": [
    "# Format Specifier Example\n",
    "\n",
    "# Construct file names that match file001.txt\"\n",
    "\n",
    "file_num = 12\n",
    "file_name = f\"file{file_num:03d}.txt\"\n",
    "\n",
    "print(file_name)"
   ]
  },
  {
   "cell_type": "markdown",
   "id": "21b3d48a-81dc-4607-8617-62b3b573b566",
   "metadata": {},
   "source": [
    "# Max value in an infinite loop\n",
    "\n",
    "read an infinite amount of values and after each value print out the largest seen so far"
   ]
  },
  {
   "cell_type": "code",
   "execution_count": 32,
   "id": "4e6b6f14-5d26-4718-957d-f36fb1f7f64a",
   "metadata": {},
   "outputs": [
    {
     "name": "stdin",
     "output_type": "stream",
     "text": [
      "Enter a number: 29\n"
     ]
    },
    {
     "name": "stdout",
     "output_type": "stream",
     "text": [
      "max seen so far: 29\n"
     ]
    },
    {
     "ename": "KeyboardInterrupt",
     "evalue": "Interrupted by user",
     "output_type": "error",
     "traceback": [
      "\u001b[0;31m---------------------------------------------------------------------------\u001b[0m",
      "\u001b[0;31mKeyboardInterrupt\u001b[0m                         Traceback (most recent call last)",
      "Cell \u001b[0;32mIn[32], line 5\u001b[0m\n\u001b[1;32m      3\u001b[0m \u001b[38;5;66;03m#infinite loop\u001b[39;00m\n\u001b[1;32m      4\u001b[0m \u001b[38;5;28;01mwhile\u001b[39;00m (\u001b[38;5;28;01mTrue\u001b[39;00m): \n\u001b[0;32m----> 5\u001b[0m     current_value \u001b[38;5;241m=\u001b[39m \u001b[38;5;28mint\u001b[39m(\u001b[38;5;28minput\u001b[39m(\u001b[38;5;124m\"\u001b[39m\u001b[38;5;124mEnter a number:\u001b[39m\u001b[38;5;124m\"\u001b[39m))\n\u001b[1;32m      6\u001b[0m     max_value \u001b[38;5;241m=\u001b[39m \u001b[38;5;28mmax\u001b[39m(current_value, max_value)\n\u001b[1;32m      7\u001b[0m     \u001b[38;5;28mprint\u001b[39m(\u001b[38;5;124mf\u001b[39m\u001b[38;5;124m\"\u001b[39m\u001b[38;5;124mmax seen so far: \u001b[39m\u001b[38;5;132;01m{\u001b[39;00mmax_value\u001b[38;5;132;01m}\u001b[39;00m\u001b[38;5;124m\"\u001b[39m)\n",
      "File \u001b[0;32m/opt/anaconda3/lib/python3.12/site-packages/ipykernel/kernelbase.py:1262\u001b[0m, in \u001b[0;36mKernel.raw_input\u001b[0;34m(self, prompt)\u001b[0m\n\u001b[1;32m   1260\u001b[0m     msg \u001b[38;5;241m=\u001b[39m \u001b[38;5;124m\"\u001b[39m\u001b[38;5;124mraw_input was called, but this frontend does not support input requests.\u001b[39m\u001b[38;5;124m\"\u001b[39m\n\u001b[1;32m   1261\u001b[0m     \u001b[38;5;28;01mraise\u001b[39;00m StdinNotImplementedError(msg)\n\u001b[0;32m-> 1262\u001b[0m \u001b[38;5;28;01mreturn\u001b[39;00m \u001b[38;5;28mself\u001b[39m\u001b[38;5;241m.\u001b[39m_input_request(\n\u001b[1;32m   1263\u001b[0m     \u001b[38;5;28mstr\u001b[39m(prompt),\n\u001b[1;32m   1264\u001b[0m     \u001b[38;5;28mself\u001b[39m\u001b[38;5;241m.\u001b[39m_parent_ident[\u001b[38;5;124m\"\u001b[39m\u001b[38;5;124mshell\u001b[39m\u001b[38;5;124m\"\u001b[39m],\n\u001b[1;32m   1265\u001b[0m     \u001b[38;5;28mself\u001b[39m\u001b[38;5;241m.\u001b[39mget_parent(\u001b[38;5;124m\"\u001b[39m\u001b[38;5;124mshell\u001b[39m\u001b[38;5;124m\"\u001b[39m),\n\u001b[1;32m   1266\u001b[0m     password\u001b[38;5;241m=\u001b[39m\u001b[38;5;28;01mFalse\u001b[39;00m,\n\u001b[1;32m   1267\u001b[0m )\n",
      "File \u001b[0;32m/opt/anaconda3/lib/python3.12/site-packages/ipykernel/kernelbase.py:1305\u001b[0m, in \u001b[0;36mKernel._input_request\u001b[0;34m(self, prompt, ident, parent, password)\u001b[0m\n\u001b[1;32m   1302\u001b[0m \u001b[38;5;28;01mexcept\u001b[39;00m \u001b[38;5;167;01mKeyboardInterrupt\u001b[39;00m:\n\u001b[1;32m   1303\u001b[0m     \u001b[38;5;66;03m# re-raise KeyboardInterrupt, to truncate traceback\u001b[39;00m\n\u001b[1;32m   1304\u001b[0m     msg \u001b[38;5;241m=\u001b[39m \u001b[38;5;124m\"\u001b[39m\u001b[38;5;124mInterrupted by user\u001b[39m\u001b[38;5;124m\"\u001b[39m\n\u001b[0;32m-> 1305\u001b[0m     \u001b[38;5;28;01mraise\u001b[39;00m \u001b[38;5;167;01mKeyboardInterrupt\u001b[39;00m(msg) \u001b[38;5;28;01mfrom\u001b[39;00m \u001b[38;5;28;01mNone\u001b[39;00m\n\u001b[1;32m   1306\u001b[0m \u001b[38;5;28;01mexcept\u001b[39;00m \u001b[38;5;167;01mException\u001b[39;00m:\n\u001b[1;32m   1307\u001b[0m     \u001b[38;5;28mself\u001b[39m\u001b[38;5;241m.\u001b[39mlog\u001b[38;5;241m.\u001b[39mwarning(\u001b[38;5;124m\"\u001b[39m\u001b[38;5;124mInvalid Message:\u001b[39m\u001b[38;5;124m\"\u001b[39m, exc_info\u001b[38;5;241m=\u001b[39m\u001b[38;5;28;01mTrue\u001b[39;00m)\n",
      "\u001b[0;31mKeyboardInterrupt\u001b[0m: Interrupted by user"
     ]
    }
   ],
   "source": [
    "max_value = float(\"-inf\")\n",
    "\n",
    "#infinite loop\n",
    "while (True): \n",
    "    current_value = int(input(\"Enter a number:\"))\n",
    "    max_value = max(current_value, max_value)\n",
    "    print(f\"max seen so far: {max_value}\")"
   ]
  },
  {
   "cell_type": "markdown",
   "id": "725c7c93-ee90-4272-af10-b605bf0e189c",
   "metadata": {},
   "source": [
    "## Partner Task\n",
    "\n",
    "Write a program to ask the user to enter 3 floating point numbers and then print the average.\n",
    "\n",
    "Make use of the += (add and assign operator) as part of your solution.\n",
    "\n",
    " "
   ]
  },
  {
   "cell_type": "code",
   "execution_count": 31,
   "id": "fab848a3-9c52-4cb9-84cc-9d570b1a83f0",
   "metadata": {},
   "outputs": [],
   "source": [
    "# Solution to Partner Task \n",
    "\n",
    "#place holder\n",
    "\n",
    "\n"
   ]
  },
  {
   "cell_type": "markdown",
   "id": "a43297d1-ec43-47dc-a6cc-d66394080ac2",
   "metadata": {},
   "source": [
    "# Readability Pause\n"
   ]
  },
  {
   "cell_type": "code",
   "execution_count": 8,
   "id": "be146e3b-8166-4bb1-9198-1e1fe1536577",
   "metadata": {},
   "outputs": [],
   "source": [
    "# choose descriptive variable names and use pot_hole_case where appropriate\n",
    "\n",
    "#yes\n",
    "student_grade = 95\n",
    "\n",
    "#no\n",
    "sg = 49\n"
   ]
  },
  {
   "cell_type": "code",
   "execution_count": 12,
   "id": "3c6563ca-e0c4-446e-a41b-eae79387aaa5",
   "metadata": {},
   "outputs": [],
   "source": [
    "# white space with expressions\n",
    "# use single spaces with binary operators \n",
    "# be consistent\n",
    "\n",
    "#yes\n",
    "student_id = 29\n",
    "student_id += 1\n",
    "student_id = student_id + 1\n",
    "\n",
    "#no\n",
    "student_id= 29\n",
    "student_id+=1\n",
    "student_id =  student_id    +  1\n"
   ]
  },
  {
   "cell_type": "code",
   "execution_count": null,
   "id": "fd2dbfdb-88c5-400e-b4f2-efced7b8b18b",
   "metadata": {},
   "outputs": [],
   "source": [
    "# white space with function calls \n",
    "# do not put a space between parenthesis\n",
    "\n",
    "#yes\n",
    "print(\"hello\")\n",
    "\n",
    "#no\n",
    "print (\"hello\")\n",
    "print( \"hello\" )\n",
    "print ( \"hello\" )\n"
   ]
  },
  {
   "cell_type": "markdown",
   "id": "1289d301-6088-433f-b034-53936c835175",
   "metadata": {},
   "source": [
    "## Functions "
   ]
  },
  {
   "cell_type": "code",
   "execution_count": 10,
   "id": "203141aa-fa0f-4c08-bf5f-051337e3e3d1",
   "metadata": {},
   "outputs": [
    {
     "name": "stdin",
     "output_type": "stream",
     "text": [
      "enter an integer value -29\n"
     ]
    },
    {
     "name": "stdout",
     "output_type": "stream",
     "text": [
      "abs of x is 29\n"
     ]
    }
   ],
   "source": [
    "def abs(value):\n",
    "    if value < 0:\n",
    "        return -value\n",
    "    return value\n",
    "\n",
    "x = input(\"enter an integer value\")\n",
    "x = int(x)\n",
    "\n",
    "abs_x = abs(x)\n",
    "\n",
    "print(f\"abs of {x} is {abs_x}\")\n"
   ]
  },
  {
   "cell_type": "code",
   "execution_count": 11,
   "id": "6776bc37-3a87-4cbf-8d86-c511e18112a9",
   "metadata": {},
   "outputs": [
    {
     "data": {
      "text/plain": [
       "10.25"
      ]
     },
     "execution_count": 11,
     "metadata": {},
     "output_type": "execute_result"
    }
   ],
   "source": [
    "float(str(f\"{max(5,min(5,max(5,1)))}.25\")) + int(5.25)"
   ]
  },
  {
   "cell_type": "markdown",
   "id": "69547c81-67c0-48a1-ada4-6c055193dc49",
   "metadata": {},
   "source": [
    "## Euclidean Distance"
   ]
  },
  {
   "cell_type": "code",
   "execution_count": 15,
   "id": "cef44071-e685-4881-bbcd-e6b60a26c30b",
   "metadata": {},
   "outputs": [
    {
     "name": "stdout",
     "output_type": "stream",
     "text": [
      "1.0\n"
     ]
    }
   ],
   "source": [
    "import math\n",
    "\n",
    "x1 = 1\n",
    "y1 = 1\n",
    "x2 = 0\n",
    "y2 = 0\n",
    "\n",
    "#what is the distance between (x1,y1) and (x2, y2)\n",
    "distance = math.sqrt(pow(x2-x1,2) + pow(y2-y1,2))\n",
    "print(distance)"
   ]
  },
  {
   "cell_type": "markdown",
   "id": "06270279-011f-4449-bac5-80f0f7cf40da",
   "metadata": {},
   "source": [
    "## Try at home"
   ]
  },
  {
   "cell_type": "code",
   "execution_count": 16,
   "id": "b674446e-b308-4cce-84fa-39ec64769fed",
   "metadata": {},
   "outputs": [],
   "source": [
    "#prompt for first and last name, print the longer name\n",
    "#hint: use max and len built-in functions\n",
    "\n",
    "\n"
   ]
  },
  {
   "cell_type": "code",
   "execution_count": 17,
   "id": "113c05e3-857c-4952-99ef-0e31a4497607",
   "metadata": {},
   "outputs": [],
   "source": [
    "#Adding machine: prompt for 2 numbers and output the sum\n",
    "\n"
   ]
  },
  {
   "cell_type": "code",
   "execution_count": 18,
   "id": "bbec8ac0-e860-49f9-a3f5-6c9ec9375b55",
   "metadata": {},
   "outputs": [],
   "source": [
    "#convert the Euclidean distance formula to use Manhattan distance instead\n",
    "\n",
    "\n"
   ]
  },
  {
   "cell_type": "code",
   "execution_count": null,
   "id": "a7ac208a-e9b0-4f22-b70d-81f71cce8e51",
   "metadata": {},
   "outputs": [],
   "source": []
  }
 ],
 "metadata": {
  "kernelspec": {
   "display_name": "Python 3 (ipykernel)",
   "language": "python",
   "name": "python3"
  },
  "language_info": {
   "codemirror_mode": {
    "name": "ipython",
    "version": 3
   },
   "file_extension": ".py",
   "mimetype": "text/x-python",
   "name": "python",
   "nbconvert_exporter": "python",
   "pygments_lexer": "ipython3",
   "version": "3.12.7"
  }
 },
 "nbformat": 4,
 "nbformat_minor": 5
}
