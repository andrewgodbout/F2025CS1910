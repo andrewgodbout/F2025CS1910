{
  "cells": [
    {
      "cell_type": "markdown",
      "metadata": {
        "id": "view-in-github",
        "colab_type": "text"
      },
      "source": [
        "<a href=\"https://colab.research.google.com/github/andrewgodbout/F2025CS1910/blob/main/lectures/L05/L05_examples.ipynb\" target=\"_parent\"><img src=\"https://colab.research.google.com/assets/colab-badge.svg\" alt=\"Open In Colab\"/></a>"
      ]
    },
    {
      "cell_type": "markdown",
      "id": "d66a3b09-6bbd-4356-835e-35eb2f89fbff",
      "metadata": {
        "id": "d66a3b09-6bbd-4356-835e-35eb2f89fbff"
      },
      "source": [
        "# Examples Lecture 05"
      ]
    },
    {
      "cell_type": "markdown",
      "id": "c594c2f1-3a48-4d56-94c7-39c9f8f90c6c",
      "metadata": {
        "id": "c594c2f1-3a48-4d56-94c7-39c9f8f90c6c"
      },
      "source": [
        "## Strings, Escape Sequences and Format Specifiers"
      ]
    },
    {
      "cell_type": "code",
      "execution_count": null,
      "id": "95e25e5b-6859-4f80-a8b7-6d4889faf2d4",
      "metadata": {
        "id": "95e25e5b-6859-4f80-a8b7-6d4889faf2d4",
        "outputId": "d7050c61-6113-407e-8942-461d2dcec21e"
      },
      "outputs": [
        {
          "name": "stdout",
          "output_type": "stream",
          "text": [
            "\"\\Hello\n",
            "\tWorld!\\\"\n"
          ]
        }
      ],
      "source": [
        "# escape sequence examples\n",
        "\n",
        "print(\"\\\"\\\\Hello\\n\\tWorld!\\\\\\\"\")"
      ]
    },
    {
      "cell_type": "code",
      "execution_count": null,
      "id": "c972406c-d97b-4965-b4d0-96f4ec1f438d",
      "metadata": {
        "id": "c972406c-d97b-4965-b4d0-96f4ec1f438d",
        "outputId": "afc49425-6afa-4541-fedd-af3d49734e50"
      },
      "outputs": [
        {
          "name": "stdout",
          "output_type": "stream",
          "text": [
            "file012.txt\n"
          ]
        }
      ],
      "source": [
        "# Format Specifier Example\n",
        "\n",
        "# Construct file names that match file001.txt\"\n",
        "\n",
        "file_num = 12\n",
        "file_name = f\"file{file_num:03d}.txt\"\n",
        "\n",
        "print(file_name)"
      ]
    },
    {
      "cell_type": "markdown",
      "id": "21b3d48a-81dc-4607-8617-62b3b573b566",
      "metadata": {
        "id": "21b3d48a-81dc-4607-8617-62b3b573b566"
      },
      "source": [
        "# Max value in an infinite loop\n",
        "\n",
        "read an infinite amount of values and after each value print out the largest seen so far"
      ]
    },
    {
      "cell_type": "code",
      "execution_count": null,
      "id": "4e6b6f14-5d26-4718-957d-f36fb1f7f64a",
      "metadata": {
        "id": "4e6b6f14-5d26-4718-957d-f36fb1f7f64a"
      },
      "outputs": [],
      "source": [
        "#initialize max_value to the smallest possible number\n",
        "#this way we know every value that follows will be larger\n",
        "max_value = float(\"-inf\")\n",
        "\n",
        "#infinite loop\n",
        "while (True):\n",
        "    current_value = int(input(\"Enter a number:\"))\n",
        "    max_value = max(current_value, max_value)\n",
        "    print(f\"max seen so far: {max_value}\")"
      ]
    },
    {
      "cell_type": "markdown",
      "id": "725c7c93-ee90-4272-af10-b605bf0e189c",
      "metadata": {
        "id": "725c7c93-ee90-4272-af10-b605bf0e189c"
      },
      "source": [
        "## Partner Task\n",
        "\n",
        "Write a program to ask the user to enter 3 floating point numbers and then print the average.\n",
        "\n",
        "Make use of the += (add and assign operator) as part of your solution.\n",
        "\n",
        ""
      ]
    },
    {
      "cell_type": "code",
      "execution_count": null,
      "id": "fab848a3-9c52-4cb9-84cc-9d570b1a83f0",
      "metadata": {
        "id": "fab848a3-9c52-4cb9-84cc-9d570b1a83f0"
      },
      "outputs": [],
      "source": [
        "# Solution to Partner Task\n",
        "\n",
        "#place holder\n",
        "\n",
        "\n"
      ]
    },
    {
      "cell_type": "markdown",
      "id": "a43297d1-ec43-47dc-a6cc-d66394080ac2",
      "metadata": {
        "id": "a43297d1-ec43-47dc-a6cc-d66394080ac2"
      },
      "source": [
        "# Readability Pause\n"
      ]
    },
    {
      "cell_type": "code",
      "execution_count": null,
      "id": "be146e3b-8166-4bb1-9198-1e1fe1536577",
      "metadata": {
        "id": "be146e3b-8166-4bb1-9198-1e1fe1536577"
      },
      "outputs": [],
      "source": [
        "# choose descriptive variable names and use pot_hole_case where appropriate\n",
        "\n",
        "#yes\n",
        "student_grade = 95\n",
        "\n",
        "#no\n",
        "sg = 49\n"
      ]
    },
    {
      "cell_type": "code",
      "execution_count": null,
      "id": "3c6563ca-e0c4-446e-a41b-eae79387aaa5",
      "metadata": {
        "id": "3c6563ca-e0c4-446e-a41b-eae79387aaa5"
      },
      "outputs": [],
      "source": [
        "# white space with expressions\n",
        "# use single spaces with binary operators\n",
        "# be consistent\n",
        "\n",
        "#yes\n",
        "student_id = 29\n",
        "student_id += 1\n",
        "student_id = student_id + 1\n",
        "\n",
        "#no\n",
        "student_id= 29\n",
        "student_id+=1\n",
        "student_id =  student_id    +  1\n"
      ]
    },
    {
      "cell_type": "code",
      "execution_count": null,
      "id": "fd2dbfdb-88c5-400e-b4f2-efced7b8b18b",
      "metadata": {
        "id": "fd2dbfdb-88c5-400e-b4f2-efced7b8b18b"
      },
      "outputs": [],
      "source": [
        "# white space with function calls\n",
        "# do not put a space between parenthesis\n",
        "\n",
        "#yes\n",
        "print(\"hello\")\n",
        "\n",
        "#no\n",
        "print (\"hello\")\n",
        "print( \"hello\" )\n",
        "print ( \"hello\" )\n"
      ]
    },
    {
      "cell_type": "markdown",
      "id": "1289d301-6088-433f-b034-53936c835175",
      "metadata": {
        "id": "1289d301-6088-433f-b034-53936c835175"
      },
      "source": [
        "## Functions"
      ]
    },
    {
      "cell_type": "code",
      "execution_count": null,
      "id": "203141aa-fa0f-4c08-bf5f-051337e3e3d1",
      "metadata": {
        "id": "203141aa-fa0f-4c08-bf5f-051337e3e3d1",
        "outputId": "4e18eb04-8549-4c34-9d18-e02c36b9852e"
      },
      "outputs": [
        {
          "name": "stdin",
          "output_type": "stream",
          "text": [
            "enter an integer value -29\n"
          ]
        },
        {
          "name": "stdout",
          "output_type": "stream",
          "text": [
            "abs of x is 29\n"
          ]
        }
      ],
      "source": [
        "# Functions will make up a large part of the material between midterm1 and midterm 2\n",
        "# for midterm 1 we should be comfortable calling functions like built-in functions\n",
        "# not making up our own functions just yet\n",
        "\n",
        "def abs(value):\n",
        "    if value < 0:\n",
        "        return -value\n",
        "    return value\n",
        "\n",
        "x = input(\"enter an integer value\")\n",
        "x = int(x)\n",
        "\n",
        "abs_x = abs(x)\n",
        "\n",
        "print(f\"abs of {x} is {abs_x}\")\n"
      ]
    },
    {
      "cell_type": "code",
      "execution_count": null,
      "id": "6776bc37-3a87-4cbf-8d86-c511e18112a9",
      "metadata": {
        "id": "6776bc37-3a87-4cbf-8d86-c511e18112a9",
        "outputId": "e8140dd8-d8d4-4ac9-e5aa-2ef68b358243"
      },
      "outputs": [
        {
          "data": {
            "text/plain": [
              "10.25"
            ]
          },
          "execution_count": 11,
          "metadata": {},
          "output_type": "execute_result"
        }
      ],
      "source": [
        "float(str(f\"{max(5,min(5,max(5,1)))}.25\")) + int(5.25)"
      ]
    },
    {
      "cell_type": "markdown",
      "id": "69547c81-67c0-48a1-ada4-6c055193dc49",
      "metadata": {
        "id": "69547c81-67c0-48a1-ada4-6c055193dc49"
      },
      "source": [
        "## Euclidean Distance"
      ]
    },
    {
      "cell_type": "code",
      "execution_count": null,
      "id": "cef44071-e685-4881-bbcd-e6b60a26c30b",
      "metadata": {
        "id": "cef44071-e685-4881-bbcd-e6b60a26c30b",
        "outputId": "7d63bc42-7ad5-440c-d5e2-c2abed237506"
      },
      "outputs": [
        {
          "name": "stdout",
          "output_type": "stream",
          "text": [
            "1.0\n"
          ]
        }
      ],
      "source": [
        "import math\n",
        "\n",
        "x1 = 1\n",
        "y1 = 1\n",
        "x2 = 0\n",
        "y2 = 0\n",
        "\n",
        "#what is the distance between (x1,y1) and (x2, y2)\n",
        "distance = math.sqrt(pow(x2-x1,2) + pow(y2-y1,2))\n",
        "print(distance)"
      ]
    },
    {
      "cell_type": "markdown",
      "id": "06270279-011f-4449-bac5-80f0f7cf40da",
      "metadata": {
        "id": "06270279-011f-4449-bac5-80f0f7cf40da"
      },
      "source": [
        "## Try at home"
      ]
    },
    {
      "cell_type": "code",
      "execution_count": null,
      "id": "b674446e-b308-4cce-84fa-39ec64769fed",
      "metadata": {
        "id": "b674446e-b308-4cce-84fa-39ec64769fed"
      },
      "outputs": [],
      "source": [
        "#prompt for first and last name, print the longer name\n",
        "#hint: use max and len built-in functions\n",
        "\n",
        "\n"
      ]
    },
    {
      "cell_type": "code",
      "execution_count": null,
      "id": "113c05e3-857c-4952-99ef-0e31a4497607",
      "metadata": {
        "id": "113c05e3-857c-4952-99ef-0e31a4497607"
      },
      "outputs": [],
      "source": [
        "#Adding machine: prompt for 2 numbers and output the sum\n",
        "\n"
      ]
    },
    {
      "cell_type": "code",
      "execution_count": null,
      "id": "bbec8ac0-e860-49f9-a3f5-6c9ec9375b55",
      "metadata": {
        "id": "bbec8ac0-e860-49f9-a3f5-6c9ec9375b55"
      },
      "outputs": [],
      "source": [
        "#convert the Euclidean distance formula to use Manhattan distance instead\n",
        "\n",
        "\n"
      ]
    },
    {
      "cell_type": "code",
      "execution_count": null,
      "id": "a7ac208a-e9b0-4f22-b70d-81f71cce8e51",
      "metadata": {
        "id": "a7ac208a-e9b0-4f22-b70d-81f71cce8e51"
      },
      "outputs": [],
      "source": []
    }
  ],
  "metadata": {
    "kernelspec": {
      "display_name": "Python 3 (ipykernel)",
      "language": "python",
      "name": "python3"
    },
    "language_info": {
      "codemirror_mode": {
        "name": "ipython",
        "version": 3
      },
      "file_extension": ".py",
      "mimetype": "text/x-python",
      "name": "python",
      "nbconvert_exporter": "python",
      "pygments_lexer": "ipython3",
      "version": "3.12.7"
    },
    "colab": {
      "provenance": [],
      "include_colab_link": true
    }
  },
  "nbformat": 4,
  "nbformat_minor": 5
}