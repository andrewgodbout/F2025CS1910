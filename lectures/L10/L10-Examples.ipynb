{
 "cells": [
  {
   "cell_type": "markdown",
   "id": "1d0d1b08-9da1-4fc6-89f2-3dadbf9d6607",
   "metadata": {},
   "source": [
    "# Lecture 10 - Debugging Examples"
   ]
  },
  {
   "cell_type": "code",
   "execution_count": null,
   "id": "b17142fb-f88e-4c52-867e-254ee8ef3e4b",
   "metadata": {},
   "outputs": [],
   "source": [
    "# Bug code example \n",
    "\n",
    "number1 = input(\"Enter a number: \")\n",
    "number2 = input(\"Enter a number: \")\n",
    "\n",
    "sum_numbers = number1 + number2\n",
    "\n",
    "print(f\"the sum is {sum_numbers}\")"
   ]
  },
  {
   "cell_type": "code",
   "execution_count": 29,
   "id": "92eccda7-9f58-4ee3-afe8-1a4de90a0795",
   "metadata": {},
   "outputs": [
    {
     "name": "stdin",
     "output_type": "stream",
     "text": [
      "Enter a number:  1\n",
      "Enter a number:  1\n"
     ]
    },
    {
     "name": "stdout",
     "output_type": "stream",
     "text": [
      "information about number1: type: <class 'str'> value: 1\n",
      "information about number2: type: <class 'str'> value: 1\n",
      "information about sum_numbers: type: <class 'str'> value: 11\n",
      "the sum is 11\n"
     ]
    }
   ],
   "source": [
    "# Debugging by printing\n",
    "\n",
    "# choose some variables \n",
    "# determine what you think the variables should be\n",
    "# print out their values and information about them\n",
    "# see if there is a mismatch between the print out and what you predicted\n",
    "\n",
    "number1 = input(\"Enter a number: \")\n",
    "number2 = input(\"Enter a number: \")\n",
    "\n",
    "print(f\"information about number1: type: {type(number1)} value: {number1}\")\n",
    "print(f\"information about number2: type: {type(number2)} value: {number2}\")\n",
    "\n",
    "sum_numbers = number1 + number2\n",
    "\n",
    "print(f\"information about sum_numbers: type: {type(sum_numbers)} value: {sum_numbers}\")\n",
    "\n",
    "print(f\"the sum is {sum_numbers}\")\n"
   ]
  },
  {
   "cell_type": "markdown",
   "id": "782eb5e6-835e-4777-9395-ba3b157558d7",
   "metadata": {},
   "source": [
    "## Partner Work\n",
    "\n",
    "We have code to count the occurrences of the letter A in a string but the code has a bug\n",
    "\n",
    "Our goal is not to fix the bug, but rather to look at different ways to highlight and find the presence of the bug.\n",
    "\n",
    "1. Run the below code\n",
    "   -  what do you expect the output to be given the goal of counting letter a's?\n",
    "2. Hover your mouse over various variables to inspect their contents after the code has run\n",
    "    - are you able to identify the bug in the code using this technique?\n",
    "3. Add some print statements to the code so you print out variables during the execution\n",
    "    - are you able to identify the bug in the code using this technique?\n",
    "    - which print statements are able to help identify the issue?\n",
    "4. Open the google colab variable inspector and see if you can identify the issue.\n",
    " \n"
   ]
  },
  {
   "cell_type": "code",
   "execution_count": 25,
   "id": "ac72ee0a-a895-4c89-8a5d-11de905ad92a",
   "metadata": {},
   "outputs": [
    {
     "name": "stdout",
     "output_type": "stream",
     "text": [
      "1\n"
     ]
    }
   ],
   "source": [
    "'''\n",
    "partner work\n",
    "\n",
    "code to count letter a's in a string. \n",
    "Algorithm to count all the a's and A's in a string:\n",
    "1. convert the string to ALL CAPS \n",
    "2. iterate over the letters of the string and check for A\n",
    "    2 a. if an A is encountered increment a counter\n",
    "3. output the counter\n",
    "'''\n",
    "\n",
    "#consider the below code that contains an error \n",
    "\n",
    "input_string = \"A banana\"\n",
    "\n",
    "#convert the string to CAPITAL LETTERS\n",
    "input_string.capitalize()\n",
    "\n",
    "#count all the capital letter A occurrences\n",
    "count_A = 0\n",
    "for char in input_string:\n",
    "    if char == \"A\":\n",
    "        count_A += 1\n",
    "\n",
    "#how many capital letter A's did we find\n",
    "print(count_A)\n"
   ]
  },
  {
   "cell_type": "markdown",
   "id": "f9530b63-848c-4c94-984a-682b37ac1ade",
   "metadata": {},
   "source": [
    "# PDB Demonstration\n",
    "\n",
    "a short demonstration of the pdb debugger\n",
    "\n",
    "- set a breakpoint\n",
    "- use the continue command: c\n",
    "- printing\n",
    "- quitting"
   ]
  },
  {
   "cell_type": "code",
   "execution_count": 28,
   "id": "cd6e5480-b8ac-4237-8cec-7ef431c20aa5",
   "metadata": {},
   "outputs": [
    {
     "name": "stdin",
     "output_type": "stream",
     "text": [
      "Enter a number:  204\n",
      "Enter a number:  100\n"
     ]
    },
    {
     "name": "stdout",
     "output_type": "stream",
     "text": [
      "the sum is 204100\n"
     ]
    }
   ],
   "source": [
    "number1 = input(\"Enter a number: \")\n",
    "# Add a breakpoint to the code so it pauses at this line\n",
    "breakpoint()\n",
    "number2 = input(\"Enter a number: \")\n",
    "\n",
    "sum_numbers = number1 + number2\n",
    "\n",
    "# Add a breakpoint to the code so it pauses at this line\n",
    "breakpoint()\n",
    "\n",
    "print(f\"the sum is {sum_numbers}\")\n",
    "\n"
   ]
  },
  {
   "cell_type": "markdown",
   "id": "d54afb87-1508-4c24-ba8b-987a9031b150",
   "metadata": {},
   "source": [
    "# Partner work \n",
    "\n",
    "Go back and add a manual breakpoint to the prior partner work example \n",
    "\n",
    "print out information to help identify bugs in the program"
   ]
  },
  {
   "cell_type": "code",
   "execution_count": null,
   "id": "d68356e3-12d6-45ba-a0fd-ee4b6a37a19e",
   "metadata": {},
   "outputs": [],
   "source": []
  }
 ],
 "metadata": {
  "kernelspec": {
   "display_name": "Python 3 (ipykernel)",
   "language": "python",
   "name": "python3"
  },
  "language_info": {
   "codemirror_mode": {
    "name": "ipython",
    "version": 3
   },
   "file_extension": ".py",
   "mimetype": "text/x-python",
   "name": "python",
   "nbconvert_exporter": "python",
   "pygments_lexer": "ipython3",
   "version": "3.12.7"
  }
 },
 "nbformat": 4,
 "nbformat_minor": 5
}
