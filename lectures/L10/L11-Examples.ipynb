{
 "cells": [
  {
   "cell_type": "markdown",
   "id": "9c0470dd-894b-42cf-ab3d-8afa5e70822d",
   "metadata": {},
   "source": [
    "# L11 Functions in python"
   ]
  },
  {
   "cell_type": "code",
   "execution_count": null,
   "id": "8eeea6ac-6147-4d45-ae7f-54fff55e6b27",
   "metadata": {},
   "outputs": [],
   "source": [
    "# Self check\n",
    "\n",
    "def fireball_damage()\n",
    "    damage = 30\n",
    "    return damage\n",
    "\n",
    "damage = 0\n",
    "d = fireball_damage()\n",
    "print(damage) #prints 0\n"
   ]
  },
  {
   "cell_type": "code",
   "execution_count": 2,
   "id": "3e1831ea-5a4b-41f9-a6f0-592912988da2",
   "metadata": {},
   "outputs": [
    {
     "name": "stdout",
     "output_type": "stream",
     "text": [
      "my name is Bob\n",
      "None\n"
     ]
    }
   ],
   "source": [
    "# class participation\n",
    "\n",
    "def print_name(name):\n",
    "    print(f\"my name is {name}\")\n",
    "\n",
    "print(print_name(\"Bob\"))\n"
   ]
  },
  {
   "cell_type": "code",
   "execution_count": 10,
   "id": "42186e0a-cc56-481d-8c38-a3181d9fa4a1",
   "metadata": {},
   "outputs": [
    {
     "name": "stdout",
     "output_type": "stream",
     "text": [
      "spaces: 11\n"
     ]
    }
   ],
   "source": [
    "# counting spaces in a specific string\n",
    "\n",
    "my_string = \"If you wish me luck, don't tell me to break a leg\"\n",
    "\n",
    "space_count = 0\n",
    "for char in my_string:\n",
    "    if char == \" \":\n",
    "        space_count += 1\n",
    "\n",
    "print(f\"spaces: {space_count}\")\n"
   ]
  },
  {
   "cell_type": "code",
   "execution_count": 17,
   "id": "727554b0-caee-4c10-8ada-21b5b7fbe0ae",
   "metadata": {},
   "outputs": [
    {
     "name": "stdout",
     "output_type": "stream",
     "text": [
      "spaces: 11\n",
      "spaces: 7\n"
     ]
    }
   ],
   "source": [
    "# counting spaces in any string as a method\n",
    "\n",
    "def count_spaces(s):\n",
    "    space_count = 0\n",
    "    for char in s:\n",
    "        if char == \" \":\n",
    "            space_count += 1\n",
    "    return space_count\n",
    "\n",
    "my_string = \"If you wish me luck, don't tell me to break a leg\"\n",
    "space_count = count_spaces(my_string)\n",
    "print(f\"spaces: {space_count}\")\n",
    "\n",
    "other_string = \"I will return to the city of lakes\"\n",
    "space_count = count_spaces(other_string)\n",
    "print(f\"spaces: {space_count}\")\n"
   ]
  },
  {
   "cell_type": "code",
   "execution_count": 23,
   "id": "6ec1af26-bd9a-421c-9107-bcbbb07762f8",
   "metadata": {},
   "outputs": [
    {
     "name": "stdout",
     "output_type": "stream",
     "text": [
      "m's: 2\n",
      "e's: 3\n"
     ]
    }
   ],
   "source": [
    "# generalizing our solution to count any specified \n",
    "# character in any string\n",
    "def count_chars(string, ch):\n",
    "    char_count = 0\n",
    "    for char in string:\n",
    "        if char == ch:\n",
    "            char_count += 1\n",
    "    return char_count\n",
    "\n",
    "my_string = \"If you wish me luck, don't tell me to break a leg\"\n",
    "m_count = count_chars(my_string, \"m\")\n",
    "print(f\"m's: {m_count}\")\n",
    "\n",
    "other_string = \"I will return to the city of lakes\"\n",
    "e_count = count_chars(other_string, \"e\")\n",
    "print(f\"e's: {e_count}\")\n"
   ]
  },
  {
   "cell_type": "markdown",
   "id": "941ce1df-c105-4db4-b562-c13caf51b31b",
   "metadata": {},
   "source": [
    "# Find a partner\n",
    "\n",
    "Suppose we want to ask the user for hours and minutes to do some processing of time. But the hours should be between 1 and 12 and the minutes should be between 1 and 59. \n",
    "\n",
    "If the user enters invalid values we want to ask them to try again. \n",
    "\n",
    "See the code to do this below:\n"
   ]
  },
  {
   "cell_type": "code",
   "execution_count": 8,
   "id": "96d2330f-7783-47d5-a176-924b454c9967",
   "metadata": {},
   "outputs": [
    {
     "name": "stdin",
     "output_type": "stream",
     "text": [
      "Enter the hour (1-12):  1\n",
      "Enter the min (1-59):  55\n"
     ]
    },
    {
     "name": "stdout",
     "output_type": "stream",
     "text": [
      "Time: 1 O'clock and 55 minutes\n"
     ]
    }
   ],
   "source": [
    "# partner work\n",
    "\n",
    "# get hours and minutes from the user\n",
    "\n",
    "hour = 0\n",
    "while not (1 <= hour <= 12):\n",
    "    hour = int(input(\"Enter the hour (1-12): \"))\n",
    "\n",
    "min = 0\n",
    "while not (1 <= min <= 59):\n",
    "    min = int(input(\"Enter the min (1-59): \"))\n",
    "\n",
    "print(f\"Time: {hour} o'clock and {min} minutes\")\n"
   ]
  },
  {
   "cell_type": "markdown",
   "id": "cd997c2c-6cbf-41f2-939e-c837f5268b0c",
   "metadata": {},
   "source": [
    "## Partner Discussion\n",
    "\n",
    "- How could we use a function to improve the above code?\n",
    "- What aspect of the program contains a repeated process?\n",
    "- How can this be parameterized?\n"
   ]
  },
  {
   "cell_type": "code",
   "execution_count": 9,
   "id": "7fce8708-d2b9-4ff9-8381-a73c073d2f68",
   "metadata": {},
   "outputs": [],
   "source": [
    "# Partner work: implement your solution below\n",
    "\n",
    "#define a function to help\n",
    "\n",
    "\n",
    "\n",
    "#call the function in the appropriate place\n",
    "\n",
    "\n"
   ]
  },
  {
   "cell_type": "markdown",
   "id": "5a55f736-12f1-4429-ae4b-fdfffae69314",
   "metadata": {},
   "source": [
    "## More Partner work\n",
    "\n",
    "Consider we want to write a program to find all prime numbers within a range of numbers.\n",
    "\n",
    "Recall from our midterms the following code can determine if 8 is a prime number:\n",
    "\n",
    "```python\n",
    "if 8 % 2 == 0:\n",
    "    print(\"not prime\")\n",
    "elif 8 % 3 == 0:\n",
    "    print(\"not prime\")\n",
    "elif 8 % 4 == 0:\n",
    "    print(\"not prime\")\n",
    "else:\n",
    "    print(\"prime\")\n",
    "```\n",
    "\n",
    "- Improve this code through the use of a function to generalize the solution\n",
    "\n",
    "- What aspects can we generalize?\n",
    "\n",
    "- Why does the above code stop at 4?\n",
    "\n",
    "- The above code prints to screen, but this is not the most general use. Can we return a value that makes our method more general\n",
    "\n",
    "    - what `type` of value should we return?\n",
    "\n",
    "Use your method to find all prime numbers between 25 and 75. \n"
   ]
  },
  {
   "cell_type": "code",
   "execution_count": null,
   "id": "e62c7228-f147-485b-84ee-58d838bc83c1",
   "metadata": {},
   "outputs": [],
   "source": [
    "# more partner work \n",
    "\n",
    "# create a function to determine if a number is prime or not\n",
    "\n",
    "\n",
    "\n",
    "\n",
    "\n",
    "# use the method to find all prime numbers between 25 and 75\n",
    "\n"
   ]
  },
  {
   "cell_type": "code",
   "execution_count": null,
   "id": "60252de2-895b-4fe6-8722-657cd8a06b64",
   "metadata": {},
   "outputs": [],
   "source": [
    "# documenting the count_chars method\n",
    "# 1. document what the method does\n",
    "# 2. document each of the parameters\n",
    "# 3. document the return value\n",
    "\n",
    "def count_chars(string, ch):\n",
    "    '''\n",
    "        count and return the number of occurrences of ch in string\n",
    "        Parameters:\n",
    "            string: any string\n",
    "            ch: a string with length 1\n",
    "\n",
    "        return: the count of number of occurrences of single character ch within string\n",
    "    '''\n",
    "    char_count = 0\n",
    "    for char in string:\n",
    "        if char == ch:\n",
    "            char_count += 1\n",
    "    return char_count\n"
   ]
  },
  {
   "cell_type": "code",
   "execution_count": 32,
   "id": "61344974-1170-46ac-823c-f1bf66036bff",
   "metadata": {},
   "outputs": [],
   "source": [
    "# type hints\n",
    "# type hints can indicate what types of arguments (str, int, float, etc) your method expects and what it will return back\n",
    "\n",
    "def count_chars(string : str, ch: str) -> int:\n",
    "    '''\n",
    "        count and return the number of occurrences of ch in string\n",
    "        Parameters:\n",
    "            string: any string\n",
    "            ch: a string with length 1\n",
    "\n",
    "        return: the count of number of occurrences of single character ch within string\n",
    "    '''\n",
    "    char_count = 0\n",
    "    for char in string:\n",
    "        if char == ch:\n",
    "            char_count += 1\n",
    "    return char_count\n"
   ]
  },
  {
   "cell_type": "code",
   "execution_count": null,
   "id": "d898f0f8-71cd-468f-a676-f7cbdcbab3e4",
   "metadata": {},
   "outputs": [],
   "source": [
    "# default arguments\n",
    "\n",
    "def count_chars(string, ch= \" \"):\n",
    "    '''\n",
    "        count and return the number of occurrences of ch in string\n",
    "        Parameters:\n",
    "            string: any string\n",
    "            ch (optional): a string with length 1 (default: \" \" (space))\n",
    "\n",
    "        return: the count of number of occurrences of single character ch within string\n",
    "    '''\n",
    "    char_count = 0\n",
    "    for char in string:\n",
    "        if char == ch:\n",
    "            char_count += 1\n",
    "    return char_count\n",
    "\n",
    "\n",
    "count_chars(\"hello world!\")"
   ]
  },
  {
   "cell_type": "code",
   "execution_count": 35,
   "id": "3516cc34-8049-4ed4-bd20-cef7c2531f6a",
   "metadata": {},
   "outputs": [
    {
     "data": {
      "text/plain": [
       "1"
      ]
     },
     "execution_count": 35,
     "metadata": {},
     "output_type": "execute_result"
    }
   ],
   "source": [
    "# default arguments w/ type hints\n",
    "\n",
    "def count_chars(string : str, ch : str = \" \") -> int:\n",
    "    '''\n",
    "        count and return the number of occurrences of ch in string\n",
    "        Parameters:\n",
    "            string: any string\n",
    "            ch (optional): a string with length 1 (default: \" \" (space))\n",
    "\n",
    "        return: the count of number of occurrences of single character ch within string\n",
    "    '''\n",
    "    char_count = 0\n",
    "    for char in string:\n",
    "        if char == ch:\n",
    "            char_count += 1\n",
    "    return char_count\n",
    "\n",
    "\n",
    "count_chars(\"hello world!\")"
   ]
  },
  {
   "cell_type": "code",
   "execution_count": null,
   "id": "5cb95863-12e5-4d3e-a657-954e0dbd96ea",
   "metadata": {},
   "outputs": [],
   "source": [
    "# failure to document or type hint can cause issues\n",
    "# users should not have to read the implementation of a method\n",
    "# to know how to use it or what it does\n",
    "\n",
    "def combined_size(a, b):\n",
    "    return len(a) + len(b)\n",
    "\n",
    "input1 = \"hello\"\n",
    "input2 = \"world\"\n",
    "\n",
    "# ok \n",
    "print(combined_size(input1, input2))\n",
    "\n",
    "# oops\n",
    "input1 = 123\n",
    "print(combined_size(input1, input2))\n",
    "\n",
    "\n",
    "\n",
    "\n"
   ]
  },
  {
   "cell_type": "code",
   "execution_count": 29,
   "id": "fa2ba82c-993e-442a-b7d5-f079258233cd",
   "metadata": {},
   "outputs": [],
   "source": [
    "def combined_size(a, b):\n",
    "    \"\"\"\n",
    "        Determine and return the combined length of a and b\n",
    "        a: any type that can be passed to len\n",
    "        b: any type that can be passed to len\n",
    "\n",
    "        return: the sum lengths of a and b\n",
    "\n",
    "    \"\"\"\n",
    "    return len(a) + len(b)"
   ]
  },
  {
   "cell_type": "markdown",
   "id": "fc9e551e-a95e-4e1f-8f6d-b71f7d50e31f",
   "metadata": {},
   "source": [
    "# Try at home \n",
    "\n",
    "1. convert our old turtle draw program to draw a square into a method (how can it be generalized?)\n",
    "2. write a method that returns a reversed version of a string, i.e., if the input is \"Madam\" it will return \"madaM\"\n",
    "3. write a method that converts an integer between 0 and 10 to the appropriate word for that value, e.g., 1 converts to \"one\"\n",
    "4. write a program to repeatedly ask the user to input single letters but stop the program when the user enters a letter than they entered previously. Use methods with high cohesion. "
   ]
  },
  {
   "cell_type": "code",
   "execution_count": 36,
   "id": "1196e4ad-148d-42ec-94c1-ed20a3cbadb3",
   "metadata": {},
   "outputs": [
    {
     "name": "stdout",
     "output_type": "stream",
     "text": [
      "Requirement already satisfied: colabturtleplus in /opt/anaconda3/lib/python3.12/site-packages (2.0.1)\n",
      "Put clearscreen() as the first line in a cell (after the import command) to re-run turtle commands in the cell\n"
     ]
    }
   ],
   "source": [
    "# Try at home 1: turtle draw a square\n",
    "\n",
    "!pip install colabturtleplus \n",
    "\n",
    "from ColabTurtlePlus.Turtle import *"
   ]
  },
  {
   "cell_type": "code",
   "execution_count": 37,
   "id": "79bcaea4-7854-4205-a19a-12fc1af81789",
   "metadata": {},
   "outputs": [],
   "source": [
    "# try at home 2:  method to reverse a string \n",
    "\n",
    "\n"
   ]
  },
  {
   "cell_type": "code",
   "execution_count": 38,
   "id": "0cf24c05-c043-4410-ac8e-ac49f05069ba",
   "metadata": {},
   "outputs": [],
   "source": [
    "# try at home 3: method to convert integer to word representation\n",
    "\n"
   ]
  },
  {
   "cell_type": "code",
   "execution_count": 39,
   "id": "a57b4ffc-0733-4b5b-82a4-bb145351aeef",
   "metadata": {},
   "outputs": [],
   "source": [
    "# Try at home 4: ask the user for single letters and stop if duplicate is encountered\n",
    "\n"
   ]
  },
  {
   "cell_type": "code",
   "execution_count": null,
   "id": "aec7d6e4-ab84-4327-813f-c44da280eb80",
   "metadata": {},
   "outputs": [],
   "source": []
  }
 ],
 "metadata": {
  "kernelspec": {
   "display_name": "Python 3 (ipykernel)",
   "language": "python",
   "name": "python3"
  },
  "language_info": {
   "codemirror_mode": {
    "name": "ipython",
    "version": 3
   },
   "file_extension": ".py",
   "mimetype": "text/x-python",
   "name": "python",
   "nbconvert_exporter": "python",
   "pygments_lexer": "ipython3",
   "version": "3.12.7"
  }
 },
 "nbformat": 4,
 "nbformat_minor": 5
}
