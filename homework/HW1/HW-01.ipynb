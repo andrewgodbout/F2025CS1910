{
 "cells": [
  {
   "cell_type": "markdown",
   "metadata": {
    "id": "Oe0Fcp7Pgn6d"
   },
   "source": [
    "## Before you begin\n",
    "\n",
    "### Submission\n",
    "\n",
    "Before you start working on this Homework:\n",
    "\n",
    "1. Press **File->Save a copy in Drive** from the menu. This will save your own copy of this notebook into your Google Drive\n",
    "\n",
    "2. Follow the steps below and ensure you run the cells in order from the top. (You'll have to ensure you run the cell above this one too)\n",
    "\n",
    "3. You should get into the habit of saving your file regularly as you work\n",
    "\n",
    "4. Certain cells will check your work against the expected answer, when you run these cells you'll know if your work is correct\n",
    "\n",
    "5. After all the changes are done and progress is saved **File->Download->Download.ipynb** and then upload the .ipynb file to moodle\n"
   ]
  },
  {
   "cell_type": "markdown",
   "metadata": {
    "id": "2J7NcKcoIWok"
   },
   "source": [
    "# Homework 1 Introduction to Google Colab - Jupyter Notebook"
   ]
  },
  {
   "cell_type": "markdown",
   "metadata": {
    "id": "aRgDZTtvIdpJ"
   },
   "source": [
    "This is part of a General Google Colab introduction notebook and part CS 1910 material. Don't be nervous if some of the cells below contain code we haven't seen before.\n",
    "\n",
    "Our goal with this homework is to\n",
    "\n",
    "- become familiar with the google colab environment\n",
    "- run code cells\n",
    "- edit and render text cells\n",
    "- save files to our `local` google drive\n",
    "- submit homework to moodle in correct format\n",
    "\n",
    "\n",
    "For Homework 1:\n",
    "\n",
    "- work to the end of the this jupyter notebook\n",
    "  - read and insert answers as required\n",
    "- save a copy to your google drive\n",
    "- download and submit a copy (.ipynb) to moodle under the CS 1910 Homework 1 submission\n",
    "\n",
    "\n",
    "Grading:\n",
    "\n",
    "This homework is automatically graded after submitting to moodle. For this homework you can run all the grading tests prior to submitting so you'll know what your grade will be prior to submission.\n",
    "\n",
    "Please allow a week for grades to show up in Moodle.\n",
    "\n"
   ]
  },
  {
   "cell_type": "code",
   "execution_count": null,
   "metadata": {
    "id": "VgI7e_ITIMij"
   },
   "outputs": [],
   "source": [
    "# The following code will download the required public tests for autograding\n",
    "# add install the autograding libraries \n",
    "\n",
    "# Run this cell before the below cells\n",
    "\n",
    "from os.path import basename, exists\n",
    "\n",
    "def download(url):\n",
    "    filename = basename(url)\n",
    "    if not exists(filename):\n",
    "        from urllib.request import urlretrieve\n",
    "\n",
    "        local, _ = urlretrieve(url, filename)\n",
    "        print(\"Downloaded \" + str(local))\n",
    "    return filename\n",
    "\n",
    "#otter for autograding\n",
    "!pip install otter-grader==5.5.0\n",
    "import otter\n",
    "grader = otter.Notebook(colab=True)\n",
    "\n",
    "#tests_path = \"https://github.com/andrewgodbout/CS1910-Test/raw/refs/heads/main/HW/HW2/tests.zip\"\n",
    "\n",
    "\n",
    "#download(tests_path)\n",
    "\n",
    "#!unzip -o tests.zip"
   ]
  },
  {
   "cell_type": "markdown",
   "metadata": {
    "id": "dVG0ORpHPzsL"
   },
   "source": [
    "## Jupyter Notebook - Google Colab - Python ?!?!\n",
    "\n",
    "You've possibly heard of Python. It is a programming language and specifically the programming language we will use in CS 1910 to write our programs.\n",
    "\n",
    "Jupyter Notebook is an interactive browser based environment that facilitates communication that involves text and code (such as python).\n",
    "\n",
    "Google Colab is a cloud-based version of Jupyter Notebook that allows for sharing and hosting of jupyter notebooks.\n",
    "\n",
    "We have chosen this technology stack for our course to make it easy to get up and running and learning while not stumbling around with installation challenges, application versions or computer specifics. If you have a browser you'll be able to write code and interact with the course materials."
   ]
  },
  {
   "cell_type": "markdown",
   "metadata": {
    "id": "-LZFK-zcJmrj"
   },
   "source": [
    "## Generative Artificial Intelligence (GenAI)\n",
    "\n",
    "Colab has a number of Generative AI features including code suggestions, code completions and code generation.\n",
    "\n",
    "In CS 1910 we will be learning basic programming and many of the tasks we are attempting to learn and practice can be completed by GenAI. **For this course to ensure you do not bypass learning opportunities you should turn off the GenAI features in Colab.**\n",
    "\n",
    "*If the menu options at the top of the page are not visible then select the arrow at the top right to toggle the tool menu on*\n",
    "\n",
    "At the top of the page in the **Tools** menu option select:\n",
    "\n",
    "**Settings** -> **AI Assistance** -> **Hide Generative AI Features**\n",
    "\n",
    "You are welcome to experiment with Generative AI and you will be asked to use AI to help with aspects of the course but when it comes to learning the basics it doesn't make sense to have someone/something do the work and thus bypass your learning opportunity.\n",
    "\n",
    "Unless otherwise instructed we will operate **without** GenAI by default.\n"
   ]
  },
  {
   "cell_type": "markdown",
   "metadata": {
    "id": "QFbDRtDDK44O"
   },
   "source": [
    "# Other Settings\n",
    "\n",
    "In the same **Tools->Settings** menu you might like to turn on line numbering (under the **Editor** option)\n",
    "\n",
    "Line numbering can help find errors and locate the exact line of code causing issues. It is common for programmers to refer to specific line numbers when referencing code.\n",
    "\n",
    "You might also like to turn on `indentation guides` under the **Editor** Settings. Python uses indentation as a key aspect of its formatting and syntax. Having some guides might be useful when formatting your code.\n",
    "\n",
    "\n",
    "You might like to explore some of the light-hearted options under **Misc** and become more familiar with the colab environment.\n"
   ]
  },
  {
   "cell_type": "markdown",
   "metadata": {
    "id": "JyG45Qk3qQLS"
   },
   "source": [
    "# Cells\n",
    "A notebook is a list of cells. Cells contain either explanatory text or executable code and its output. Click a cell to select it."
   ]
  },
  {
   "cell_type": "markdown",
   "metadata": {
    "id": "KR921S_OQSHG"
   },
   "source": [
    "## Code cells\n",
    "Below is a **code cell**. Once the toolbar button indicates CONNECTED, click in the cell to select it and execute the contents in the following ways:\n",
    "\n",
    "* Click the **Play icon** in the left gutter of the cell;\n",
    "* Type **Cmd/Ctrl+Enter** to run the cell in place;\n",
    "* Type **Shift+Enter** to run the cell and move focus to the next cell (adding one if none exists); or\n",
    "* Type **Alt+Enter** to run the cell and insert a new code cell immediately below it.\n",
    "\n",
    "There are additional options for running some or all cells in the **Runtime** menu.\n"
   ]
  },
  {
   "cell_type": "code",
   "execution_count": null,
   "metadata": {
    "cellView": "both",
    "id": "WUtu4316QSHL"
   },
   "outputs": [],
   "source": [
    "a = 10\n",
    "a"
   ]
  },
  {
   "cell_type": "markdown",
   "metadata": {
    "id": "ZB1BG1QNRk_x"
   },
   "source": [
    "You might notice after running the above code that the number 10 appears in the output. In Jupyter environments if the last line has a value it will appear in the output. This only happens for the last line.\n",
    "\n",
    "If you want other information to appear in the output you could use the python `print` command.\n",
    "\n",
    "Try typing:\n",
    "\n",
    "```python\n",
    "print(5)\n",
    "print(3)\n",
    "print(\"hello\")\n",
    "```\n",
    "\n",
    "In the below code cell and then run the cell."
   ]
  },
  {
   "cell_type": "code",
   "execution_count": null,
   "metadata": {
    "id": "q5gBs9ZiSOPk"
   },
   "outputs": [],
   "source": [
    "\n",
    "\n",
    "\n"
   ]
  },
  {
   "cell_type": "markdown",
   "metadata": {
    "id": "Id6tDF1HQSHD"
   },
   "source": [
    "## Text cells\n",
    "This is a **text cell**. You can **double-click** to edit this cell, run the cell (**Shift+Enter** or press **esc**) to stop editing and render the cell.\n",
    "\n",
    "Text cells use markdown syntax. To learn more, see our [markdown\n",
    "guide](/notebooks/markdown_guide.ipynb).\n",
    "\n",
    "You can also add math to text cells using [LaTeX](http://www.latex-project.org/)\n",
    "to be rendered by [MathJax](https://www.mathjax.org). Just place the statement\n",
    "within a pair of **\\$** signs. For example `$\\sqrt{3x-1}+(1+x)^2$` becomes\n",
    "$\\sqrt{3x-1}+(1+x)^2.$\n"
   ]
  },
  {
   "cell_type": "markdown",
   "metadata": {
    "id": "7bqjkGKwQSHW"
   },
   "source": [
    "## Adding and moving cells\n",
    "You can add new cells by using the **+ CODE** and **+ TEXT** buttons that show when you hover between cells. These buttons are also in the toolbar above the notebook where they can be used to add a cell below the currently selected cell.\n",
    "\n",
    "You can move a cell by selecting it and clicking **Cell Up** or **Cell Down** in the top toolbar.\n",
    "\n",
    "Consecutive cells can be selected by \"lasso selection\" by dragging from outside one cell and through the group.  Non-adjacent cells can be selected concurrently by clicking one and then holding down Ctrl while clicking another.  Similarly, using Shift instead of Ctrl will select all intermediate cells."
   ]
  },
  {
   "cell_type": "markdown",
   "metadata": {
    "id": "GOwlZRXEQSHZ"
   },
   "source": [
    "# Working with python\n",
    "Colaboratory is built on top of [Jupyter Notebook](https://jupyter.org/). Below are some examples of convenience functions provided."
   ]
  },
  {
   "cell_type": "markdown",
   "metadata": {
    "id": "RVuqWUXPQSHa"
   },
   "source": [
    "Long running python processes can be interrupted. Run the following cell and select **Runtime -> Interrupt execution** (*hotkey: Cmd/Ctrl-M I*) to stop execution."
   ]
  },
  {
   "cell_type": "code",
   "execution_count": null,
   "metadata": {
    "cellView": "both",
    "id": "d-S-3nYLQSHb"
   },
   "outputs": [],
   "source": [
    "import time\n",
    "print(\"Sleeping\")\n",
    "time.sleep(30) # sleep for a while; interrupt me!\n",
    "print(\"Done Sleeping\")"
   ]
  },
  {
   "cell_type": "markdown",
   "metadata": {
    "id": "Wej_mEyXQSHc"
   },
   "source": [
    "## System aliases\n",
    "\n",
    "Jupyter includes shortcuts for common operations, such as ls:"
   ]
  },
  {
   "cell_type": "code",
   "execution_count": null,
   "metadata": {
    "cellView": "both",
    "id": "5OCYEvK5QSHf"
   },
   "outputs": [],
   "source": [
    "!ls /bin"
   ]
  },
  {
   "cell_type": "markdown",
   "metadata": {
    "id": "y8Da6JWKQSHh"
   },
   "source": [
    "That `!ls` probably generated a large output. You can select the cell and clear the output by either:\n",
    "\n",
    "1. Clicking on the clear output button (x) in the toolbar above the cell; or\n",
    "2. Right clicking the left gutter of the output area and selecting \"Clear output\" from the context menu.\n",
    "\n",
    "Execute any other process using `!` with string interpolation from python variables, and note the result can be assigned to a variable:"
   ]
  },
  {
   "cell_type": "markdown",
   "metadata": {
    "id": "4_X1ipwzS317"
   },
   "source": [
    "## Python Comments\n",
    "\n",
    "In Python we can add comments about our code to help explain our implementation or remind us about something, generally to aid readability or understanding. We can do this by adding a hash (#) mark before the comment.\n",
    "\n",
    "The # denotes that anything after the # on that same line will be consider a comment and not considered to be code.\n",
    "\n",
    "Examples:\n",
    "\n",
    "```python\n",
    "\n",
    "# todo: fix the below equation\n",
    "area = 7 * 6\n",
    "\n",
    "# this is an example of a python comment\n",
    "\n",
    "name = \"andy\" # ensure the name is lower case\n",
    "\n",
    "```"
   ]
  },
  {
   "cell_type": "markdown",
   "metadata": {
    "id": "TYTBdJXxfqiJ"
   },
   "source": [
    "## Errors"
   ]
  },
  {
   "cell_type": "markdown",
   "metadata": {
    "id": "4bqAVK-aQSHx"
   },
   "source": [
    "Python has rules which we will learn as the semester progresses. If we break those rules then our code may fail.\n",
    "\n",
    "When code fails it sometimes produces an error.\n",
    "\n",
    "The below code attempts a division by zero (which produces a ZeroDivisionError - because division by zero is undefined).\n"
   ]
  },
  {
   "cell_type": "code",
   "execution_count": null,
   "metadata": {
    "cellView": "both",
    "id": "CrJf1PEmQSHx"
   },
   "outputs": [],
   "source": [
    "x = 1\n",
    "y = 4\n",
    "z = y/(1-x)"
   ]
  },
  {
   "cell_type": "markdown",
   "metadata": {
    "id": "7cRnhv_7N4Pa"
   },
   "source": [
    "## Rich, interactive outputs\n",
    "Until now all of the generated outputs have been text, but they can be more interesting, like the chart below."
   ]
  },
  {
   "cell_type": "code",
   "execution_count": null,
   "metadata": {
    "id": "JVXnTqyE9RET"
   },
   "outputs": [],
   "source": [
    "import numpy as np\n",
    "from matplotlib import pyplot as plt\n",
    "\n",
    "ys = 200 + np.random.randn(100)\n",
    "x = [x for x in range(len(ys))]\n",
    "\n",
    "plt.plot(x, ys, '-')\n",
    "plt.fill_between(x, ys, 195, where=(ys > 195), facecolor='g', alpha=0.6)\n",
    "\n",
    "plt.title(\"Fills and Alpha Example\")\n",
    "plt.show()"
   ]
  },
  {
   "cell_type": "markdown",
   "metadata": {
    "id": "aro-UJgUQSH1"
   },
   "source": [
    "# Integration with Google Drive\n",
    "\n",
    "Colaboratory is integrated with Google Drive. It allows you to share, comment, and collaborate on the same document with multiple people:\n",
    "\n",
    "* The **SHARE** button (top-right of the toolbar) allows you to share the notebook and control permissions set on it.\n",
    "\n",
    "* **File->Save a Copy in Drive** creates a copy of the notebook in your Google Drive.\n",
    "\n",
    "* **File->Save** saves the File to Drive. **File->Save and checkpoint** pins the version so it doesn't get deleted from the revision history.\n",
    "\n",
    "* **File->Revision history** shows the notebook's revision history.\n",
    "\n",
    "* **File->Download->Download.ipynb** downloads the notebook to your local computer"
   ]
  },
  {
   "cell_type": "markdown",
   "metadata": {
    "id": "TnTVRRerM81v"
   },
   "source": [
    "# Grading\n",
    "\n",
    "Each of the homework activities will be graded using an automated grading system.\n",
    "\n",
    "For some cells you'll be expected to provide answers that match an expected value or write code that performs a computation to generate correct answers. These will form your grade.\n",
    "\n",
    "To ensure the grading helps people keep pace with the material while providing some measure of compentency we will keep the grading coarse.\n",
    "\n",
    "For this homework the grading will be pass/fail. If you answer at least half of the below questions correctly you'll pass the homework. Each question is worth 1 point.\n",
    "\n",
    "For this homework if you run any of the cells with \"grader.check ...\" you can see if your solution is correct (this is not always the case, for some homework there may be hidden tests that form part of your grade)."
   ]
  },
  {
   "cell_type": "markdown",
   "metadata": {
    "id": "wX4SoOpwf-Wr"
   },
   "source": [
    "### Questions"
   ]
  },
  {
   "cell_type": "markdown",
   "metadata": {
    "deletable": false,
    "editable": false,
    "id": "pg6mRVR7gBlr"
   },
   "source": [
    "**Question 0.1** Share a link to view your version of this file\n",
    "\n",
    "**Press** Share button (top right corner of the page), press get shareable link and make sure you have the option Anyone with the link can view selected. Copy the link and paste it between the \"\" (quotes) below\n",
    "\n",
    "In the below cell next to the `q01link=` add your link between the quotes\n",
    "\n",
    "_Points:_ 1"
   ]
  },
  {
   "cell_type": "code",
   "execution_count": null,
   "metadata": {
    "tags": []
   },
   "outputs": [],
   "source": [
    "q01link = \"Your link here\""
   ]
  },
  {
   "cell_type": "code",
   "execution_count": null,
   "metadata": {
    "deletable": false,
    "editable": false
   },
   "outputs": [],
   "source": [
    "grader.check(\"q0.1\")"
   ]
  },
  {
   "cell_type": "markdown",
   "metadata": {
    "id": "NzTfCFHl-hhl"
   },
   "source": [
    "### Grade question 0.1\n",
    "\n",
    "Run the below code cell to \"check\" that you have replaced the above `Your link here` code with something else\n"
   ]
  },
  {
   "cell_type": "markdown",
   "metadata": {
    "deletable": false,
    "editable": false,
    "id": "bp6q1i3WZv51"
   },
   "source": [
    "**Question 1.1** Consider the following list of names:\n",
    "\n",
    "\"Andy\", \"Arthur\", \"Aaron\", \"Axel\", \"Anvil\", \"Addison\", \"Animal\", \"Aesop\", \"Ace\"\n",
    "\n",
    "Alphabetically which name comes first?\n",
    "\n",
    "In the below code cell next to the `q11name=` write the name of the Alphabetically first name between the quotes. Example: `q11name = \"Bert\"`\n",
    "\n",
    "\n",
    "_Points:_ 1"
   ]
  },
  {
   "cell_type": "code",
   "execution_count": null,
   "metadata": {
    "tags": []
   },
   "outputs": [],
   "source": [
    "q11name = \"\"\n"
   ]
  },
  {
   "cell_type": "code",
   "execution_count": null,
   "metadata": {
    "deletable": false,
    "editable": false
   },
   "outputs": [],
   "source": [
    "grader.check(\"q1.1\")"
   ]
  },
  {
   "cell_type": "markdown",
   "metadata": {
    "id": "MiZqTQhmEluT"
   },
   "source": [
    "### Grade question 1.1\n",
    "\n",
    "run the below cell to determine if you got question 1.1 correct or not.\n",
    "\n",
    "Do the same for the subsequent `grader.check` cells after you have completed the questions."
   ]
  },
  {
   "cell_type": "markdown",
   "metadata": {
    "deletable": false,
    "editable": false,
    "id": "uivZYQbPa3iR"
   },
   "source": [
    "**Question 1.2** Consider the following list of numbers:\n",
    "\n",
    "17, 29, 31, 45, 51, 33, 44, 75\n",
    "\n",
    "Which of the numbers is an even number?\n",
    "\n",
    "In the below code cell replace the Ellipsis (...) with your answer\n",
    "\n",
    "_Points:_ 1"
   ]
  },
  {
   "cell_type": "code",
   "execution_count": null,
   "metadata": {
    "tags": []
   },
   "outputs": [],
   "source": [
    "q12number = ..."
   ]
  },
  {
   "cell_type": "code",
   "execution_count": null,
   "metadata": {
    "deletable": false,
    "editable": false
   },
   "outputs": [],
   "source": [
    "grader.check(\"q1.2\")"
   ]
  },
  {
   "cell_type": "markdown",
   "metadata": {
    "deletable": false,
    "editable": false,
    "id": "cFRucwHVbfjt"
   },
   "source": [
    "**Question 1.3**\n",
    " Consider the below phrases and ignore any whitespace, capitolization and punctuation (just consider the letters insensitive to case):\n",
    "\n",
    "- \"a man, a plan, a canal, Panama!\",\n",
    "- \"Madam, I'm Adam\",\n",
    "- \"Danny, Champion of the world!\",\n",
    "- \"Able was I ere I saw Alba\",\n",
    "- \"A Toyota's a Toyota\",\n",
    "- \"Dentist, sit, Ned!\",\n",
    "- \"No Lemons, No Melon!\"\n",
    "\n",
    "Of the 7 phrases, how many are palindromes?\n",
    "\n",
    "\n",
    "_Points:_ 1"
   ]
  },
  {
   "cell_type": "code",
   "execution_count": null,
   "metadata": {
    "tags": []
   },
   "outputs": [],
   "source": [
    "q13palindrome_count = ..."
   ]
  },
  {
   "cell_type": "code",
   "execution_count": null,
   "metadata": {
    "deletable": false,
    "editable": false
   },
   "outputs": [],
   "source": [
    "grader.check(\"q1.3\")"
   ]
  },
  {
   "cell_type": "markdown",
   "metadata": {
    "id": "zsZIIjEueiq2"
   },
   "source": [
    "The questions for this lab might seem a bit unrelated to python programming, however, sorting, alphabetical ordering, case sensitivity, whitespace, odd and even numbers, dividing one number evenly into another and palindromes, etc often come up as tasks we write programs to solve in introductory programming courses.\n",
    "\n",
    "They are also often a source of confusion on tests, so we'll get a bit more comfortable with them starting now."
   ]
  },
  {
   "cell_type": "markdown",
   "metadata": {
    "id": "-3udGTJkOxlT"
   },
   "source": [
    "# Submission\n",
    "\n",
    "**Save a copy in Drive** to ensure you have your own copy of this notebook and to ensure that you've saved your latest work.\n",
    "\n",
    "If you visit the link from the course notes you'll come back to the original version of this file each time.\n",
    "\n",
    "- Ensure you run all the cells in order from the top to the bottom\n",
    "- Check to ensure all the tests are passing - run each of the cells containing grader.check ...\n",
    "- After running all the cells (top to bottom) and ensuring the tests are as you want Save your file to your local drive\n",
    "- File->Download->Download.ipynb and then upload the .ipynb file to Moodle under Homework 1 submission\n",
    "\n",
    "**Download and submit** the .ipynb version of this file and submit to the Moodle link for Homework 1 submission before the deadline to ensure your grade is recorded."
   ]
  }
 ],
 "metadata": {
  "colab": {
   "provenance": [
    {
     "file_id": "/v2/external/notebooks/basic_features_overview.ipynb",
     "timestamp": 1750167318258
    }
   ]
  },
  "kernelspec": {
   "display_name": "Python 3 (ipykernel)",
   "language": "python",
   "name": "python3"
  },
  "language_info": {
   "codemirror_mode": {
    "name": "ipython",
    "version": 3
   },
   "file_extension": ".py",
   "mimetype": "text/x-python",
   "name": "python",
   "nbconvert_exporter": "python",
   "pygments_lexer": "ipython3",
   "version": "3.12.7"
  }
 },
 "nbformat": 4,
 "nbformat_minor": 4
}
