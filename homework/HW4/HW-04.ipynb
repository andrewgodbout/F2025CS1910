{
  "cells": [
    {
      "cell_type": "markdown",
      "metadata": {
        "id": "view-in-github",
        "colab_type": "text"
      },
      "source": [
        "<a href=\"https://colab.research.google.com/github/andrewgodbout/F2025CS1910/blob/main/homework/HW4/HW-04.ipynb\" target=\"_parent\"><img src=\"https://colab.research.google.com/assets/colab-badge.svg\" alt=\"Open In Colab\"/></a>"
      ]
    },
    {
      "cell_type": "markdown",
      "metadata": {
        "id": "AlsJdpcJD8Kk"
      },
      "source": [
        "# Homework 4 - Pizza and Floats"
      ]
    },
    {
      "cell_type": "markdown",
      "metadata": {
        "id": "xCHXNUK9i69M"
      },
      "source": [
        "## Before you begin\n",
        "\n",
        "### Submission\n",
        "Before you start working on this Homework:\n",
        "\n",
        "1. Press **File->Save a copy in Drive** from the menu. This will save your own copy of this notebook\n",
        "\n",
        "2. Follow the steps below and ensure you run the cells in order from the top. (You'll have to ensure you run any cells above this one too)\n",
        "\n",
        "3. You should get into the habit of saving your file occassionally as you work\n",
        "\n",
        "4. Certain cells will check your work against the expected answer, when you run these cells you'll know if your work is correct.\n",
        "\n",
        "5. After all the changes are done and progress is saved **File->Download->Download.ipynb** and then upload the .ipynb file to moodle"
      ]
    },
    {
      "cell_type": "code",
      "execution_count": null,
      "metadata": {
        "id": "9mSJ69JM1aZu"
      },
      "outputs": [],
      "source": [
        "# The following code will download the required public tests for autograding\n",
        "# Run this cell before the below set-up cell\n",
        "\n",
        "from os.path import basename, exists\n",
        "\n",
        "def download(url):\n",
        "    filename = basename(url)\n",
        "    if not exists(filename):\n",
        "        from urllib.request import urlretrieve\n",
        "\n",
        "        local, _ = urlretrieve(url, filename)\n",
        "        print(\"Downloaded \" + str(local))\n",
        "    return filename\n",
        "\n",
        "tests_path = \"https://github.com/andrewgodbout/F2025CS1910/raw/refs/heads/main/homework/HW4/tests.zip\"\n",
        "\n",
        "download(tests_path)\n",
        "!unzip -o tests.zip"
      ]
    },
    {
      "cell_type": "code",
      "execution_count": null,
      "metadata": {
        "cellView": "form",
        "id": "Mcv4jwS4XrQp"
      },
      "outputs": [],
      "source": [
        "#@title Run your setup...\n",
        "#@markdown When you run this block you will either see ✅ SUCCESS or ❌ ERROR <br> letting you know if the library has run correctly. <br><br>\n",
        "#@markdown If there is an error in this block please email your instructor for help.\n",
        "\n",
        "try:\n",
        "\n",
        "    #otter for autograding\n",
        "    !pip install otter-grader==5.5.0\n",
        "    import otter\n",
        "    grader = otter.Notebook(colab=True)\n",
        "\n",
        "    print(\"✅ SUCCESS: All libraries imported successfully!\")\n",
        "    print(\"✅ HW Form Library loaded and ready!\")\n",
        "    print(\"📚 Available form types:\")\n",
        "    print(\"   • forms.create_info_form() - Information collection\")\n",
        "    print(\"   • forms.create_question_form() - Q&A with model answers\")\n",
        "    print(\"   • forms.create_prediction_table() - Code output prediction\")\n",
        "    print(\"   • forms.create_validation_form() - Truth tables with validation\")\n",
        "    print(\"   • forms.add_educational_context() - Structured learning context\")\n",
        "    print(\"   • forms.add_quick_context() - Simple markdown context\")\n",
        "    print(\"🆕 NEW: All forms now support optional default values!\")\n",
        "    print(\"You're ready to start the HW!\")\n",
        "\n",
        "except ImportError as e:\n",
        "    print(\"❌ ERROR: There was a problem importing the required libraries.\")\n",
        "    print(\"\\n🆘 PLEASE EMAIL YOUR INSTRUCTOR FOR HELP\")\n",
        "    print(\"   They will help you resolve this import issue.\")\n",
        "    print(\"\\n\" + \"=\"*50)\n",
        "    print(\"🔍 Technical Details (click triangle below to expand):\")\n",
        "\n",
        "    from IPython.display import HTML, display\n",
        "    display(HTML(f\"\"\"\n",
        "    <details>\n",
        "    <summary><strong>Click here if you're curious about the error details</strong></summary>\n",
        "    <pre style=\"background-color: #f5f5f5; padding: 10px; border-radius: 5px;\">\n",
        "    ImportError: {e}\n",
        "    </pre>\n",
        "    <p><em>Your instructor can use these details to help diagnose the problem.</em></p>\n",
        "    </details>\n",
        "    \"\"\"))\n",
        "\n",
        "except Exception as e:\n",
        "    print(\"❌ ERROR: Something unexpected happened during setup.\")\n",
        "    print(\"\\n🆘 PLEASE EMAIL YOUR INSTRUCTOR FOR HELP\")\n",
        "    print(\"   Show them this error message.\")\n",
        "    print(\"\\n\" + \"=\"*50)\n",
        "    print(\"🔍 Technical Details (click triangle below to expand):\")\n",
        "\n",
        "    from IPython.display import HTML, display\n",
        "    display(HTML(f\"\"\"\n",
        "    <details>\n",
        "    <summary><strong>Click here if you're curious about the error details</strong></summary>\n",
        "    <pre style=\"background-color: #f5f5f5; padding: 10px; border-radius: 5px;\">\n",
        "    Error: {e}\n",
        "    Error Type: {type(e).__name__}\n",
        "    </pre>\n",
        "    <p><em>Your instructor can use these details to help diagnose the problem.</em></p>\n",
        "    </details>\n",
        "    \"\"\"))"
      ]
    },
    {
      "cell_type": "markdown",
      "metadata": {
        "id": "3q3hawdr1aZv"
      },
      "source": [
        "## Floating point nuances\n",
        "\n",
        "Before we start calculating profits in a pizza shop let's take a closer look at the nuances of floating point numbers. Floating point numbers are challenging for computers to represent. Just like it is a challenge to represent $1/3$ as a decimal number some decimal numbers are challenging to represent in binary (computers represent things as binary numbers).\n",
        "\n",
        "### Prediction\n",
        "\n",
        "Predict below what you think the answers to the below expressions will be. Then run the code in the next cell to see how accurate you were.\n",
        "\n",
        "```python\n",
        "\n",
        "#1. convert to cents\n",
        "pennies = 18.99 * 100\n",
        "print(pennies) #predict what this will output\n",
        "\n",
        "#2 comparisons\n",
        "total_owing = 1.00\n",
        "payment1 = 16*0.05 #16 nickels\n",
        "payment2 = 2 * 0.10 #2 dimes\n",
        "remainder_owing = total_owing - payment1 - payment2\n",
        "\n",
        "#predict which of the following statements will print\n",
        "if remainder_owing > 0:\n",
        "    print(f\"you still owe: {remainder_owing}\")\n",
        "elif remainder_owing < 0:\n",
        "    print(f\"you overpaid by: {remainder_owing}\")\n",
        "else:\n",
        "    print(\"thanks for your full payment\")\n",
        "\n",
        "    \n",
        "#3 floating point modulo\n",
        "mod = 1.80 % 0.2\n",
        "print(mod) # predict the output\n",
        "\n",
        "```\n",
        "\n",
        "After you have made predictions on the above 3 outputs run the code below:\n"
      ]
    },
    {
      "cell_type": "code",
      "execution_count": null,
      "metadata": {
        "id": "KbEi_24D1aZv"
      },
      "outputs": [],
      "source": [
        "# After making your predictions run this code to see what the output is\n",
        "\n",
        "#1. convert to cents\n",
        "pennies = 18.99 * 100\n",
        "print(pennies) #predict what this will output\n",
        "\n",
        "#2 comparisons\n",
        "total_owing = 1.00\n",
        "payment1 = 16*0.05 #16 nickels\n",
        "payment2 = 2 * 0.10 #2 dimes\n",
        "remainder_owing = total_owing - payment1 - payment2\n",
        "if remainder_owing > 0:\n",
        "    print(f\"you still owe: {remainder_owing}\")\n",
        "elif remainder_owing < 0:\n",
        "    print(f\"you overpaid by: {remainder_owing}\")\n",
        "else:\n",
        "    print(\"thanks for your full payment\")\n",
        "\n",
        "#3 floating point modulo\n",
        "mod = 1.80 % 0.2\n",
        "print(mod) # predict the output\n"
      ]
    },
    {
      "cell_type": "markdown",
      "metadata": {
        "id": "AYd87hn31aZv"
      },
      "source": [
        "## Did you get them all correct?\n",
        "\n",
        "Note: it is expected you wouldn't get any of them correct as we are familiar with decimal representations and those examples are easily represented in decimal (base 10) format but when the computer tries to represent them all sorts of precision issue ensue.\n",
        "\n",
        "Since it is challenging to represent some floating point numbers in binary we should generally avoid direct comparisons using floating point numbers. Even the \\% modulo operator should be given careful consideration when precision is required (as it also abides by the challeges of floating point precision).\n"
      ]
    },
    {
      "cell_type": "markdown",
      "metadata": {
        "deletable": false,
        "editable": false,
        "id": "pEdHZ9kc1aZv"
      },
      "source": [
        "## More Floating Point errors\n",
        "\n",
        "Find 4 floating point numbers fp1, fp2, fp3, and fp4 so that the below equations showcase more floating point precision errors (just like above). Provide what you expected the answer to be as well.\n",
        "\n",
        "```python\n",
        "eq1 = fp1 * fp2\n",
        "expected_answer_eq1 = ...\n",
        "\n",
        "eq2 = fp3 % fp4\n",
        "expected_answer_eq2 = ...\n",
        "```\n",
        "\n",
        "Enter your choices below (use different values than the examples shown above)\n",
        "\n",
        "Hint: just try some number combinations until you see something that doesn't look correct\n",
        "\n",
        "_Points:_ 2"
      ]
    },
    {
      "cell_type": "code",
      "execution_count": null,
      "metadata": {
        "tags": [],
        "id": "mXu_UQ7r1aZv"
      },
      "outputs": [],
      "source": [
        "# Find floating point numbers: fp1, fp2, fp3, and fp4 such that the outputs are unexpected\n",
        "# Tip: try some numbers and see what happens\n",
        "\n",
        "fp1 = ...\n",
        "fp2 = ...\n",
        "\n",
        "eq1 = fp1 * fp2\n",
        "expected_answer_eq1 = ...\n",
        "print(eq1)\n",
        "\n",
        "fp3 = ...\n",
        "fp4 = ...\n",
        "\n",
        "eq2 = fp3 % fp4\n",
        "expected_answer_eq2 = ...\n",
        "print(eq2)"
      ]
    },
    {
      "cell_type": "code",
      "execution_count": null,
      "metadata": {
        "deletable": false,
        "editable": false,
        "id": "W6egqMID1aZv"
      },
      "outputs": [],
      "source": [
        "grader.check(\"q1\")"
      ]
    },
    {
      "cell_type": "markdown",
      "metadata": {
        "id": "xGMwcaul1aZv"
      },
      "source": [
        "### How to deal with Floats?\n",
        "\n",
        "\n",
        "#### Thresholds\n",
        "\n",
        "Accept floating point numbers that are close enough to a given value.\n",
        "\n",
        "Example:\n",
        "\n",
        "```python\n",
        "#with dollars and cents we only need a few decimal places\n",
        "#other thresholds might be smaller: eg: 0.00000001\n",
        "THRESHOLD = 0.001\n",
        "\n",
        "total_owing = 1.00\n",
        "payment1 = 16*0.05 #16 nickels\n",
        "payment2 = 2 * 0.10 #2 dimes\n",
        "remainder_owing = total_owing - payment1 - payment2\n",
        "\n",
        "if abs(remainder_owing) < THRESHOLD:\n",
        "    print(\"invoice paid in full\")\n",
        "```\n",
        "\n",
        "\n",
        "#### Library Functions\n",
        "\n",
        "Use a library function like `math.isclose` to help overcome issues with precision\n",
        "\n",
        "Example:\n",
        "\n",
        "```python\n",
        "total_owing = 1.00\n",
        "payment1 = 16*0.05 #16 nickels\n",
        "payment2 = 2 * 0.10 #2 dimes\n",
        "remainder_owing = total_owing - payment1 - payment2\n",
        "\n",
        "if math.isclose(remainder_owing, 0.0, abs_tol=0.0001):\n",
        "    print(\"invoice paid in full\")\n",
        "\n",
        "```\n",
        "\n",
        "#### Convert to Integers\n",
        "\n",
        "Convert to integers where possible. Integers do not have the same issues with precision\n",
        "\n",
        "Example:\n",
        "\n",
        "```python\n",
        "\n",
        "total_owing = round(1.00 * 100) #convert to total cents\n",
        "payment1 = 16* 5 #16 nickels in cents\n",
        "payment2 = 2 * 10 #2 dimes in cents\n",
        "remainder_owing = total_owing - payment1 - payment2\n",
        "\n",
        "if remainder_owing == 0: #this is integer comparison now\n",
        "    print(\"invoice paid in full\")\n",
        "```\n",
        "\n"
      ]
    },
    {
      "cell_type": "code",
      "execution_count": null,
      "metadata": {
        "id": "QiTrDMGD1aZv"
      },
      "outputs": [],
      "source": [
        "# threshold example\n",
        "\n",
        "#with dollars and cents we only need a few decimal places\n",
        "#other thresholds might be smaller: eg: 0.00000001\n",
        "THRESHOLD = 0.001\n",
        "\n",
        "total_owing = 1.00\n",
        "payment1 = 16*0.05 #16 nickels\n",
        "payment2 = 2 * 0.10 #2 dimes\n",
        "remainder_owing = total_owing - payment1 - payment2\n",
        "\n",
        "if abs(remainder_owing) < THRESHOLD:\n",
        "    print(\"invoice paid in full\")"
      ]
    },
    {
      "cell_type": "code",
      "execution_count": null,
      "metadata": {
        "id": "G2HNx_Ng1aZv"
      },
      "outputs": [],
      "source": [
        "# library math.isclose example\n",
        "import math\n",
        "\n",
        "total_owing = 1.00\n",
        "payment1 = 16*0.05 #16 nickels\n",
        "payment2 = 2 * 0.10 #2 dimes\n",
        "remainder_owing = total_owing - payment1 - payment2\n",
        "\n",
        "if math.isclose(remainder_owing, 0.0, abs_tol=0.0001):\n",
        "    print(\"invoice paid in full\")"
      ]
    },
    {
      "cell_type": "code",
      "execution_count": null,
      "metadata": {
        "id": "gbyDGSBM1aZv"
      },
      "outputs": [],
      "source": [
        "# integer example\n",
        "\n",
        "#notice in the below the 1st 3 variables are all converted to cents rather than dollars.\n",
        "\n",
        "total_owing = round(1.00 * 100) #convert to total cents rounding here to avoid precision errors\n",
        "payment1 = 16* 5 #16 nickels in cents\n",
        "payment2 = 2 * 10 #2 dimes in cents\n",
        "remainder_owing = total_owing - payment1 - payment2\n",
        "\n",
        "if remainder_owing == 0: #this is integer comparison now\n",
        "    print(\"invoice paid in full\")\n"
      ]
    },
    {
      "cell_type": "markdown",
      "metadata": {
        "id": "beelqx3u_65p"
      },
      "source": [
        "# Pizza and Float Profits\n",
        "\n",
        "Consider you have opened a pizza shop that sells only cheese pizza and rootbeer floats.\n",
        "\n",
        "You know you have made $\\$199.80$ profit last month and you know that you make $\\$5.55$ profit on each cheese pizza and $\\$2.22$ profit on each ice cold rootbeer float. You just do not know how many pizzas nor how many floats you have sold.\n",
        "\n",
        "You would like to write a program to determine the possible combinations of pizzas and floats sold that add up to your total profit.\n",
        "\n",
        "While we might be working with specific numbers like 5.55, in general you would like a program that can determine the possible combinations of pizza and rootbeer floats for any profit amounts on pizza, rootbeer float or total profit.\n"
      ]
    },
    {
      "cell_type": "code",
      "execution_count": null,
      "metadata": {
        "id": "NO6_dLCnjEpt"
      },
      "outputs": [],
      "source": [
        "# 3 variables to help generalize our solution\n",
        "\n",
        "total_profit = 199.80 #total profit made in the shop\n",
        "\n",
        "pizza_profit = 5.55 #amount of profit on each pizza sold\n",
        "float_profit = 2.22 #profit made on each rootbeer float sold\n"
      ]
    },
    {
      "cell_type": "markdown",
      "metadata": {
        "id": "UB5KTs4Y1aZw"
      },
      "source": [
        "# Brute Force\n",
        "\n",
        "Brute Force may sound like the name of a roller derby player but it refers to algorithms in which we try all possible combinations of inputs to find solutions. You might call it a `try-everything` approach.\n",
        "\n",
        "We will use brute force to determine the combinations of pizzas and floats that add up to our profit margin.\n"
      ]
    },
    {
      "cell_type": "markdown",
      "metadata": {
        "deletable": false,
        "editable": false,
        "id": "46dQgaeB1aZw"
      },
      "source": [
        "### Step 1. Convert the floating point values to integers\n",
        "\n",
        "We don't want to be dealing with precision errors through-out our program. Convert the above 3 profit variables into integers.\n",
        "\n",
        "\n",
        "\n",
        "_Points:_ 3"
      ]
    },
    {
      "cell_type": "code",
      "execution_count": 1,
      "metadata": {
        "tags": [],
        "colab": {
          "base_uri": "https://localhost:8080/"
        },
        "id": "s4pD-kyL1aZw",
        "outputId": "9e3d88fa-b9ee-4776-964c-f11a73982ba9"
      },
      "outputs": [
        {
          "output_type": "stream",
          "name": "stdout",
          "text": [
            "Ellipsis\n"
          ]
        }
      ],
      "source": [
        "# Convert each of total_profit, pizza_profit and float_profit into integers (cents)\n",
        "# store the result in the below variables\n",
        "\n",
        "# note if you receive an error that the variables are unknown you may need to run the above\n",
        "# cell where they are defined\n",
        "\n",
        "# you do not want to hardcode answers here, i.e., do not type 19980 anywhere below\n",
        "\n",
        "total_profit_int = ...\n",
        "pizza_profit_int = ...\n",
        "float_profit_int = ...\n",
        "\n",
        "print(total_profit_int)"
      ]
    },
    {
      "cell_type": "code",
      "execution_count": null,
      "metadata": {
        "deletable": false,
        "editable": false,
        "id": "Z3UYA28n1aZw"
      },
      "outputs": [],
      "source": [
        "grader.check(\"q2\")"
      ]
    },
    {
      "cell_type": "markdown",
      "metadata": {
        "deletable": false,
        "editable": false,
        "id": "FX3Hh4F71aZw"
      },
      "source": [
        "### Step 2: How many pizzas?\n",
        "\n",
        "What is the largest number of pizzas that could have been sold?\n",
        "\n",
        "If we made 19,980 cents in profit and each pizza sold generates 555 cents in profit. What is the maximum number of pizzas we could have possibly sold?\n",
        "\n",
        "e.g., it is some number larger than 2 pizzas, since 2 pizzas would only generate 1110 cents in profit (which is much less than our total profit of 19,980).\n",
        "\n",
        "Store your answer in the `max_possible_pizzas` variable below.\n",
        "\n",
        "\n",
        "_Points:_ 1"
      ]
    },
    {
      "cell_type": "code",
      "execution_count": null,
      "metadata": {
        "tags": [],
        "id": "mBcFb9mN1aZw"
      },
      "outputs": [],
      "source": [
        "max_possible_pizzas = ..."
      ]
    },
    {
      "cell_type": "code",
      "execution_count": null,
      "metadata": {
        "deletable": false,
        "editable": false,
        "id": "pbwZy87-1aZw"
      },
      "outputs": [],
      "source": [
        "grader.check(\"q3\")"
      ]
    },
    {
      "cell_type": "markdown",
      "metadata": {
        "deletable": false,
        "editable": false,
        "id": "MMga1NeT1aZw"
      },
      "source": [
        "### Step 3: Try all possible pizza combinations\n",
        "\n",
        "In the above you indicated the max number of possible pizzas sold. Obviously the minimum number is zero (in theory). We could calculate the potential profit attributed to rootbeer floats by calculating the total pizza profit and subtracting that from the total profit.\n",
        "\n",
        "The below loop will iterate through all possible values (`pizza_count`s) up to and including `max_possible_pizzas`. Note that `pizza_count` is the variable that is part of the for loop (it is incremented by 1 each time through the loop).\n",
        "\n",
        "**Step A:**\n",
        "\n",
        "- Add code inside the loop so that the `remaining_profit` is calculated as the total profit minus the profit from selling `pizza_count` pizzas.\n",
        "\n",
        "**Step B:**\n",
        "- Determine if the `remaining_profit` is a possible profit achievable by selling root beers\n",
        "- i.e. does integer $y$ exist such that `pizza_count * pizza_profit_int + y * float_profit_int = total_profit_int`\n",
        "- add code so that the `valid_profit` variable stores a boolean True if there is an integer y above that satisfies the equation and False otherwise.\n",
        "- tip: use the mod operator\n",
        "\n",
        "**Step C:**\n",
        "- Find and calculate the above y value and store it into the `float_count` variable\n",
        "- tip: use the integer (floor) division operator\n",
        "\n",
        "**More Tips:**\n",
        "\n",
        "- Don't forget to use those handy integer profit variables you calculated in Step 1 to avoid using floating point numbers\n",
        "\n",
        "- For step B and step C one step will use the % operator and the other will use the // operator\n",
        "\n",
        "- If at this point you are confused\n",
        "\n",
        "  - read the instructions again then read the scaffolded code below to see if it helps your understanding of what we are trying to do\n",
        "  - reach out to the instructor or a friend to clarify the goal\n",
        "  - remember the goal is to understand and work on the process not to type in a solution\n",
        "  - understanding the solution is not the same as understanding the process to arrive at the solution\n",
        "  - **take steps that help your understanding of the process rather than worrying about getting a point for homework 4 or not**\n",
        "\n",
        "\n",
        "_Points:_ 1"
      ]
    },
    {
      "cell_type": "code",
      "execution_count": null,
      "metadata": {
        "tags": [],
        "id": "UOVlJPwq1aZw"
      },
      "outputs": [],
      "source": [
        "# iterate through all possible numbers of pizzas sold\n",
        "# and see if there is some number of rootbeer floats such that the total profit adds up to exactly 19,980 cents (aka $199.80)\n",
        "\n",
        "#if your solution works it will find all the possible combinations\n",
        "#of pizza and rootbeer floats that add up exactly to the total_profit\n",
        "#everytime we identify a valid combination valid_answers will be incremented\n",
        "valid_answers = 0\n",
        "\n",
        "for pizza_count in range(max_possible_pizzas + 1): #plus one because we want to include max_possible_pizzas\n",
        "\n",
        "    #STEP A: if we sold pizza_count pizzas how much profit is still unaccounted for\n",
        "    remaining_profit = ...\n",
        "\n",
        "    # intermediate steps are allowed if you like ... just add them here\n",
        "\n",
        "    # STEP B: does the profit from rootbeers divide evenly into remaining_profit?\n",
        "    valid_profit = ...\n",
        "\n",
        "    if valid_profit:\n",
        "        #count all the valid answers\n",
        "        valid_answers += 1\n",
        "\n",
        "        #STEP C: how many rootbeers did we sell exactly to add up to remaining_profit\n",
        "        #add your calculation for how many floats were sold\n",
        "        float_count = ...\n",
        "\n",
        "        #print the result\n",
        "        print(f\"{pizza_count} pizzas and {float_count} rootbeer floats add up to ${total_profit:.2f}\")\n"
      ]
    },
    {
      "cell_type": "code",
      "execution_count": null,
      "metadata": {
        "deletable": false,
        "editable": false,
        "id": "Jw7OsyHR1aZw"
      },
      "outputs": [],
      "source": [
        "grader.check(\"q4\")"
      ]
    },
    {
      "cell_type": "markdown",
      "metadata": {
        "deletable": false,
        "editable": false,
        "id": "WOPcHzmH1aZw"
      },
      "source": [
        "## How many rootbeers?\n",
        "\n",
        "In your above output, if we sold 18 pizzas, how many rootbeer floats did we sell?\n",
        "\n",
        "enter the number into the variable below\n",
        "\n",
        "\n",
        "_Points:_ 1"
      ]
    },
    {
      "cell_type": "code",
      "execution_count": null,
      "metadata": {
        "tags": [],
        "id": "onZgzAmI1aZw"
      },
      "outputs": [],
      "source": [
        "rootbeers = ..."
      ]
    },
    {
      "cell_type": "code",
      "execution_count": null,
      "metadata": {
        "deletable": false,
        "editable": false,
        "id": "bN9HwFup1aZw",
        "outputId": "4bdeee0e-494f-4391-94fe-d6e3ef1ec379"
      },
      "outputs": [
        {
          "data": {
            "text/html": [
              "<p><strong><pre style='display: inline;'>q5</pre></strong> passed! 💯</p>"
            ],
            "text/plain": [
              "q5 results: All test cases passed!"
            ]
          },
          "execution_count": 37,
          "metadata": {},
          "output_type": "execute_result"
        }
      ],
      "source": [
        "grader.check(\"q5\")"
      ]
    },
    {
      "cell_type": "markdown",
      "metadata": {
        "id": "vEg_jGDt1aZx"
      },
      "source": [
        "### Something to try\n",
        "\n",
        "Not part of the homework but interesting to see. How many combinations would your program identify if it used floating point comparisons as opposed to integers, put another way: \"how many combinations would it miss?\"\n",
        "\n",
        "After you submit your solution to moodle go back and alter your program above to use floating point comparisons (perhaps you can just swap out your \\*_int variables for the original floating point versions) and see how many valid combinations are missed.\n"
      ]
    },
    {
      "cell_type": "markdown",
      "metadata": {
        "id": "SlDbBNTb1aZx"
      },
      "source": [
        "*Additional Information / Disclosure*\n",
        "\n",
        "This homework is based on a competitive programming problem found here: https://open.kattis.com/problems/soyoulikeyourfoodhot (author: John Bonomo 2018).\n",
        "\n",
        "The problem is 'rated' as medium difficulty on the above website mostly because if you try to compute the solutions using floating point numbers you end up with many precision errors.\n",
        "\n",
        "If you think Competitive coding sounds interesting, speak to your course instructor\n",
        "\n",
        "*Last Note*\n",
        "\n",
        "We solved this problem using brute force. The problem is a specific version of solving ax + by = c where a and b are integers (and c after our integer trick above). These are known as Linear Diophantine Equations and you can easily google for more information including more efficient ways to solve these types of problems.\n"
      ]
    },
    {
      "cell_type": "markdown",
      "metadata": {
        "id": "eZ6X7xWi1aZx"
      },
      "source": [
        "# Submission\n",
        "\n",
        "- Ensure you run all the cells in order from the top to the bottom\n",
        "- Check to ensure all the tests are passing\n",
        "      - run each of the cells containing `grader.check` ...\n",
        "- After running all the cells (top to bottom) and ensuring the tests are as you want **Save your file** to your local drive\n",
        "- File->Download->Download.ipynb and then upload the .ipynb file to Moodle under Homework X submission"
      ]
    }
  ],
  "metadata": {
    "colab": {
      "provenance": [],
      "include_colab_link": true
    },
    "kernelspec": {
      "display_name": "Python 3 (ipykernel)",
      "language": "python",
      "name": "python3"
    },
    "language_info": {
      "codemirror_mode": {
        "name": "ipython",
        "version": 3
      },
      "file_extension": ".py",
      "mimetype": "text/x-python",
      "name": "python",
      "nbconvert_exporter": "python",
      "pygments_lexer": "ipython3",
      "version": "3.12.7"
    }
  },
  "nbformat": 4,
  "nbformat_minor": 0
}