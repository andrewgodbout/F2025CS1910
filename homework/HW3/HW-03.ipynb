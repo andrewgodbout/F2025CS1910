{
  "cells": [
    {
      "cell_type": "markdown",
      "metadata": {
        "id": "view-in-github",
        "colab_type": "text"
      },
      "source": [
        "<a href=\"https://colab.research.google.com/github/andrewgodbout/F2025CS1910/blob/main/homework/HW3/HW-03.ipynb\" target=\"_parent\"><img src=\"https://colab.research.google.com/assets/colab-badge.svg\" alt=\"Open In Colab\"/></a>"
      ]
    },
    {
      "cell_type": "markdown",
      "metadata": {
        "id": "AlsJdpcJD8Kk"
      },
      "source": [
        "# Homework 3 - Expressions and Calculations"
      ]
    },
    {
      "cell_type": "markdown",
      "metadata": {
        "id": "xCHXNUK9i69M"
      },
      "source": [
        "## Before you begin\n",
        "\n",
        "### Submission\n",
        "Before you start working on this Homework:\n",
        "\n",
        "1. Press **File->Save a copy in Drive** from the menu. This will save your own copy of this notebook\n",
        "\n",
        "2. Follow the steps below and ensure you run the cells in order from the top. (You'll have to ensure you run any cells above this one too)\n",
        "\n",
        "3. You should get into the habit of saving your file occassionally as you work\n",
        "\n",
        "4. Certain cells will check your work against the expected answer, when you run these cells you'll know if your work is correct.\n",
        "\n",
        "5. After all the changes are done and progress is saved **File->Download->Download.ipynb** and then upload the .ipynb file to moodle"
      ]
    },
    {
      "cell_type": "code",
      "execution_count": 9,
      "metadata": {
        "id": "HeK7eFBmkS2_",
        "outputId": "0e2edcc9-d3b2-4bdc-ce50-b74e72079230",
        "colab": {
          "base_uri": "https://localhost:8080/"
        }
      },
      "outputs": [
        {
          "output_type": "stream",
          "name": "stdout",
          "text": [
            "Archive:  tests.zip\n",
            "  inflating: __MACOSX/._tests        \n",
            "  inflating: tests/q1.py             \n",
            "  inflating: __MACOSX/tests/._q1.py  \n",
            "  inflating: tests/q4.py             \n",
            "  inflating: __MACOSX/tests/._q4.py  \n",
            "  inflating: tests/q3.py             \n",
            "  inflating: __MACOSX/tests/._q3.py  \n"
          ]
        }
      ],
      "source": [
        "# The following code will download the required public tests for autograding\n",
        "# Run this cell before the below set-up cell\n",
        "\n",
        "from os.path import basename, exists\n",
        "\n",
        "def download(url):\n",
        "    filename = basename(url)\n",
        "    if not exists(filename):\n",
        "        from urllib.request import urlretrieve\n",
        "\n",
        "        local, _ = urlretrieve(url, filename)\n",
        "        print(\"Downloaded \" + str(local))\n",
        "    return filename\n",
        "\n",
        "tests_path = \"https://github.com/andrewgodbout/CS1910-Test/raw/refs/heads/main/HW/HW3/tests.zip\"\n",
        "\n",
        "\n",
        "download(tests_path)\n",
        "!unzip -o tests.zip"
      ]
    },
    {
      "cell_type": "code",
      "execution_count": null,
      "metadata": {
        "cellView": "form",
        "id": "Mcv4jwS4XrQp"
      },
      "outputs": [],
      "source": [
        "#@title Run your setup...\n",
        "#@markdown When you run this block you will either see ✅ SUCCESS or ❌ ERROR <br> letting you know if the library has run correctly. <br><br>\n",
        "#@markdown If there is an error in this block please email your instructor for help.\n",
        "\n",
        "try:\n",
        "    # Standard library imports\n",
        "    import numpy as np\n",
        "    import pandas as pd\n",
        "    import matplotlib.pyplot as plt\n",
        "    import ipywidgets as widgets\n",
        "    import math\n",
        "    import IPython.display as ipd\n",
        "\n",
        "    #otter for autograding\n",
        "    !pip install otter-grader==5.5.0\n",
        "    import otter\n",
        "    grader = otter.Notebook(colab=True)\n",
        "\n",
        "    print(\"✅ SUCCESS: All libraries imported successfully!\")\n",
        "    print(\"✅ HW Form Library loaded and ready!\")\n",
        "    print(\"📚 Available form types:\")\n",
        "    print(\"   • forms.create_info_form() - Information collection\")\n",
        "    print(\"   • forms.create_question_form() - Q&A with model answers\")\n",
        "    print(\"   • forms.create_prediction_table() - Code output prediction\")\n",
        "    print(\"   • forms.create_validation_form() - Truth tables with validation\")\n",
        "    print(\"   • forms.add_educational_context() - Structured learning context\")\n",
        "    print(\"   • forms.add_quick_context() - Simple markdown context\")\n",
        "    print(\"🆕 NEW: All forms now support optional default values!\")\n",
        "    print(\"You're ready to start the HW!\")\n",
        "\n",
        "except ImportError as e:\n",
        "    print(\"❌ ERROR: There was a problem importing the required libraries.\")\n",
        "    print(\"\\n🆘 PLEASE EMAIL YOUR INSTRUCTOR FOR HELP\")\n",
        "    print(\"   They will help you resolve this import issue.\")\n",
        "    print(\"\\n\" + \"=\"*50)\n",
        "    print(\"🔍 Technical Details (click triangle below to expand):\")\n",
        "\n",
        "    from IPython.display import HTML, display\n",
        "    display(HTML(f\"\"\"\n",
        "    <details>\n",
        "    <summary><strong>Click here if you're curious about the error details</strong></summary>\n",
        "    <pre style=\"background-color: #f5f5f5; padding: 10px; border-radius: 5px;\">\n",
        "    ImportError: {e}\n",
        "    </pre>\n",
        "    <p><em>Your instructor can use these details to help diagnose the problem.</em></p>\n",
        "    </details>\n",
        "    \"\"\"))\n",
        "\n",
        "except Exception as e:\n",
        "    print(\"❌ ERROR: Something unexpected happened during setup.\")\n",
        "    print(\"\\n🆘 PLEASE EMAIL YOUR INSTRUCTOR FOR HELP\")\n",
        "    print(\"   Show them this error message.\")\n",
        "    print(\"\\n\" + \"=\"*50)\n",
        "    print(\"🔍 Technical Details (click triangle below to expand):\")\n",
        "\n",
        "    from IPython.display import HTML, display\n",
        "    display(HTML(f\"\"\"\n",
        "    <details>\n",
        "    <summary><strong>Click here if you're curious about the error details</strong></summary>\n",
        "    <pre style=\"background-color: #f5f5f5; padding: 10px; border-radius: 5px;\">\n",
        "    Error: {e}\n",
        "    Error Type: {type(e).__name__}\n",
        "    </pre>\n",
        "    <p><em>Your instructor can use these details to help diagnose the problem.</em></p>\n",
        "    </details>\n",
        "    \"\"\"))"
      ]
    },
    {
      "cell_type": "markdown",
      "metadata": {
        "id": "beelqx3u_65p"
      },
      "source": [
        "# Let's move to Victoria\n",
        "\n",
        "I heard it's really expensive there ... but the weather is beautiful. They say it's the best in Canada.\n",
        "\n",
        "Here is a place in Victoria that is for sale:\n",
        "\n",
        "[House for Sale in Victoria](https://www.realtor.ca/real-estate/28789403/31-33-nelson-street-victoria-by-the-sea-victoria-victoria)\n",
        "\n",
        "But it is so expensive ... who has that kind of money just laying around. Hmmm ... well it has 6 cottages and is big enough to run as a bed and breakfast.\n",
        "\n",
        "Renting out rooms and cottages could bring in about \\$25,000 per month but ...\n",
        "\n",
        "Would that cover the mortgage?\n"
      ]
    },
    {
      "cell_type": "markdown",
      "metadata": {
        "id": "NO6_dLCnjEpt"
      },
      "source": [
        "## Can those online mortgage calculators even be trusted?\n",
        "\n",
        "The internet has lots of misinformation therefore we should build our own mortgage calculator (just to ensure accuracy) 😃.\n"
      ]
    },
    {
      "cell_type": "markdown",
      "metadata": {
        "id": "Yzl5Ov0ZkS3A"
      },
      "source": [
        "## Mortgage Payment Formula\n",
        "\n",
        "The formula for a standard monthly mortgage payment is\n",
        "\n",
        "$PMT = PV \\times \\frac{i \\times (1 + i)^n} {(1 + i)^n – 1 }$\n",
        "\n",
        "where\n",
        "- PV is the principal mortgage loan amount,\n",
        "- i is the monthly interest rate (annual rate divided by 12),  and\n",
        "- n is the total number of payments over the loan's lifetime (loan term in years multiplied by 12).\n",
        "\n",
        "Anytime you have a math formula that you are converting to code you need to ask yourself if the variables are so well understood that we could use them as python variable names. A good indication in this case is the presence of extra explainations (i.e., PV is the ...), this would indicate our code could use better variable names then PV, i and n.\n"
      ]
    },
    {
      "cell_type": "markdown",
      "metadata": {
        "id": "hUyDjCdokS3A"
      },
      "source": [
        "## Step 1: Get the inputs\n",
        "\n",
        "Most Mortgage Calculators will not ask a user for the monthly interest. This is because in the banking industry interest rates are calculated on an annual basis. Also annual interest can easily be converted to monthly or weekly or other interest as needed.\n",
        "\n",
        "Similarly most mortgage calculators will not ask a user how many payments they plan to make. Rather loan terms are considered in years. The program will do the math to determine the number of payments. In general a user isn't expected to know that a 25 year mortgage paid bi-weekly involves 650 payments (although the odd person does know this).\n",
        "\n",
        "**We need to prompt the user for:**\n",
        "\n",
        "- the cost of the property they want to buy,\n",
        "- the down payment (how much money they are paying up front),\n",
        "- the term of the loan in years,\n",
        "- the annual interest rate for the loan\n",
        "\n",
        "With this information our program will calculate monthly payments\n",
        "\n",
        "Step 1. build a program to prompt and retrieve 4 values from the user\n",
        "\n",
        "    a) Determine what variables we will need\n",
        "    b) Choose instinctive variable names for those variables\n",
        "    c) Keep the type of data (string, int, float, bool) in mind. Plan to convert it from a string immediately on input if possible/ required.\n",
        "\n",
        "\n",
        "Tips on choosing variable names:\n",
        "\n",
        "- instinctive means easy to understand and interpret\n",
        "     - `bank_balance` instinctively tells us what what it is\n",
        "     - `cc` is not obvious what this is, credit card? closed captioning? random letters?\n",
        "     - instrinctive names help form self-documenting code (no need to add additional comments explaining things)\n",
        "- follow conventions (variables typically start with lower case letters)\n",
        "- be consistent (if you use snake_case (lower case words separated by underscores) then consistently use that, do not later add variables using camelCase (every new word starts with a capitol letter)"
      ]
    },
    {
      "cell_type": "code",
      "execution_count": null,
      "metadata": {
        "tags": [],
        "id": "APh3RHBVkS3A"
      },
      "outputs": [],
      "source": [
        "\n",
        "#Step 1: Read the inputs from the user\n",
        "\n",
        "#the first one is done for you (assuming whole dollars (int) )\n",
        "property_cost = int(input(\"Enter the cost of the property you want to buy:\"))\n",
        "\n",
        "#read down payment from user\n",
        "\n",
        "\n",
        "#length of the loan in years (eg. 25 for 25 years)\n",
        "\n",
        "\n",
        "#annual interest rate in percent\n",
        "\n",
        "\n",
        "\n"
      ]
    },
    {
      "cell_type": "code",
      "execution_count": null,
      "metadata": {
        "tags": [],
        "id": "iOmKq_-pkS3A"
      },
      "outputs": [],
      "source": [
        "# in the order from above repeat your variable names inside the quotes\n",
        "\n",
        "user_input1 = \"property_cost\" #<- this one is provided for you\n",
        "user_input2 = \"your variable name where the 2nd user input is stored\"\n",
        "user_input3 = \"your variable name where the 3rd user input is stored\"\n",
        "user_input4 = \"your variable name where the 4th user input is stored\"\n"
      ]
    },
    {
      "cell_type": "code",
      "execution_count": null,
      "metadata": {
        "deletable": false,
        "editable": false,
        "id": "b9HjsDoAkS3A"
      },
      "outputs": [],
      "source": [
        "grader.check(\"q1\")"
      ]
    },
    {
      "cell_type": "markdown",
      "metadata": {
        "id": "-yxkf6oJkS3A"
      },
      "source": [
        "# Intermediate Calculations\n",
        "\n",
        "We read in general values from the user but we will do some calculations on them based on the user input.\n",
        "\n",
        "1. Subtract the down payment from the the property cost to determine the final loan amount\n",
        "2. Convert the years of the loan into the number of payments (there are 12 months in a year)\n",
        "3. Convert the annual interest percent into monthly interest decimal number (there are 12 months in a year and to convert from percent to decimal divide by 100)\n",
        "\n",
        "Examples:\n",
        "\n",
        "- If the property is 1000 and you have 100 for downpayment your loan is 900\n",
        "- If you take on a 2 year loan and are making monthly payments then you will make 24 payments\n",
        "- If you have an annual interest rate of 12\\% and make payments every month then your monthly interest is 1\\%\n",
        "      - but this is a percent so you should also convert it to a decimal number (divide by 100) to get 0.01\n",
        "\n",
        "We will save these new values into new variables (using the exact variable names below) to be used in our final calculation.\n"
      ]
    },
    {
      "cell_type": "code",
      "execution_count": null,
      "metadata": {
        "tags": [],
        "id": "ldmOTXOFkS3A"
      },
      "outputs": [],
      "source": [
        "# Conversions\n",
        "\n",
        "# 1. determine loan amount\n",
        "loan_amount = ...\n",
        "\n",
        "# 2. determine number of payments\n",
        "payments = ...\n",
        "\n",
        "# 3. determine the monthly interest\n",
        "monthly_interest = ...\n",
        "\n"
      ]
    },
    {
      "cell_type": "markdown",
      "metadata": {
        "deletable": false,
        "editable": false,
        "id": "u_AQDZQjkS3A"
      },
      "source": [
        "# Calculate the monthly payment\n",
        "\n",
        "Using the math formula for loan repayment:\n",
        "\n",
        "$PMT = PV \\times \\frac{i \\times (1 + i)^n} {(1 + i)^n – 1 }$\n",
        "\n",
        "where\n",
        "\n",
        "PV is the principal mortgage loan amount,\n",
        "i is the monthly interest rate (annual rate divided by 12), and\n",
        "n is the total number of payments over the loan's lifetime (loan term in years multiplied by 12).\n",
        "\n",
        "convert this to python code using your above variable names and calculations\n",
        "- recall: the builtin function `pow` can be used to calculate exponents ... `pow(x,y)` is equivalent to $x^y$\n",
        "\n",
        "There is a fraction to be calculated, do this calculation in 2 steps:\n",
        "\n",
        "1. Calculate the numerator (and save it into a varaible called numerator)\n",
        "2. Calculate the denominator (and save it into a variable called denominator)\n",
        "\n",
        "Your final formula then becomes:\n",
        "\n",
        "$PMT = PV \\times \\frac{numerator}{denominator}$\n",
        "\n",
        "which makes the coding a little less error prone.\n",
        "\n",
        "\n",
        "_Points:_ 3"
      ]
    },
    {
      "cell_type": "code",
      "execution_count": null,
      "metadata": {
        "deletable": false,
        "editable": false,
        "id": "WEKUU2gPkS3A"
      },
      "outputs": [],
      "source": [
        "# TESTING CELL\n",
        "\n",
        "# ONLY Run this code block if you want to test your program with the below values\n",
        "# it will overwrite the prior calculations which were derived from the user input\n",
        "# it is expected that the monthly payment for the below values is $88.85\n",
        "\n",
        "monthly_interest = 0.01\n",
        "payments = 12\n",
        "loan_amount = 1000"
      ]
    },
    {
      "cell_type": "code",
      "execution_count": null,
      "metadata": {
        "tags": [],
        "id": "hzxJI4ujkS3A"
      },
      "outputs": [],
      "source": []
    },
    {
      "cell_type": "code",
      "execution_count": null,
      "metadata": {
        "tags": [],
        "id": "a6F92m52kS3A"
      },
      "outputs": [],
      "source": [
        "# replace the ... with your expresssions\n",
        "\n",
        "# compute the numerator\n",
        "numerator = ...\n",
        "\n",
        "#compute the denominator\n",
        "denominator = ...\n",
        "\n",
        "if denominator < 0.000001:\n",
        "    print(\"Possible divide by zero issue\")\n",
        "\n",
        "# compute the final monthly payment\n",
        "monthly_payment = ...\n",
        "\n",
        "# output the monthly payment amount\n",
        "print(f\"Your monthly payment is ${monthly_payment:.2f}\")\n",
        "print(numerator)\n",
        "print(denominator)\n"
      ]
    },
    {
      "cell_type": "code",
      "execution_count": null,
      "metadata": {
        "deletable": false,
        "editable": false,
        "id": "J4HRV7JQkS3A"
      },
      "outputs": [],
      "source": [
        "grader.check(\"q3\")"
      ]
    },
    {
      "cell_type": "markdown",
      "metadata": {
        "id": "BtBnl3g8jJiA",
        "outputId": "267fe65e-93d9-48c5-c066-cb99663ee369"
      },
      "source": [
        "# Check your solution\n",
        "\n",
        "We have a couple of ways to double check our work. (once we have any python errors fixed).\n",
        "\n",
        "1. Load an existing mortgage payment calculator and compare our output versus theirs\n",
        "   - example: [online mortgage payment calculator](https://www.calculatorsoup.com/calculators/financial/mortgage-calculator.php)\n",
        "  \n",
        "2. Get out our trusty calculator and try some calculations by hand.\n",
        "\n",
        "   - just do not try a 0\\% interest rate\n",
        "   - Why?\n",
        "\n"
      ]
    },
    {
      "cell_type": "markdown",
      "metadata": {
        "deletable": false,
        "editable": false,
        "id": "kX1LSBiokS3A"
      },
      "source": [
        "# Determine whether to put in an offer or not?\n",
        "\n",
        "Given the monthly payments and our expected income from renting rooms and cottages. Should we buy the [property](https://www.realtor.ca/real-estate/28789403/31-33-nelson-street-victoria-by-the-sea-victoria-victoria) in Victoria.\n",
        "\n",
        "\n",
        "Enter a boolean value below in place of the `...`\n",
        "\n",
        "\n",
        "_Points:_ 1"
      ]
    },
    {
      "cell_type": "code",
      "execution_count": null,
      "metadata": {
        "tags": [],
        "id": "ncb9CyYvkS3A"
      },
      "outputs": [],
      "source": [
        "buy_property = ...\n"
      ]
    },
    {
      "cell_type": "code",
      "execution_count": null,
      "metadata": {
        "deletable": false,
        "editable": false,
        "id": "alv-4GsDkS3A"
      },
      "outputs": [],
      "source": [
        "grader.check(\"q4\")"
      ]
    },
    {
      "cell_type": "markdown",
      "metadata": {
        "id": "GGBDx1s4kS3A"
      },
      "source": [
        "# Beyond the Homework\n",
        "\n",
        "(these are some suggestions of things to try on your own, but are not graded as part of the homework\n",
        "\n",
        "You might note that our formula involves a divide by zero when the interest rate is 0\\%\n",
        "\n",
        "Fix the output in the case of zero interest so the formula becomes the loan divided by the number of payments.\n",
        "\n",
        "Convert your program from monthly payments to semi-monthly payments or (slightly more challenging) weekly or bi-weekly payments.\n",
        "\n"
      ]
    },
    {
      "cell_type": "markdown",
      "metadata": {
        "id": "hJvUzBUskS3B"
      },
      "source": [
        "# Submission\n",
        "\n",
        "- Ensure you run all the cells in order from the top to the bottom\n",
        "- Check to ensure all the tests are passing\n",
        "      - run each of the cells containing `grader.check` ...\n",
        "- After running all the cells (top to bottom) and ensuring the tests are as you want **Save your file** to your local drive\n",
        "- File->Download->Download.ipynb and then upload the .ipynb file to Moodle under Homework X submission"
      ]
    }
  ],
  "metadata": {
    "colab": {
      "provenance": [],
      "include_colab_link": true
    },
    "kernelspec": {
      "display_name": "Python 3 (ipykernel)",
      "language": "python",
      "name": "python3"
    },
    "language_info": {
      "codemirror_mode": {
        "name": "ipython",
        "version": 3
      },
      "file_extension": ".py",
      "mimetype": "text/x-python",
      "name": "python",
      "nbconvert_exporter": "python",
      "pygments_lexer": "ipython3",
      "version": "3.12.7"
    }
  },
  "nbformat": 4,
  "nbformat_minor": 0
}