{
  "cells": [
    {
      "cell_type": "markdown",
      "metadata": {
        "id": "view-in-github",
        "colab_type": "text"
      },
      "source": [
        "<a href=\"https://colab.research.google.com/github/andrewgodbout/F2025CS1910/blob/main/CaseStudies/Wordle.ipynb\" target=\"_parent\"><img src=\"https://colab.research.google.com/assets/colab-badge.svg\" alt=\"Open In Colab\"/></a>"
      ]
    },
    {
      "cell_type": "markdown",
      "id": "8a430e74-b6d7-4297-b702-e52c5c1d8eb1",
      "metadata": {
        "id": "8a430e74-b6d7-4297-b702-e52c5c1d8eb1"
      },
      "source": [
        "# Wordle\n",
        "\n",
        "*based on the [wordle game](https://www.nytimes.com/games/wordle/index.html) from NYTimes*"
      ]
    },
    {
      "cell_type": "markdown",
      "id": "517b6f1c-b3bb-4b12-a793-745464cd0252",
      "metadata": {
        "id": "517b6f1c-b3bb-4b12-a793-745464cd0252"
      },
      "source": [
        "In this case-study we will build a clone of the popular word game, wordle. This is a similar game to the [mastermind board game](https://en.wikipedia.org/wiki/Mastermind_(board_game)) which is similar to the old British pen and paper game called [Cows and Bulls](https://en.wikipedia.org/wiki/Bulls_and_cows).\n",
        "\n",
        "They are all code breaking games designed for two players (with the computer playing the version of the code maker in wordle and online versions of mastermind) and the single player trying to break the code by trial and error.\n",
        "\n",
        "Prior to starting this you should play Wordle to ensure you understand how it works:\n",
        "\n",
        "- [wordle](https://www.nytimes.com/games/wordle/index.html)\n",
        "- [online mastermind](https://www.archimedes-lab.org/mastermind.html).\n",
        "\n",
        "### Wordle Gameplay\n",
        "\n",
        "The game starts with a secret word that is 5 letters long. The user gets 6 guesses to determine the secret word. Each time they guess they are given feedback. The feedback is given by coloring the position of the letters in their guess as follows:\n",
        "\n",
        "- if the letter position is green then that letter is an exact match for the secret word, i.e., the secret word has that same letter in that same spot\n",
        "- if the letter position is yellow then that letter is in the secret word but not in that exact spot\n",
        "- if the letter position is black then that letter is not in the secret word\n",
        "\n",
        "To score properly: the green letter positions are denoted first, then the yellow letter positions are denoted from left to right and finally the black letter positions are denoted. The scoring is presented to the user in the same order as the letter appear in the word. Any letter in the secret word can only be represented by one letter in the guess.\n",
        "\n",
        "example:\n",
        "<pre>\n",
        "secret word: s i l l y\n",
        "\n",
        "guess:       i s l e s\n",
        "</pre>\n",
        "To score `isles` we would color the letter positions as follows: `i`: yellow, the `s`: yellow (first s when scanning left to right in the guess), `l`: green, `e`: black and `s`: black the s has already been accounted for.\n",
        "\n",
        "One additional caveat is that the secret word is an actual english word and guess are only allowed to be english words. Guesses that aren't english words are just ignored (they are not scored and do not count as one of the 6 allowed guesses).\n",
        "\n",
        "*Note: wordle scoring is slightly different than mastermind in that the letters that are correct are identified rather than just saying some letter was correct (mastermind), in wordle we identify which letter was a correct letter.*\n"
      ]
    },
    {
      "cell_type": "markdown",
      "id": "49900456-a953-4c10-a4c2-a7ecec9bb7f3",
      "metadata": {
        "id": "49900456-a953-4c10-a4c2-a7ecec9bb7f3"
      },
      "source": [
        "# Rich module\n",
        "\n",
        "To make the output a little more colourful we'll use a module that allows us to easily add some colour\n",
        "\n",
        "to use it we import rich and then we call `rich.print` which allows for some annotations to modify how the output appears"
      ]
    },
    {
      "cell_type": "code",
      "execution_count": null,
      "id": "a5fa6287-57ab-4b1c-93ed-6b0392e90c8b",
      "metadata": {
        "id": "a5fa6287-57ab-4b1c-93ed-6b0392e90c8b",
        "outputId": "3811e43a-ffda-4cd0-d18f-67fc264677f6"
      },
      "outputs": [
        {
          "name": "stdout",
          "output_type": "stream",
          "text": [
            "... s i l l y ...\n",
            "... i s l e s ...\n"
          ]
        },
        {
          "data": {
            "text/html": [
              "<pre style=\"white-space:pre;overflow-x:auto;line-height:normal;font-family:Menlo,'DejaVu Sans Mono',consolas,'Courier New',monospace\"><span style=\"color: #808000; text-decoration-color: #808000\">...</span> <span style=\"color: #d7af00; text-decoration-color: #d7af00\">■</span> <span style=\"color: #d7af00; text-decoration-color: #d7af00\">■</span> <span style=\"color: #008000; text-decoration-color: #008000\">■</span> <span style=\"color: #000000; text-decoration-color: #000000\">■</span> <span style=\"color: #000000; text-decoration-color: #000000\">■</span> <span style=\"color: #808000; text-decoration-color: #808000\">...</span>\n",
              "</pre>\n"
            ],
            "text/plain": [
              "\u001b[33m...\u001b[0m \u001b[38;5;178m■\u001b[0m \u001b[38;5;178m■\u001b[0m \u001b[32m■\u001b[0m \u001b[30m■\u001b[0m \u001b[30m■\u001b[0m \u001b[33m...\u001b[0m\n"
            ]
          },
          "metadata": {},
          "output_type": "display_data"
        }
      ],
      "source": [
        "# rich module\n",
        "import rich\n",
        "#now when we call print we can add some annotations to make the output more colourful\n",
        "print(\"... s i l l y ...\")\n",
        "print(\"... i s l e s ...\")\n",
        "rich.print(\"... [gold3]■[/gold3] [gold3]■[/gold3] [green]■[/green] [black]■[/black] [black]■[/black] ...\")"
      ]
    },
    {
      "cell_type": "markdown",
      "id": "7ece6527-5b49-429b-9f7f-772c6586d54f",
      "metadata": {
        "id": "7ece6527-5b49-429b-9f7f-772c6586d54f"
      },
      "source": [
        "# Task 1: Form Groups (5 minutes)\n",
        "\n",
        "Form groups of 3-5 people\n",
        "\n",
        "1. Introduce yourselves to each other\n",
        "2. Assign one person as the paper recorder (this person should have a pen/paper)\n",
        "3. Assign one person as the computer recorder (this person should have an electronic device (preferrably laptop/tablet)\n",
        "4. Assign one person as the speaker (this person will address the instructor / class when required)"
      ]
    },
    {
      "cell_type": "markdown",
      "id": "1bfcf4f5-ad4d-4daa-a0bc-f099c3198417",
      "metadata": {
        "id": "1bfcf4f5-ad4d-4daa-a0bc-f099c3198417"
      },
      "source": [
        "## Task 2: Score some Wordles (5 minutes)\n",
        "\n",
        "In your groups put a paper in the middle of the desk, the paper recorder can help score the following wordles. Make sure everyone in the group is comfortable and confident in the score. To score the guess label each letter as either `black`, `green`, or `yellow`, just remember to score the greens first then the yellows and finally the blacks.\n",
        "\n",
        "1.\n",
        "<pre>\n",
        "    secret word: o o p s y\n",
        "    guess:       o p e n s\n",
        "</pre>\n",
        "2.\n",
        "<pre>\n",
        "    secret word: e r r o r\n",
        "    guess:       r o t o r\n",
        "</pre>\n",
        "3.\n",
        "<pre>\n",
        "     secret word: s t a r t\n",
        "     guess:       a r r a y\n",
        "</pre>\n",
        "4.   \n",
        "<pre>\n",
        "       secret word: i d e a l\n",
        "       guess:       l e a d s\n",
        "</pre>\n",
        "5.   \n",
        "<pre>\n",
        "       secret word: s t a t s\n",
        "       guess:       t w i s t\n",
        "</pre>\n",
        "6.\n",
        "<pre>\n",
        "     secret word: g u e s s\n",
        "     guess:       s w i s s\n",
        "</pre>\n",
        "\n",
        "7. Develop your own secret and guess that your group feels might make for a challenging one to score.\n",
        "\n",
        "8. Identify one feedback score that is impossible to achieve, i.e,. some combination of 5: \"G\", \"Y\" and \"B\" 's that is impossible.\n",
        "\n",
        "   Obviously \"G B B B B\" is a possible feedback score since secret: \"b e a c h\" and guess: \"t e a c h\" would have this score.\n",
        "\n",
        "Once your group has completed the task, your speaker should go to the board and write the words you chose as potentially difficult to score `secret` and `guess` combinations along with what you believe is an impossible feedback score."
      ]
    },
    {
      "cell_type": "markdown",
      "id": "81233da0-7055-4074-8bbd-55436b8419ed",
      "metadata": {
        "id": "81233da0-7055-4074-8bbd-55436b8419ed"
      },
      "source": [
        "# Helper code\n",
        "\n",
        "Below is some helper code to generate secret words and choose them from the list"
      ]
    },
    {
      "cell_type": "code",
      "execution_count": null,
      "id": "ffe0f142-1bbb-4844-bb8d-e5fb4719a993",
      "metadata": {
        "id": "ffe0f142-1bbb-4844-bb8d-e5fb4719a993",
        "outputId": "294a1da3-fc81-466e-fccd-f2621ca418b9"
      },
      "outputs": [
        {
          "name": "stdout",
          "output_type": "stream",
          "text": [
            "secret: beach\n"
          ]
        }
      ],
      "source": [
        "# Generative AI provided a list of 5 letter words for us:\n",
        "\n",
        "words = [\n",
        "    \"about\", \"above\", \"abuse\", \"actor\", \"acute\", \"admit\", \"adopt\", \"adult\", \"after\", \"again\",\n",
        "    \"agent\", \"agree\", \"ahead\", \"alarm\", \"album\", \"alert\", \"alike\", \"alive\", \"allow\", \"alone\",\n",
        "    \"along\", \"alter\", \"among\", \"anger\", \"angle\", \"angry\", \"apart\", \"apple\", \"apply\", \"arena\",\n",
        "    \"argue\", \"arise\", \"armed\", \"array\", \"aside\", \"asset\", \"audio\", \"audit\", \"avoid\", \"award\",\n",
        "    \"aware\", \"badly\", \"baker\", \"bases\", \"basic\", \"basis\", \"beach\", \"began\", \"begin\", \"begun\",\n",
        "    \"being\", \"below\", \"bench\", \"billy\", \"birth\", \"black\", \"blame\", \"blind\", \"block\", \"blood\",\n",
        "    \"board\", \"boost\", \"booth\", \"bound\", \"brain\", \"brand\", \"bread\", \"break\", \"breed\", \"brief\",\n",
        "    \"bring\", \"broad\", \"broke\", \"brown\", \"build\", \"built\", \"buyer\", \"cable\", \"calif\", \"carry\",\n",
        "    \"catch\", \"cause\", \"chain\", \"chair\", \"chart\", \"chase\", \"cheap\", \"check\", \"chest\", \"chief\",\n",
        "    \"child\", \"china\", \"chose\", \"civil\", \"claim\", \"class\", \"clean\", \"clear\", \"click\", \"clock\",\n",
        "    \"close\", \"coach\", \"coast\", \"could\", \"count\", \"court\", \"cover\", \"craft\", \"crash\", \"crazy\",\n",
        "    \"cream\", \"crime\", \"cross\", \"crowd\", \"crown\", \"curve\", \"cycle\", \"daily\", \"dance\", \"dated\",\n",
        "    \"dealt\", \"death\", \"debut\", \"delay\", \"depth\", \"doing\", \"doubt\", \"dozen\", \"draft\", \"drama\",\n",
        "    \"drawn\", \"dream\", \"dress\", \"drill\", \"drink\", \"drive\", \"drove\", \"dying\", \"eager\", \"early\",\n",
        "    \"earth\", \"eight\", \"elite\", \"empty\", \"enemy\", \"enjoy\", \"enter\", \"entry\", \"equal\", \"error\",\n",
        "    \"event\", \"every\", \"exact\", \"exist\", \"extra\", \"faith\", \"false\", \"fault\", \"fiber\", \"field\",\n",
        "    \"fifth\", \"fifty\", \"fight\", \"final\", \"first\", \"fixed\", \"flash\", \"fleet\", \"floor\", \"fluid\",\n",
        "    \"focus\", \"force\", \"forth\", \"forty\", \"forum\", \"found\", \"frame\", \"frank\", \"fraud\", \"fresh\",\n",
        "    \"front\", \"fruit\", \"fully\", \"funny\", \"giant\", \"given\", \"glass\", \"globe\", \"going\", \"grace\",\n",
        "    \"grade\", \"grand\", \"grant\", \"grass\", \"great\", \"green\", \"gross\", \"group\", \"grown\", \"guard\",\n",
        "    \"guess\", \"guest\", \"guide\", \"happy\", \"harsh\", \"heart\", \"heavy\", \"hence\", \"henry\", \"horse\",\n",
        "    \"hotel\", \"house\", \"human\", \"ideal\", \"image\", \"index\", \"inner\", \"input\", \"issue\", \"joint\",\n",
        "    \"judge\", \"known\", \"label\", \"large\", \"laser\", \"later\", \"laugh\", \"layer\", \"learn\", \"lease\",\n",
        "    \"least\", \"leave\", \"legal\", \"level\", \"light\", \"limit\", \"links\", \"lives\", \"local\", \"logic\",\n",
        "    \"loose\", \"lower\", \"lucky\", \"lunch\", \"lying\", \"magic\", \"major\", \"maker\", \"march\", \"match\",\n",
        "    \"maybe\", \"mayor\", \"meant\", \"media\", \"metal\", \"might\", \"minor\", \"minus\", \"mixed\", \"model\",\n",
        "    \"money\", \"month\", \"moral\", \"motor\", \"mount\", \"mouse\", \"mouth\", \"movie\", \"music\", \"needs\",\n",
        "    \"never\", \"newly\", \"night\", \"noise\", \"north\", \"noted\", \"novel\", \"nurse\", \"occur\", \"ocean\",\n",
        "    \"offer\", \"often\", \"order\", \"other\", \"ought\", \"paint\", \"panel\", \"paper\", \"party\", \"peace\",\n",
        "    \"phase\", \"phone\", \"photo\", \"piece\", \"pilot\", \"pitch\", \"place\", \"plain\", \"plane\", \"plant\",\n",
        "    \"plate\", \"point\", \"pound\", \"power\", \"press\", \"price\", \"pride\", \"prime\", \"print\", \"prior\",\n",
        "    \"prize\", \"proof\", \"proud\", \"prove\", \"queen\", \"quick\", \"quiet\", \"quite\", \"radio\", \"raise\",\n",
        "    \"range\", \"rapid\", \"ratio\", \"reach\", \"ready\", \"refer\", \"relax\", \"reply\", \"right\", \"rival\",\n",
        "    \"river\", \"robin\", \"robot\", \"rocky\", \"roman\", \"rough\", \"round\", \"route\", \"royal\", \"rural\",\n",
        "    \"scale\", \"scene\", \"scope\", \"score\", \"sense\", \"serve\", \"seven\", \"shall\", \"shape\", \"share\",\n",
        "    \"sharp\", \"sheet\", \"shelf\", \"shell\", \"shift\", \"shirt\", \"shock\", \"shoot\", \"short\", \"shown\",\n",
        "    \"sight\", \"since\", \"sixth\", \"sixty\", \"skill\", \"sleep\", \"slide\", \"small\", \"smart\", \"smile\",\n",
        "    \"smith\", \"smoke\", \"solid\", \"solve\", \"sorry\", \"sound\", \"south\", \"space\", \"spare\", \"speak\",\n",
        "    \"speed\", \"spend\", \"spent\", \"split\", \"spoke\", \"sport\", \"staff\", \"stage\", \"stake\", \"stand\",\n",
        "    \"start\", \"state\", \"steam\", \"steel\", \"stick\", \"still\", \"stock\", \"stone\", \"stood\", \"store\",\n",
        "    \"storm\", \"story\", \"strip\", \"stuck\", \"study\", \"stuff\", \"style\", \"sugar\", \"suite\", \"super\",\n",
        "    \"sweet\", \"table\", \"taken\", \"taste\", \"taxes\", \"teach\", \"teeth\", \"terry\", \"texas\", \"thank\",\n",
        "    \"theft\", \"their\", \"theme\", \"there\", \"these\", \"thick\", \"thing\", \"think\", \"third\", \"those\",\n",
        "    \"three\", \"threw\", \"throw\", \"tight\", \"times\", \"tired\", \"title\", \"today\", \"topic\", \"total\",\n",
        "    \"touch\", \"tough\", \"tower\", \"track\", \"trade\", \"train\", \"treat\", \"trend\", \"trial\", \"tried\",\n",
        "    \"tries\", \"truck\", \"truly\", \"trust\", \"truth\", \"twice\", \"under\", \"union\", \"unity\", \"until\",\n",
        "    \"upper\", \"upset\", \"urban\", \"usage\", \"usual\", \"valid\", \"value\", \"video\", \"virus\", \"visit\",\n",
        "    \"vital\", \"voice\", \"waste\", \"watch\", \"water\", \"wheel\", \"where\", \"which\", \"while\", \"white\",\n",
        "    \"whole\", \"whose\", \"woman\", \"women\", \"world\", \"worry\", \"worse\", \"worst\", \"worth\", \"would\",\n",
        "    \"wound\", \"write\", \"wrong\", \"wrote\", \"yield\", \"young\", \"youth\"\n",
        "]\n",
        "\n",
        "# code to setup the secret word\n",
        "\n",
        "import random\n",
        "\n",
        "#Step 0: Generate a secret word\n",
        "\n",
        "#sometimes it helps to set a seed so we can \"control\" the randomness\n",
        "random.seed(55)\n",
        "\n",
        "secret = random.choice(words)\n",
        "\n",
        "#sometimes we might just pick our own secret word\n",
        "#secret = \"front\"\n",
        "\n",
        "print(f\"secret: {secret}\") #not a secret anymore\n",
        "\n"
      ]
    },
    {
      "cell_type": "markdown",
      "id": "208669ed-cf4f-47b3-92c0-960ca1dac98d",
      "metadata": {
        "id": "208669ed-cf4f-47b3-92c0-960ca1dac98d"
      },
      "source": [
        "## Task 3: Scaffold the game\n",
        "\n",
        "In your groups outline the steps involved in the looping mechanism for facilitating multiple attemps at guessing the secret.\n",
        "\n",
        "- What variables do you need? Examples:\n",
        "    - generalized max number of guesses?\n",
        "    - track whether the secret has been guessed or not?\n",
        "    - current count of number of guesses?\n",
        "- How do you handle stopping the game when the secret is correctly guessed\n",
        "- What happens if the user doesn't get the secret within X guesses\n",
        "- Will you use a for loop or a while loop?\n",
        "- Don't worry about scoring just yet - but you slot in a comment where scoring should happen\n"
      ]
    },
    {
      "cell_type": "code",
      "execution_count": null,
      "id": "e0350c08-c73d-432e-bb7b-6cf9545b13d8",
      "metadata": {
        "id": "e0350c08-c73d-432e-bb7b-6cf9545b13d8"
      },
      "outputs": [],
      "source": [
        "# Task 4\n",
        "# control the guessing flow (don't worry about scoring yet)\n",
        "\n",
        "# Add you code below to facilitate guessing\n",
        "secret = random.choice(words)\n",
        "\n",
        "# repetition get up to 6 guesses\n",
        "\n",
        "\n",
        "\n",
        "# output a game ending message\n",
        "\n"
      ]
    },
    {
      "cell_type": "markdown",
      "id": "d90d8252-6253-4121-8c57-d095bab438fc",
      "metadata": {
        "id": "d90d8252-6253-4121-8c57-d095bab438fc"
      },
      "source": [
        "# Scoring (first a brief class discussion)\n",
        "\n",
        "Consider that we are scoring the secret word: `occur` and the guess: `rocky`\n",
        "\n",
        "We will score in two steps: first the green letters and then the yellow letters.\n",
        "We will ignore the rich text output for now. Our goal is to produce score string that has G's for green, Y's for yellow and B's for black, and a secret_copy that keeps track of which letters were `used` in the scoring. We will make a copy of the secret and *mark* the characters that have been used as part of the scoring. We will mark them with a exclaimation point: `!`\n",
        "\n",
        "For example: `score = \"GGGGG\"` is the desired string when the user guess has matched perfectly the secret, and in that case `secret_copy = \"!!!!!\"` indicates all letters have been used in the scoring.\n",
        "\n",
        "example 2: `score = \"YBBBB\"` indicates that the first letter is correct but in the wrong spot, and in this case `secret_copy = \"occu!\"` indicates we have used up the last letter.\n",
        "\n",
        "Keeping track of which letters have been used is important for scoring the yellows so we avoid any double counting.\n",
        "\n",
        "Prior to each guess, the score string will be initialized to `\"BBBBB\"` (and `secret_copy` to `secret`) then we will replace \"B\" with \"G\" as we score the greens and other \"B\" with \"Y\" as we score the yellows. Each time we score a particular index position we will replace the letter in our `secret_copy` at that position with a `!`.\n",
        "\n",
        "Recall the Strings are immutable so we will create new strings as we score. Supposing our score string is: \"BBBBB\" and we want to put a \"G\" into index position 2, we will slice the score string to get the left side (score[:2]) concatenate with the new character (+ \"G\") and the concatenate with the remaining (+ score[3:]). Similarly our `secret_copy` will get a ! in that position (for green the position is also 2): secret_copy\n",
        "\n",
        "```python\n",
        "#score 2nd index position as \"G\"\n",
        "\n",
        "#create the output\n",
        "score = score[:2] + \"G\" + score[3:]\n",
        "\n",
        "#keep track of letters that have been used\n",
        "secret_copy[:2] + \"!\" + secret_copy[3:]\n",
        "\n",
        "\n",
        "#score ith index position as \"Y\" (it matched a letter in the secret in position j\n",
        "score = score[:i] + \"Y\" + score[i+1:]\n",
        "\n",
        "#more on Yellow scoring below\n",
        "#mark position j as used\n",
        "secret_copy[:j] + \"!\" + secret_copy[j+1:]\n",
        "```\n",
        "\n",
        "You might take a second to double check your string slicing to ensure replacing letters in the 0th index and last index works properly with the above code.\n",
        "\n",
        "(Eventually we will learn about lists (which are mutable) but for now this is reasonable practice with string slicing."
      ]
    },
    {
      "cell_type": "markdown",
      "id": "4f1ab3d4-a2d5-497a-bcfd-6cf9d14e2b03",
      "metadata": {
        "id": "4f1ab3d4-a2d5-497a-bcfd-6cf9d14e2b03"
      },
      "source": [
        "# Task 4 Score the Greens\n",
        "\n",
        "As a group develop the algorithm to score the greens.\n",
        "\n",
        "Your goal is to modify 2 strings: `score` and `secret_copy`. Initially `score = \"BBBBB\"` and `secret_copy = secret` but after scoring the greens the `score` string should contain a \"G\" in the place where perfect matches were found (and \"B\" everywhere else) it should still be length 5 as well. `secret_copy` should contain a \"!\" in the same index position as any \"G\" in the `score` string and also always be length \"5\".\n",
        "\n",
        "You should never alter `secret` nor `guess`.\n",
        "\n",
        "Add your groups pseudo code below\n",
        "\n",
        "\n",
        "### Pseudo code score the greens\n",
        "\n",
        "```python\n",
        "START SCORE THE GREENS\n",
        "\n",
        "\n",
        "\n",
        "\n",
        "\n",
        "\n",
        "\n",
        "\n",
        "\n",
        "\n",
        "\n",
        "\n",
        "\n",
        "\n",
        "END\n",
        "```"
      ]
    },
    {
      "cell_type": "code",
      "execution_count": null,
      "id": "e7905242-c29d-477d-81da-083f83ec1069",
      "metadata": {
        "id": "e7905242-c29d-477d-81da-083f83ec1069",
        "outputId": "3442d0db-09ba-401e-e62f-98800024bbf4"
      },
      "outputs": [
        {
          "name": "stdout",
          "output_type": "stream",
          "text": [
            "green score:   BBBBB\n",
            "letters_used:  occur\n",
            "expected score BBGBB\n",
            "expected used  BB!BB\n"
          ]
        }
      ],
      "source": [
        "# Python code to score the greens\n",
        "\n",
        "secret = \"occur\"\n",
        "guess =  \"rocky\"\n",
        "\n",
        "score = \"BBBBB\" #final scoring replace these B's with G's as appropriate\n",
        "secret_copy = \"occur\" #replace these letters with ! as they are scored\n",
        "\n",
        "#add your code to score greens here\n",
        "\n",
        "\n",
        "\n",
        "\n",
        "\n",
        "\n",
        "\n",
        "\n",
        "print(f\"green score:   {score}\")\n",
        "print(f\"letters_used:  {secret_copy}\")\n",
        "\n",
        "expected_green_score =   \"BBGBB\"\n",
        "expected_used_letters =  \"BB!BB\"\n",
        "\n",
        "print(f\"expected score {expected_green_score}\")\n",
        "print(f\"expected used  {expected_used_letters}\")"
      ]
    },
    {
      "cell_type": "markdown",
      "id": "591e475e-c14f-4a92-87c6-1f335b870cf4",
      "metadata": {
        "id": "591e475e-c14f-4a92-87c6-1f335b870cf4"
      },
      "source": [
        "# Task 5: Scoring Yellows\n",
        "\n",
        "It is trickier to score the yellows. (Although the tricky part is to keep track of used letters, and we already started that with our green scoring)\n",
        "\n",
        "\n",
        "As a group develop your algorithm to score the yellows. Make sure you compare the guess against the `secret_copy` variable since it contains only letters that are still eligible to be scored (and !)\n",
        "\n",
        "\n",
        "### Pseudo code score the yellows\n",
        "\n",
        "```python\n",
        "START SCORE THE Yellows\n",
        "\n",
        "\n",
        "\n",
        "\n",
        "\n",
        "\n",
        "\n",
        "\n",
        "\n",
        "\n",
        "\n",
        "\n",
        "\n",
        "\n",
        "END\n",
        "```\n"
      ]
    },
    {
      "cell_type": "code",
      "execution_count": null,
      "id": "4932e004-1d5d-4b66-ba09-50756de73839",
      "metadata": {
        "id": "4932e004-1d5d-4b66-ba09-50756de73839",
        "outputId": "9deb55f6-e429-4d0e-ff95-0a811359e3a4"
      },
      "outputs": [
        {
          "name": "stdout",
          "output_type": "stream",
          "text": [
            "green and yellow score:   BBGBB\n",
            "letters_used:             BB!BB\n",
            "expected score            YYGBB\n",
            "expected used             !B!B!\n"
          ]
        }
      ],
      "source": [
        "# python code to score the yellows\n",
        "# assumes the greens have already been scored\n",
        "\n",
        "secret = \"occur\"\n",
        "guess =  \"rocky\"\n",
        "\n",
        "#initialize these to the above scores\n",
        "score = expected_green_score\n",
        "secret_copy = expected_used_letters\n",
        "\n",
        "\n",
        "\n",
        "\n",
        "print(f\"green and yellow score:   {score}\")\n",
        "print(f\"letters_used:             {secret_copy}\")\n",
        "\n",
        "\n",
        "expected_score =   \"YYGBB\"\n",
        "expected_used =  \"!B!B!\"\n",
        "\n",
        "print(f\"expected score            {expected_score}\")\n",
        "print(f\"expected used             {expected_used}\")\n"
      ]
    },
    {
      "cell_type": "markdown",
      "id": "a434f728-fff9-417b-86a2-52d7e0d7f680",
      "metadata": {
        "id": "a434f728-fff9-417b-86a2-52d7e0d7f680"
      },
      "source": [
        "# Task 6: Assemble\n",
        "\n",
        "Put your total solution together below\n",
        "\n",
        "\n"
      ]
    },
    {
      "cell_type": "code",
      "execution_count": null,
      "id": "167da31d-2ebd-4a52-bc68-e6775831bc8f",
      "metadata": {
        "id": "167da31d-2ebd-4a52-bc68-e6775831bc8f",
        "outputId": "6ddae46a-ae0d-49d1-8024-54581218f81f"
      },
      "outputs": [
        {
          "name": "stdout",
          "output_type": "stream",
          "text": [
            "f r o n t "
          ]
        },
        {
          "data": {
            "text/html": [
              "<pre style=\"white-space:pre;overflow-x:auto;line-height:normal;font-family:Menlo,'DejaVu Sans Mono',consolas,'Courier New',monospace\"> <span style=\"color: #000000; text-decoration-color: #000000\">■</span> <span style=\"color: #000000; text-decoration-color: #000000\">■</span> <span style=\"color: #000000; text-decoration-color: #000000\">■</span> <span style=\"color: #000000; text-decoration-color: #000000\">■</span> <span style=\"color: #000000; text-decoration-color: #000000\">■</span> \n",
              "</pre>\n"
            ],
            "text/plain": [
              " \u001b[30m■\u001b[0m \u001b[30m■\u001b[0m \u001b[30m■\u001b[0m \u001b[30m■\u001b[0m \u001b[30m■\u001b[0m \n"
            ]
          },
          "metadata": {},
          "output_type": "display_data"
        }
      ],
      "source": [
        "import random\n",
        "import rich\n",
        "\n",
        "#Step 0: Generate a secret word\n",
        "\n",
        "#sometimes it helps to set a seed so we can \"control\" the randomness\n",
        "random.seed() #if no argument it goes back to no seed\n",
        "#random.seed(55)\n",
        "\n",
        "secret = random.choice(words)\n",
        "#secret = \"front\"\n",
        "#print(secret) #not a secret anymore\n",
        "\n",
        "#add your code here to get the guesses, repeate the game and scoring\n",
        "guess = \"front\"\n",
        "\n",
        "score = \"BBBBB\"\n",
        "secret_copy = secret\n",
        "\n",
        "\n",
        "\n",
        "\n",
        "\n",
        "#Helper Code to Format the output (probably goes inside your guessing loop\n",
        "formatted_out = \" \"\n",
        "for ch in score:\n",
        "    if ch == \"B\":\n",
        "        formatted_out += \"[black]■[/black] \"\n",
        "    elif ch == \"Y\":\n",
        "        formatted_out += \"[gold3]■[/gold3] \"\n",
        "    elif ch == \"G\":\n",
        "        formatted_out += \"[green]■[/green] \"\n",
        "\n",
        "for ch in guess:\n",
        "    print(f\"{ch}\", end=\" \")\n",
        "rich.print(formatted_out)\n",
        "\n",
        "\n",
        "\n",
        "#Code to say congratulations or show the secret word if too many attempts\n"
      ]
    },
    {
      "cell_type": "code",
      "execution_count": null,
      "id": "56533adf-8460-4dcc-9dbe-5b5048e64c86",
      "metadata": {
        "id": "56533adf-8460-4dcc-9dbe-5b5048e64c86",
        "outputId": "b1213c4d-2d38-4984-ceac-dec29fc83b75"
      },
      "outputs": [
        {
          "data": {
            "text/html": [
              "<pre style=\"white-space:pre;overflow-x:auto;line-height:normal;font-family:Menlo,'DejaVu Sans Mono',consolas,'Courier New',monospace\"><span style=\"color: #d7af00; text-decoration-color: #d7af00; font-weight: bold\">■</span> <span style=\"color: #d7af00; text-decoration-color: #d7af00; font-weight: bold\">■</span> <span style=\"color: #d7af00; text-decoration-color: #d7af00; font-weight: bold\">■</span> <span style=\"color: #d7af00; text-decoration-color: #d7af00; font-weight: bold\">■</span> <span style=\"color: #d7af00; text-decoration-color: #d7af00; font-weight: bold\">■</span>\n",
              "</pre>\n"
            ],
            "text/plain": [
              "\u001b[1;38;5;178m■\u001b[0m \u001b[1;38;5;178m■\u001b[0m \u001b[1;38;5;178m■\u001b[0m \u001b[1;38;5;178m■\u001b[0m \u001b[1;38;5;178m■\u001b[0m\n"
            ]
          },
          "metadata": {},
          "output_type": "display_data"
        }
      ],
      "source": [
        "# Share without exposing the solution\n",
        "\n",
        "# rich module\n",
        "from rich import print\n",
        "\n",
        "print(\"[bold gold3]■[/bold gold3] [bold gold3]■[/bold gold3] [bold gold3]■[/bold gold3] [bold gold3]■[/bold gold3]\"+\n",
        " \" [bold gold3]■[/bold gold3]\")"
      ]
    },
    {
      "cell_type": "markdown",
      "id": "d2f763b4-edd8-45e3-a53e-f80fa70a472e",
      "metadata": {
        "id": "d2f763b4-edd8-45e3-a53e-f80fa70a472e"
      },
      "source": [
        "<u>Some related (but not required) reading</u>\n",
        "\n",
        "Donald Knuth Paper\n",
        "\"The Computer As Master mind\":\n",
        "https://www.cs.uni.edu/~wallingf/teaching/cs3530/resources/knuth-mastermind.pdf\n",
        "\n",
        "Some instructors suspect that the ability to play mastermind predicts success in computer programming:\n",
        "\n",
        "\"MasterMind(c): A Predictor of Computer Programming Aptitude\"\n",
        "https://dl.acm.org/doi/pdf/10.1145/1138403.1138436\n",
        "\n"
      ]
    }
  ],
  "metadata": {
    "kernelspec": {
      "display_name": "Python 3 (ipykernel)",
      "language": "python",
      "name": "python3"
    },
    "language_info": {
      "codemirror_mode": {
        "name": "ipython",
        "version": 3
      },
      "file_extension": ".py",
      "mimetype": "text/x-python",
      "name": "python",
      "nbconvert_exporter": "python",
      "pygments_lexer": "ipython3",
      "version": "3.12.7"
    },
    "colab": {
      "provenance": [],
      "include_colab_link": true
    }
  },
  "nbformat": 4,
  "nbformat_minor": 5
}